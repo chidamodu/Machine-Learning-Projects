{
 "cells": [
  {
   "cell_type": "code",
   "execution_count": 14,
   "metadata": {},
   "outputs": [],
   "source": [
    "#import the necessary libraries/packages\n",
    "\n",
    "import pandas as pd\n",
    "import numpy as np"
   ]
  },
  {
   "cell_type": "code",
   "execution_count": 15,
   "metadata": {},
   "outputs": [],
   "source": [
    "#pandas has an option to read data from a text file, so let's use that\n",
    "\n",
    "df = pd.read_csv('/Users/chidam/Desktop/3d_road_network_project/3D_spatial_network.txt', sep=\",\", header=None)"
   ]
  },
  {
   "cell_type": "code",
   "execution_count": 16,
   "metadata": {},
   "outputs": [],
   "source": [
    "#let's give the columns some names to identify them\n",
    "\n",
    "df.rename(columns={0: \"mapid\", 1:\"longitude\", 2:\"latitude\", 3:\"height\"}, inplace=True)"
   ]
  },
  {
   "cell_type": "code",
   "execution_count": 17,
   "metadata": {},
   "outputs": [
    {
     "data": {
      "text/plain": [
       "77"
      ]
     },
     "execution_count": 17,
     "metadata": {},
     "output_type": "execute_result"
    }
   ],
   "source": [
    "#how many values are negative in height\n",
    "\n",
    "len(df.loc[df[\"height\"]<0, \"mapid\"].unique())\n"
   ]
  },
  {
   "cell_type": "code",
   "execution_count": 18,
   "metadata": {},
   "outputs": [
    {
     "data": {
      "text/html": [
       "<div>\n",
       "<style scoped>\n",
       "    .dataframe tbody tr th:only-of-type {\n",
       "        vertical-align: middle;\n",
       "    }\n",
       "\n",
       "    .dataframe tbody tr th {\n",
       "        vertical-align: top;\n",
       "    }\n",
       "\n",
       "    .dataframe thead th {\n",
       "        text-align: right;\n",
       "    }\n",
       "</style>\n",
       "<table border=\"1\" class=\"dataframe\">\n",
       "  <thead>\n",
       "    <tr style=\"text-align: right;\">\n",
       "      <th></th>\n",
       "      <th>mapid</th>\n",
       "      <th>longitude</th>\n",
       "      <th>latitude</th>\n",
       "      <th>height</th>\n",
       "    </tr>\n",
       "  </thead>\n",
       "  <tbody>\n",
       "    <tr>\n",
       "      <td>0</td>\n",
       "      <td>144552912</td>\n",
       "      <td>9.349849</td>\n",
       "      <td>56.740876</td>\n",
       "      <td>17.052772</td>\n",
       "    </tr>\n",
       "    <tr>\n",
       "      <td>1</td>\n",
       "      <td>144552912</td>\n",
       "      <td>9.350188</td>\n",
       "      <td>56.740679</td>\n",
       "      <td>17.614840</td>\n",
       "    </tr>\n",
       "    <tr>\n",
       "      <td>2</td>\n",
       "      <td>144552912</td>\n",
       "      <td>9.350549</td>\n",
       "      <td>56.740544</td>\n",
       "      <td>18.083536</td>\n",
       "    </tr>\n",
       "    <tr>\n",
       "      <td>3</td>\n",
       "      <td>144552912</td>\n",
       "      <td>9.350806</td>\n",
       "      <td>56.740484</td>\n",
       "      <td>18.279465</td>\n",
       "    </tr>\n",
       "    <tr>\n",
       "      <td>4</td>\n",
       "      <td>144552912</td>\n",
       "      <td>9.351053</td>\n",
       "      <td>56.740486</td>\n",
       "      <td>18.422974</td>\n",
       "    </tr>\n",
       "  </tbody>\n",
       "</table>\n",
       "</div>"
      ],
      "text/plain": [
       "       mapid  longitude   latitude     height\n",
       "0  144552912   9.349849  56.740876  17.052772\n",
       "1  144552912   9.350188  56.740679  17.614840\n",
       "2  144552912   9.350549  56.740544  18.083536\n",
       "3  144552912   9.350806  56.740484  18.279465\n",
       "4  144552912   9.351053  56.740486  18.422974"
      ]
     },
     "execution_count": 18,
     "metadata": {},
     "output_type": "execute_result"
    }
   ],
   "source": [
    "df.head()"
   ]
  },
  {
   "cell_type": "code",
   "execution_count": 19,
   "metadata": {},
   "outputs": [],
   "source": [
    "#converting latitude and longitude into radians\n",
    "\n",
    "df[\"longitude_radians\"]=df[\"longitude\"]*(180/3.14)\n",
    "\n",
    "df[\"latitude_radians\"]=df[\"latitude\"]*(180/3.14)\n"
   ]
  },
  {
   "cell_type": "code",
   "execution_count": 20,
   "metadata": {},
   "outputs": [
    {
     "data": {
      "text/html": [
       "<div>\n",
       "<style scoped>\n",
       "    .dataframe tbody tr th:only-of-type {\n",
       "        vertical-align: middle;\n",
       "    }\n",
       "\n",
       "    .dataframe tbody tr th {\n",
       "        vertical-align: top;\n",
       "    }\n",
       "\n",
       "    .dataframe thead th {\n",
       "        text-align: right;\n",
       "    }\n",
       "</style>\n",
       "<table border=\"1\" class=\"dataframe\">\n",
       "  <thead>\n",
       "    <tr style=\"text-align: right;\">\n",
       "      <th></th>\n",
       "      <th>mapid</th>\n",
       "      <th>longitude</th>\n",
       "      <th>latitude</th>\n",
       "      <th>height</th>\n",
       "      <th>longitude_radians</th>\n",
       "      <th>latitude_radians</th>\n",
       "    </tr>\n",
       "  </thead>\n",
       "  <tbody>\n",
       "    <tr>\n",
       "      <td>0</td>\n",
       "      <td>144552912</td>\n",
       "      <td>9.349849</td>\n",
       "      <td>56.740876</td>\n",
       "      <td>17.052772</td>\n",
       "      <td>535.978582</td>\n",
       "      <td>3252.661664</td>\n",
       "    </tr>\n",
       "    <tr>\n",
       "      <td>1</td>\n",
       "      <td>144552912</td>\n",
       "      <td>9.350188</td>\n",
       "      <td>56.740679</td>\n",
       "      <td>17.614840</td>\n",
       "      <td>535.998061</td>\n",
       "      <td>3252.650360</td>\n",
       "    </tr>\n",
       "    <tr>\n",
       "      <td>2</td>\n",
       "      <td>144552912</td>\n",
       "      <td>9.350549</td>\n",
       "      <td>56.740544</td>\n",
       "      <td>18.083536</td>\n",
       "      <td>536.018704</td>\n",
       "      <td>3252.642678</td>\n",
       "    </tr>\n",
       "    <tr>\n",
       "      <td>3</td>\n",
       "      <td>144552912</td>\n",
       "      <td>9.350806</td>\n",
       "      <td>56.740484</td>\n",
       "      <td>18.279465</td>\n",
       "      <td>536.033454</td>\n",
       "      <td>3252.639239</td>\n",
       "    </tr>\n",
       "    <tr>\n",
       "      <td>4</td>\n",
       "      <td>144552912</td>\n",
       "      <td>9.351053</td>\n",
       "      <td>56.740486</td>\n",
       "      <td>18.422974</td>\n",
       "      <td>536.047647</td>\n",
       "      <td>3252.639342</td>\n",
       "    </tr>\n",
       "  </tbody>\n",
       "</table>\n",
       "</div>"
      ],
      "text/plain": [
       "       mapid  longitude   latitude     height  longitude_radians  \\\n",
       "0  144552912   9.349849  56.740876  17.052772         535.978582   \n",
       "1  144552912   9.350188  56.740679  17.614840         535.998061   \n",
       "2  144552912   9.350549  56.740544  18.083536         536.018704   \n",
       "3  144552912   9.350806  56.740484  18.279465         536.033454   \n",
       "4  144552912   9.351053  56.740486  18.422974         536.047647   \n",
       "\n",
       "   latitude_radians  \n",
       "0       3252.661664  \n",
       "1       3252.650360  \n",
       "2       3252.642678  \n",
       "3       3252.639239  \n",
       "4       3252.639342  "
      ]
     },
     "execution_count": 20,
     "metadata": {},
     "output_type": "execute_result"
    }
   ],
   "source": [
    "df.head()"
   ]
  },
  {
   "cell_type": "code",
   "execution_count": 21,
   "metadata": {},
   "outputs": [
    {
     "data": {
      "text/plain": [
       "57329"
      ]
     },
     "execution_count": 21,
     "metadata": {},
     "output_type": "execute_result"
    }
   ],
   "source": [
    "len(df[\"mapid\"].unique())"
   ]
  },
  {
   "cell_type": "code",
   "execution_count": null,
   "metadata": {},
   "outputs": [],
   "source": [
    "#maybe it cannot pull the data load the kernel is dying. this is not working but kmeans does\n",
    "\n",
    "from sklearn.cluster import AgglomerativeClustering\n",
    "\n",
    "# creates 5 clusters using hierarchical clustering.\n",
    "agc = AgglomerativeClustering(n_clusters =55, affinity='euclidean', linkage='ward')\n",
    "df['clusters'] = agc.fit_predict(df[['latitude_radians','longitude_radians']])\n"
   ]
  },
  {
   "cell_type": "code",
   "execution_count": null,
   "metadata": {},
   "outputs": [],
   "source": [
    "# We can do pretty useful analysis using the clusters here. We shall figure out which mapids are in the same cluster and that\n",
    "# info can be later used in other studies such as carbon emissions at certain altitudes.\n",
    "\n",
    "\n",
    "\n",
    "\n",
    "\n"
   ]
  },
  {
   "cell_type": "code",
   "execution_count": 51,
   "metadata": {},
   "outputs": [
    {
     "data": {
      "text/html": [
       "<div>\n",
       "<style scoped>\n",
       "    .dataframe tbody tr th:only-of-type {\n",
       "        vertical-align: middle;\n",
       "    }\n",
       "\n",
       "    .dataframe tbody tr th {\n",
       "        vertical-align: top;\n",
       "    }\n",
       "\n",
       "    .dataframe thead th {\n",
       "        text-align: right;\n",
       "    }\n",
       "</style>\n",
       "<table border=\"1\" class=\"dataframe\">\n",
       "  <thead>\n",
       "    <tr style=\"text-align: right;\">\n",
       "      <th></th>\n",
       "      <th>mapid</th>\n",
       "      <th>longitude</th>\n",
       "      <th>latitude</th>\n",
       "      <th>height</th>\n",
       "      <th>longitude_radians</th>\n",
       "      <th>latitude_radians</th>\n",
       "      <th>cluster</th>\n",
       "      <th>cluster2</th>\n",
       "    </tr>\n",
       "  </thead>\n",
       "  <tbody>\n",
       "    <tr>\n",
       "      <td>0</td>\n",
       "      <td>144552912</td>\n",
       "      <td>9.349849</td>\n",
       "      <td>56.740876</td>\n",
       "      <td>17.052772</td>\n",
       "      <td>535.978582</td>\n",
       "      <td>3252.661664</td>\n",
       "      <td>8</td>\n",
       "      <td>5</td>\n",
       "    </tr>\n",
       "    <tr>\n",
       "      <td>1</td>\n",
       "      <td>144552912</td>\n",
       "      <td>9.350188</td>\n",
       "      <td>56.740679</td>\n",
       "      <td>17.614840</td>\n",
       "      <td>535.998061</td>\n",
       "      <td>3252.650360</td>\n",
       "      <td>8</td>\n",
       "      <td>5</td>\n",
       "    </tr>\n",
       "    <tr>\n",
       "      <td>2</td>\n",
       "      <td>144552912</td>\n",
       "      <td>9.350549</td>\n",
       "      <td>56.740544</td>\n",
       "      <td>18.083536</td>\n",
       "      <td>536.018704</td>\n",
       "      <td>3252.642678</td>\n",
       "      <td>8</td>\n",
       "      <td>5</td>\n",
       "    </tr>\n",
       "    <tr>\n",
       "      <td>3</td>\n",
       "      <td>144552912</td>\n",
       "      <td>9.350806</td>\n",
       "      <td>56.740484</td>\n",
       "      <td>18.279465</td>\n",
       "      <td>536.033454</td>\n",
       "      <td>3252.639239</td>\n",
       "      <td>8</td>\n",
       "      <td>5</td>\n",
       "    </tr>\n",
       "    <tr>\n",
       "      <td>4</td>\n",
       "      <td>144552912</td>\n",
       "      <td>9.351053</td>\n",
       "      <td>56.740486</td>\n",
       "      <td>18.422974</td>\n",
       "      <td>536.047647</td>\n",
       "      <td>3252.639342</td>\n",
       "      <td>8</td>\n",
       "      <td>5</td>\n",
       "    </tr>\n",
       "  </tbody>\n",
       "</table>\n",
       "</div>"
      ],
      "text/plain": [
       "       mapid  longitude   latitude     height  longitude_radians  \\\n",
       "0  144552912   9.349849  56.740876  17.052772         535.978582   \n",
       "1  144552912   9.350188  56.740679  17.614840         535.998061   \n",
       "2  144552912   9.350549  56.740544  18.083536         536.018704   \n",
       "3  144552912   9.350806  56.740484  18.279465         536.033454   \n",
       "4  144552912   9.351053  56.740486  18.422974         536.047647   \n",
       "\n",
       "   latitude_radians  cluster  cluster2  \n",
       "0       3252.661664        8         5  \n",
       "1       3252.650360        8         5  \n",
       "2       3252.642678        8         5  \n",
       "3       3252.639239        8         5  \n",
       "4       3252.639342        8         5  "
      ]
     },
     "execution_count": 51,
     "metadata": {},
     "output_type": "execute_result"
    }
   ],
   "source": [
    "df.head()"
   ]
  },
  {
   "cell_type": "code",
   "execution_count": 53,
   "metadata": {},
   "outputs": [],
   "source": [
    "df.drop([\"cluster\",\"cluster2\"], axis=1, inplace=True)"
   ]
  },
  {
   "cell_type": "code",
   "execution_count": 70,
   "metadata": {},
   "outputs": [],
   "source": [
    "df_cluster=df[[\"longitude_radians\",\"latitude_radians\"]]"
   ]
  },
  {
   "cell_type": "code",
   "execution_count": 71,
   "metadata": {},
   "outputs": [],
   "source": [
    "X1=df_cluster[:354874]\n",
    "X2=df_cluster[354874:]"
   ]
  },
  {
   "cell_type": "code",
   "execution_count": 72,
   "metadata": {},
   "outputs": [],
   "source": [
    "X_train=X1.values\n",
    "X_test=X2.values"
   ]
  },
  {
   "cell_type": "code",
   "execution_count": 73,
   "metadata": {},
   "outputs": [
    {
     "data": {
      "text/plain": [
       "array([[ 535.97858217, 3252.66166433],\n",
       "       [ 535.99806115, 3252.65035987],\n",
       "       [ 536.01870382, 3252.64267834],\n",
       "       ...,\n",
       "       [ 536.77311592, 3269.29297643],\n",
       "       [ 536.68535159, 3269.2873242 ],\n",
       "       [ 536.66264522, 3269.28471592]])"
      ]
     },
     "execution_count": 73,
     "metadata": {},
     "output_type": "execute_result"
    }
   ],
   "source": [
    "X_train"
   ]
  },
  {
   "cell_type": "code",
   "execution_count": 74,
   "metadata": {},
   "outputs": [
    {
     "data": {
      "text/plain": [
       "array([[ 536.62795796, 3269.2808121 ],\n",
       "       [ 536.58963631, 3269.27487898],\n",
       "       [ 536.56979045, 3269.27026433],\n",
       "       ...,\n",
       "       [ 569.52283758, 3296.13719045],\n",
       "       [ 570.00833312, 3295.94440127],\n",
       "       [ 570.00675669, 3295.96452229]])"
      ]
     },
     "execution_count": 74,
     "metadata": {},
     "output_type": "execute_result"
    }
   ],
   "source": [
    "X_test"
   ]
  },
  {
   "cell_type": "code",
   "execution_count": 80,
   "metadata": {},
   "outputs": [],
   "source": [
    "kmeans = KMeans(n_clusters=10, random_state=0).fit(X_train)\n",
    "label3=kmeans.labels_"
   ]
  },
  {
   "cell_type": "code",
   "execution_count": 81,
   "metadata": {},
   "outputs": [],
   "source": [
    "predicted_label=kmeans.predict(X_test)"
   ]
  },
  {
   "cell_type": "code",
   "execution_count": 82,
   "metadata": {},
   "outputs": [
    {
     "data": {
      "image/png": "[encoded data removed]",
      "text/plain": [
       "<Figure size 432x288 with 1 Axes>"
      ]
     },
     "metadata": {
      "needs_background": "light"
     },
     "output_type": "display_data"
    }
   ],
   "source": [
    "# Plot of 10 different clusters of latitude and longitude using KMeans\n",
    "\n",
    "plt.scatter(X1['latitude_radians'].tolist(), X1['longitude_radians'].tolist(), c=label3, s=50, cmap='viridis');\n"
   ]
  },
  {
   "cell_type": "code",
   "execution_count": 83,
   "metadata": {},
   "outputs": [
    {
     "data": {
      "image/png": "[encoded data removed]",
      "text/plain": [
       "<Figure size 432x288 with 1 Axes>"
      ]
     },
     "metadata": {
      "needs_background": "light"
     },
     "output_type": "display_data"
    }
   ],
   "source": [
    "#Let's plot the predicted labels here. Looks like the unsupervised model has clustered the values in appropriate\n",
    "#clusters.\n",
    "\n",
    "#But this is exactly what we cannot be so sure about an unsupervised algorithm, i.e., whether it has clustered the values \n",
    "#accurately as there are no metrics to measure its performance.\n",
    "\n",
    "#We can follow a few steps to address the above concerns:\n",
    "1. We can find the optimum number of clusters using elbow method or silhouette method or gap analysis. On a high level\n",
    "we plot the number of clusters against the error per each cluster. We can find the number of clusters where the error \n",
    "is the lowest.\n",
    "2. K-means algorithm suffers from the curse of dimensionality therefore it is better to make sure that we have normalized \n",
    "the distance before clustering. It is possible to convert the latitude and longitude into x, y, and z coordinates. The \n",
    "logic is that the values closer to these are also closer in reality. Why convert to x, y, and z you ask? \n",
    "Well, Lat long coordinates have a problem that they are 2 features that represent a three dimensional space. This \n",
    "means that the long coordinate goes all around, which means the two most extreme values are actually very close \n",
    "together. \n",
    "This can be an issue when using Kmeans algorithm, so it is good to convert the values and then cluster them. Instead of \n",
    "clustering latitudes and longitudes directly, we are converting them into x, y, and z and then clustering.\n",
    "3. With distance problem we can try dimensionality reduction using PCA and try clustering. Maybe it is possible to use \n",
    "this technique on the distance values we calculated for predicting the height. \n",
    "\n",
    "\n",
    "plt.scatter(X2['latitude_radians'].tolist(), X2['longitude_radians'].tolist(), c=predicted_label, s=50, cmap='viridis');\n",
    "\n"
   ]
  },
  {
   "cell_type": "code",
   "execution_count": 35,
   "metadata": {},
   "outputs": [],
   "source": [
    "Tried Random Forest: here I used latitude and longitude values directly. \n",
    "#here using cluster labels as proxy for mapid. these cluster labels were claculated using the previous method so cannot \n",
    "#be sure re its accuracy\n",
    "    \n",
    "    \n",
    "from sklearn.model_selection import train_test_split\n",
    "X_train, X_test, y_train, y_test = train_test_split(X, y, test_size=0.20, random_state=42)\n",
    "\n"
   ]
  },
  {
   "cell_type": "code",
   "execution_count": 36,
   "metadata": {},
   "outputs": [],
   "source": [
    "from sklearn.ensemble import RandomForestRegressor\n",
    "regr = RandomForestRegressor(max_depth=2, random_state=0)"
   ]
  },
  {
   "cell_type": "code",
   "execution_count": 37,
   "metadata": {},
   "outputs": [
    {
     "data": {
      "text/plain": [
       "RandomForestRegressor(bootstrap=True, ccp_alpha=0.0, criterion='mse',\n",
       "                      max_depth=2, max_features='auto', max_leaf_nodes=None,\n",
       "                      max_samples=None, min_impurity_decrease=0.0,\n",
       "                      min_impurity_split=None, min_samples_leaf=1,\n",
       "                      min_samples_split=2, min_weight_fraction_leaf=0.0,\n",
       "                      n_estimators=100, n_jobs=None, oob_score=False,\n",
       "                      random_state=0, verbose=0, warm_start=False)"
      ]
     },
     "execution_count": 37,
     "metadata": {},
     "output_type": "execute_result"
    }
   ],
   "source": [
    "regr.fit(X_train, y_train)"
   ]
  },
  {
   "cell_type": "code",
   "execution_count": 40,
   "metadata": {},
   "outputs": [],
   "source": [
    "y_predict=regr.predict(X_test)"
   ]
  },
  {
   "cell_type": "code",
   "execution_count": 39,
   "metadata": {},
   "outputs": [
    {
     "data": {
      "text/plain": [
       "array([29.3524817 , 45.70255166, 25.77711332, ..., 26.88957148,\n",
       "       29.98113701,  5.04264656])"
      ]
     },
     "execution_count": 39,
     "metadata": {},
     "output_type": "execute_result"
    }
   ],
   "source": [
    "y_test"
   ]
  },
  {
   "cell_type": "code",
   "execution_count": 41,
   "metadata": {},
   "outputs": [
    {
     "data": {
      "text/plain": [
       "86975"
      ]
     },
     "execution_count": 41,
     "metadata": {},
     "output_type": "execute_result"
    }
   ],
   "source": [
    "len(y_predict)"
   ]
  },
  {
   "cell_type": "code",
   "execution_count": 42,
   "metadata": {},
   "outputs": [
    {
     "data": {
      "image/png": "[encoded data removed]",
      "text/plain": [
       "<Figure size 432x288 with 1 Axes>"
      ]
     },
     "metadata": {
      "needs_background": "light"
     },
     "output_type": "display_data"
    }
   ],
   "source": [
    "x=np.arange(86975)\n",
    "\n",
    "plt.plot(x, y_test)\n",
    "plt.plot(x, y_predict)\n",
    "\n",
    "plt.legend(['y_test', 'y_predict'], loc='upper left')\n",
    "\n",
    "plt.show()\n",
    "\n",
    "#result:\n",
    "still the predicted results are far off to the original values. But this here is a tad better compared to the linear \n",
    "regression models outcome"
   ]
  },
  {
   "cell_type": "code",
   "execution_count": 43,
   "metadata": {},
   "outputs": [],
   "source": [
    "#trying with radian values of latitude and longitude instead, n_estimators=1000, and also with just 5 clusters\n",
    "\n",
    "regr2 = RandomForestRegressor(max_depth=2, n_estimators=1000, random_state=0)"
   ]
  },
  {
   "cell_type": "code",
   "execution_count": 44,
   "metadata": {},
   "outputs": [],
   "source": [
    "#here using cluster labels as proxy for mapid\n",
    "X2=df[[\"longitude_radians\",\"latitude_radians\",\"cluster2\"]].values"
   ]
  },
  {
   "cell_type": "code",
   "execution_count": 45,
   "metadata": {},
   "outputs": [],
   "source": [
    "y2=df[\"height\"].values"
   ]
  },
  {
   "cell_type": "code",
   "execution_count": 46,
   "metadata": {},
   "outputs": [],
   "source": [
    "X_train2, X_test2, y_train2, y_test2 = train_test_split(X2, y2, test_size=0.20, random_state=42)\n",
    "\n"
   ]
  },
  {
   "cell_type": "code",
   "execution_count": 47,
   "metadata": {},
   "outputs": [
    {
     "data": {
      "text/plain": [
       "RandomForestRegressor(bootstrap=True, ccp_alpha=0.0, criterion='mse',\n",
       "                      max_depth=2, max_features='auto', max_leaf_nodes=None,\n",
       "                      max_samples=None, min_impurity_decrease=0.0,\n",
       "                      min_impurity_split=None, min_samples_leaf=1,\n",
       "                      min_samples_split=2, min_weight_fraction_leaf=0.0,\n",
       "                      n_estimators=1000, n_jobs=None, oob_score=False,\n",
       "                      random_state=0, verbose=0, warm_start=False)"
      ]
     },
     "execution_count": 47,
     "metadata": {},
     "output_type": "execute_result"
    }
   ],
   "source": [
    "regr2.fit(X_train2, y_train2)"
   ]
  },
  {
   "cell_type": "code",
   "execution_count": 48,
   "metadata": {},
   "outputs": [],
   "source": [
    "y_predict2=regr.predict(X_test2)"
   ]
  },
  {
   "cell_type": "code",
   "execution_count": 49,
   "metadata": {},
   "outputs": [
    {
     "data": {
      "image/png": "[encoded data removed]",
      "text/plain": [
       "<Figure size 432x288 with 1 Axes>"
      ]
     },
     "metadata": {
      "needs_background": "light"
     },
     "output_type": "display_data"
    }
   ],
   "source": [
    "the combination of radians and cluster2 with 35 clusters did not work\n",
    "\n",
    "x=np.arange(86975)\n",
    "\n",
    "plt.plot(x, y_test2)\n",
    "plt.plot(x, y_predict2)\n",
    "\n",
    "plt.legend(['y_test', 'y_predict'], loc='upper left')\n",
    "\n",
    "plt.show()\n",
    "\n",
    "\n"
   ]
  },
  {
   "cell_type": "code",
   "execution_count": null,
   "metadata": {},
   "outputs": [],
   "source": [
    "further steps could be:\n",
    "1. connecting the dots between what connects the latitude and longitude with height better will shed more light on \n",
    "figuring out better features to predict height. \n",
    "\n"
   ]
  }
 ],
 "metadata": {
  "kernelspec": {
   "display_name": "Python 3",
   "language": "python",
   "name": "python3"
  },
  "language_info": {
   "codemirror_mode": {
    "name": "ipython",
    "version": 3
   },
   "file_extension": ".py",
   "mimetype": "text/x-python",
   "name": "python",
   "nbconvert_exporter": "python",
   "pygments_lexer": "ipython3",
   "version": "3.7.4"
  }
 },
 "nbformat": 4,
 "nbformat_minor": 2
}
