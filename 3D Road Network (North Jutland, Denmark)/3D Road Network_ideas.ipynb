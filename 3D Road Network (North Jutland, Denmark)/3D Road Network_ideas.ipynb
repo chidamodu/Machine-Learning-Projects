{
 "cells": [
  {
   "cell_type": "code",
   "execution_count": null,
   "metadata": {},
   "outputs": [],
   "source": [
    "ideas"
   ]
  },
  {
   "cell_type": "code",
   "execution_count": null,
   "metadata": {},
   "outputs": [],
   "source": [
    "average height difference per mapid\n",
    "average longitude difference\n",
    "average latitude difference\n",
    "average circumference that encompasses max latitude and longtitude points\n",
    "average longitude\n",
    "average latitude\n",
    "mapid -> treat it as orderly data and see (either convert them into bins or similar clusters)\n",
    "with a 3D map how many similar clusters of latitude and longitude exist (even can think about DBSCAN)\n",
    "does it make sense to demonstrate the relationship between the different mapids (meaning: whether a road intersects another road\n",
    "                                                                                or runs parallel etc?)\n",
    "\n",
    "I could do something with distance - center point\n",
    "\n",
    "techniques like:\n",
    "to use log transformed data\n",
    "check for assumptions of linear regression like normality, etc.,\n",
    "\n",
    "\n",
    "\n"
   ]
  }
 ],
 "metadata": {
  "kernelspec": {
   "display_name": "Python 3",
   "language": "python",
   "name": "python3"
  },
  "language_info": {
   "codemirror_mode": {
    "name": "ipython",
    "version": 3
   },
   "file_extension": ".py",
   "mimetype": "text/x-python",
   "name": "python",
   "nbconvert_exporter": "python",
   "pygments_lexer": "ipython3",
   "version": "3.7.4"
  }
 },
 "nbformat": 4,
 "nbformat_minor": 2
}
