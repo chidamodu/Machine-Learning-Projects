{
 "cells": [
  {
   "cell_type": "code",
   "execution_count": null,
   "metadata": {},
   "outputs": [],
   "source": [
    "Background\n",
    "\n",
    "Losing customers is costly for any business. Identifying unhappy customers early on gives you a chance to offer them \n",
    "incentives to stay. This notebook describes using machine learning (ML) for the automated identification of unhappy \n",
    "customers, also known as customer churn prediction. ML models rarely give perfect predictions though, so this \n",
    "notebook is also about how to incorporate the relative costs of prediction mistakes when determining the financial \n",
    "outcome of using ML.\n",
    "\n",
    "We use an example of churn that is familiar to all of us–leaving a mobile phone operator. Seems like I can always \n",
    "find fault with my provider du jour! And if my provider knows that I’m thinking of leaving, it can offer timely \n",
    "incentives–I can always use a phone upgrade or perhaps have a new feature activated–and I might just stick around. \n",
    "Incentives are often much more cost effective than losing and reacquiring a customer.\n",
    "\n",
    "\n"
   ]
  },
  {
   "cell_type": "code",
   "execution_count": null,
   "metadata": {},
   "outputs": [],
   "source": [
    "Setup\n",
    "This notebook was created and tested on an ml.m4.xlarge notebook instance.\n",
    "\n",
    "Lets start by specifying:\n",
    "\n",
    "The S3 bucket and prefix that you want to use for training and model data. This should be within the same region as \n",
    "the Notebook Instance, training, and hosting.\n",
    "The IAM role arn used to give training and hosting access to your data. See the documentation for how to create these. \n",
    "Note, if more than one role is required for notebook instances, training, and/or hosting, please replace the boto \n",
    "regexp with a the appropriate full IAM role arn string(s)."
   ]
  },
  {
   "cell_type": "code",
   "execution_count": null,
   "metadata": {},
   "outputs": [],
   "source": [
    "bucket = '<your_s3_bucket_name_here>'\n",
    "prefix = 'sagemaker/DEMO-xgboost-churn'\n",
    "\n",
    "# Define IAM role\n",
    "import boto3\n",
    "import re\n",
    "from sagemaker import get_execution_role\n",
    "\n",
    "role = get_execution_role()\n"
   ]
  },
  {
   "cell_type": "code",
   "execution_count": null,
   "metadata": {},
   "outputs": [],
   "source": [
    "Next, we'll import the Python libraries we'll need for the remainder of the exercise.\n",
    "\n",
    "import pandas as pd\n",
    "import numpy as np\n",
    "import matplotlib.pyplot as plt\n",
    "import io\n",
    "import os\n",
    "import sys\n",
    "import time\n",
    "import json\n",
    "from IPython.display import display\n",
    "from time import strftime, gmtime\n",
    "import sagemaker\n",
    "from sagemaker.predictor import csv_serializer"
   ]
  },
  {
   "cell_type": "code",
   "execution_count": null,
   "metadata": {},
   "outputs": [],
   "source": [
    "Data\n",
    "Mobile operators have historical records on which customers ultimately ended up churning and which continued using the \n",
    "service. We can use this historical information to construct an ML model of one mobile operator’s churn using a \n",
    "process called training. After training the model, we can pass the profile information of an arbitrary customer \n",
    "(the same profile information that we used to train the model) to the model, and have the model predict whether\n",
    "this customer is going to churn. Of course, we expect the model to make mistakes–after all, predicting the future is \n",
    "tricky business! But I’ll also show how to deal with prediction errors.\n",
    "\n",
    "The dataset we use is publicly available and was mentioned in the book Discovering Knowledge in Data by Daniel T. \n",
    "Larose. It is attributed by the author to the University of California Irvine Repository of Machine Learning Datasets. \n",
    "Let's download and read that dataset in now:\n",
    "\n"
   ]
  },
  {
   "cell_type": "code",
   "execution_count": null,
   "metadata": {},
   "outputs": [],
   "source": [
    "!wget http://dataminingconsultant.com/DKD2e_data_sets.zip\n",
    "!unzip -o DKD2e_data_sets.zip"
   ]
  },
  {
   "cell_type": "code",
   "execution_count": null,
   "metadata": {},
   "outputs": [],
   "source": [
    "churn = pd.read_csv('./Data sets/churn.txt')\n",
    "pd.set_option('display.max_columns', 500)\n",
    "churn"
   ]
  },
  {
   "cell_type": "code",
   "execution_count": null,
   "metadata": {},
   "outputs": [],
   "source": [
    "By modern standards, it’s a relatively small dataset, with only 3,333 records, where each record uses 21 attributes to \n",
    "describe the profile of a customer of an unknown US mobile operator. The attributes are:\n",
    "\n",
    "State: the US state in which the customer resides, indicated by a two-letter abbreviation; for example, OH or NJ\n",
    "Account Length: the number of days that this account has been active\n",
    "Area Code: the three-digit area code of the corresponding customer’s phone number\n",
    "Phone: the remaining seven-digit phone number\n",
    "Int’l Plan: whether the customer has an international calling plan: yes/no\n",
    "VMail Plan: whether the customer has a voice mail feature: yes/no\n",
    "VMail Message: presumably the average number of voice mail messages per month\n",
    "Day Mins: the total number of calling minutes used during the day\n",
    "Day Calls: the total number of calls placed during the day\n",
    "Day Charge: the billed cost of daytime calls\n",
    "Eve Mins, Eve Calls, Eve Charge: the billed cost for calls placed during the evening\n",
    "Night Mins, Night Calls, Night Charge: the billed cost for calls placed during nighttime\n",
    "Intl Mins, Intl Calls, Intl Charge: the billed cost for international calls\n",
    "CustServ Calls: the number of calls placed to Customer Service\n",
    "Churn?: whether the customer left the service: true/false\n",
    "The last attribute, Churn?, is known as the target attribute–the attribute that we want the ML model to predict. \n",
    "\n",
    "Because the target attribute is binary, our model will be performing binary prediction, also known as binary \n",
    "classification.\n",
    "\n"
   ]
  },
  {
   "cell_type": "code",
   "execution_count": null,
   "metadata": {},
   "outputs": [],
   "source": [
    "Let's begin exploring the data:\n",
    "\n",
    "# Frequency tables for each categorical feature\n",
    "for column in churn.select_dtypes(include=['object']).columns:\n",
    "    display(pd.crosstab(index=churn[column], columns='% observations', normalize='columns'))\n",
    "\n",
    "# Histograms for each numeric features\n",
    "display(churn.describe())\n",
    "%matplotlib inline\n",
    "hist = churn.hist(bins=30, sharey=True, figsize=(10, 10))\n",
    "\n",
    "\n",
    "We can see immediately that:\n",
    "\n",
    "State appears to be quite evenly distributed\n",
    "\n",
    "Phone takes on too many unique values to be of any practical use. It's possible parsing out the prefix could have \n",
    "some value, but without more context on how these are allocated, we should avoid using it.\n",
    "\n",
    "Only 14% of customers churned, so there is some class imabalance, but nothing extreme.\n",
    "\n",
    "Most of the numeric features are surprisingly nicely distributed, with many showing bell-like gaussianity. \n",
    "\n",
    "VMail Message being a notable exception (and Area Code showing up as a feature we should convert to non-numeric).\n",
    "\n"
   ]
  },
  {
   "cell_type": "code",
   "execution_count": null,
   "metadata": {},
   "outputs": [],
   "source": [
    "churn = churn.drop('Phone', axis=1)\n",
    "churn['Area Code'] = churn['Area Code'].astype(object)"
   ]
  },
  {
   "cell_type": "code",
   "execution_count": null,
   "metadata": {},
   "outputs": [],
   "source": [
    "Next let's look at the relationship between each of the features and our target variable.\n",
    "\n",
    "for column in churn.select_dtypes(include=['object']).columns:\n",
    "    if column != 'Churn?':\n",
    "        display(pd.crosstab(index=churn[column], columns=churn['Churn?'], normalize='columns'))\n",
    "\n",
    "for column in churn.select_dtypes(exclude=['object']).columns:\n",
    "    print(column)\n",
    "    hist = churn[[column, 'Churn?']].hist(by='Churn?', bins=30)\n",
    "    plt.show()\n",
    "    "
   ]
  },
  {
   "cell_type": "code",
   "execution_count": null,
   "metadata": {},
   "outputs": [],
   "source": [
    "Interestingly we see that churners appear:\n",
    "\n",
    "Fairly evenly distributed geographically\n",
    "\n",
    "More likely to have an international plan\n",
    "\n",
    "Less likely to have a voicemail plan\n",
    "\n",
    "To exhibit some bimodality in daily minutes (either higher or lower than the average for non-churners)\n",
    "\n",
    "To have a larger number of customer service calls (which makes sense as we'd expect customers who experience lots of \n",
    "                                                   problems may be more likely to churn)\n",
    "\n",
    "In addition, we see that churners take on very similar distributions for features like Day Mins and Day Charge. \n",
    "That's not surprising as we'd expect minutes spent talking to correlate with charges. Let's dig deeper into the \n",
    "relationships between our features.\n",
    "                                                   \n",
    "                                                   "
   ]
  },
  {
   "cell_type": "code",
   "execution_count": null,
   "metadata": {},
   "outputs": [],
   "source": [
    "display(churn.corr())\n",
    "pd.plotting.scatter_matrix(churn, figsize=(12, 12))\n",
    "plt.show()"
   ]
  },
  {
   "cell_type": "code",
   "execution_count": null,
   "metadata": {},
   "outputs": [],
   "source": [
    "We see several features that essentially have 100% correlation with one another. Including these feature pairs in \n",
    "some machine learning algorithms can create catastrophic problems, while in others it will only introduce minor \n",
    "redundancy and bias. Let's remove one feature from each of the highly correlated pairs: Day Charge from the pair \n",
    "with Day Mins, Night Charge from the pair with Night Mins, Intl Charge from the pair with Intl Mins:\n",
    "\n"
   ]
  },
  {
   "cell_type": "code",
   "execution_count": null,
   "metadata": {},
   "outputs": [],
   "source": [
    "churn = churn.drop(['Day Charge', 'Eve Charge', 'Night Charge', 'Intl Charge'], axis=1)"
   ]
  },
  {
   "cell_type": "code",
   "execution_count": null,
   "metadata": {},
   "outputs": [],
   "source": [
    "Now that we've cleaned up our dataset, let's determine which algorithm to use. As mentioned above, there appear to be some variables where both high and low (but not intermediate) values are predictive of churn. In order to accommodate this in an algorithm like linear regression, we'd need to generate polynomial (or bucketed) terms. Instead, let's attempt to model this problem using gradient boosted trees. Amazon SageMaker provides an XGBoost container that we can use to train in a managed, distributed setting, and then host as a real-time prediction endpoint. XGBoost uses gradient boosted trees which naturally account for non-linear relationships between features and the target variable, as well as accommodating complex interactions between features.\n",
    "\n",
    "Amazon SageMaker XGBoost can train on data in either a CSV or LibSVM format. For this example, we'll stick with CSV. \n",
    "It should:\n",
    "\n",
    "Have the predictor variable in the first column\n",
    "Not have a header row"
   ]
  },
  {
   "cell_type": "code",
   "execution_count": null,
   "metadata": {},
   "outputs": [],
   "source": [
    "But first, let's convert our categorical features into numeric features.\n",
    "\n",
    "model_data = pd.get_dummies(churn)\n",
    "model_data = pd.concat([model_data['Churn?_True.'], model_data.drop(['Churn?_False.', 'Churn?_True.'], axis=1)], axis=1)\n",
    "\n"
   ]
  },
  {
   "cell_type": "code",
   "execution_count": null,
   "metadata": {},
   "outputs": [],
   "source": [
    "And now let's split the data into training, validation, and test sets. This will help prevent us from overfitting the \n",
    "model, and allow us to test the models accuracy on data it hasn't already seen.\n",
    "\n",
    "train_data, validation_data, test_data = np.split(model_data.sample(frac=1, random_state=1729), \n",
    "                                                  [int(0.7 * len(model_data)), int(0.9 * len(model_data))])\n",
    "\n",
    "train_data.to_csv('train.csv', header=False, index=False)\n",
    "\n",
    "validation_data.to_csv('validation.csv', header=False, index=False)\n"
   ]
  },
  {
   "cell_type": "code",
   "execution_count": null,
   "metadata": {},
   "outputs": [],
   "source": [
    "Now we'll upload these files to S3.\n",
    "\n",
    "boto3.Session().resource('s3').Bucket(bucket).Object(os.path.join(prefix, 'train/train.csv')).upload_file('train.csv')\n",
    "\n",
    "\n",
    "boto3.Session().resource('s3').Bucket(bucket).Object(os.path.join(prefix, 'validation/validation.csv')).upload_file('validation.csv')\n",
    "\n"
   ]
  },
  {
   "cell_type": "code",
   "execution_count": null,
   "metadata": {},
   "outputs": [],
   "source": [
    "Train\n",
    "\n",
    "Moving onto training, first we'll need to specify the locations of the XGBoost algorithm containers."
   ]
  },
  {
   "cell_type": "code",
   "execution_count": null,
   "metadata": {},
   "outputs": [],
   "source": [
    "from sagemaker.amazon.amazon_estimator import get_image_uri\n",
    "container = get_image_uri(boto3.Session().region_name, 'xgboost')"
   ]
  },
  {
   "cell_type": "code",
   "execution_count": null,
   "metadata": {},
   "outputs": [],
   "source": [
    "Then, because we're training with the CSV file format, we'll create s3_inputs that our training function can use as a \n",
    "pointer to the files in S3.\n",
    "\n",
    "\n",
    "s3_input_train = sagemaker.s3_input(s3_data='s3://{}/{}/train'.format(bucket, prefix), content_type='csv')\n",
    "s3_input_validation = sagemaker.s3_input(s3_data='s3://{}/{}/validation/'.format(bucket, prefix), content_type='csv')\n"
   ]
  },
  {
   "cell_type": "code",
   "execution_count": null,
   "metadata": {},
   "outputs": [],
   "source": [
    "Now, we can specify a few parameters like what type of training instances we'd like to use and how many, as well as our XGBoost hyperparameters. A few key hyperparameters are:\n",
    "\n",
    "max_depth controls how deep each tree within the algorithm can be built. Deeper trees can lead to better fit, but are more computationally expensive and can lead to overfitting. There is typically some trade-off in model performance that needs to be explored between a large number of shallow trees and a smaller number of deeper trees.\n",
    "subsample controls sampling of the training data. This technique can help reduce overfitting, but setting it too low can also starve the model of data.\n",
    "num_round controls the number of boosting rounds. This is essentially the subsequent models that are trained using the residuals of previous iterations. Again, more rounds should produce a better fit on the training data, but can be computationally expensive or lead to overfitting.\n",
    "eta controls how aggressive each round of boosting is. Larger values lead to more conservative boosting.\n",
    "gamma controls how aggressively trees are grown. Larger values lead to more conservative models.\n"
   ]
  },
  {
   "cell_type": "code",
   "execution_count": null,
   "metadata": {},
   "outputs": [],
   "source": [
    "sess = sagemaker.Session()\n",
    "\n",
    "xgb = sagemaker.estimator.Estimator(container,\n",
    "                                    role, \n",
    "                                    train_instance_count=1, \n",
    "                                    train_instance_type='ml.m4.xlarge',\n",
    "                                    output_path='s3://{}/{}/output'.format(bucket, prefix),\n",
    "                                    sagemaker_session=sess)\n",
    "xgb.set_hyperparameters(max_depth=5,\n",
    "                        eta=0.2,\n",
    "                        gamma=4,\n",
    "                        min_child_weight=6,\n",
    "                        subsample=0.8,\n",
    "                        silent=0,\n",
    "                        objective='binary:logistic',\n",
    "                        num_round=100)\n",
    "\n",
    "xgb.fit({'train': s3_input_train, 'validation': s3_input_validation})"
   ]
  },
  {
   "cell_type": "code",
   "execution_count": null,
   "metadata": {},
   "outputs": [],
   "source": [
    "\n",
    "Compile\n"
   ]
  },
  {
   "cell_type": "code",
   "execution_count": null,
   "metadata": {},
   "outputs": [],
   "source": [
    "Amazon SageMaker Neo optimizes models to run up to twice as fast, with no loss in accuracy. When calling \n",
    "compile_model() function, we specify the target instance family (m4) as well as the S3 bucket to which the \n",
    "compiled model would be stored.\n",
    "\n",
    "compiled_model = xgb\n",
    "if xgb.create_model().check_neo_region(boto3.Session().region_name) is False:\n",
    "    print('Neo is not currently supported in', boto3.Session().region_name)\n",
    "else:\n",
    "    output_path = '/'.join(xgb.output_path.split('/')[:-1])\n",
    "    compiled_model = xgb.compile_model(target_instance_family='ml_m4', \n",
    "                                       input_shape={'data': [1, 69]},\n",
    "                                       role=role,\n",
    "                                       framework='xgboost',\n",
    "                                       framework_version='0.7',\n",
    "                                       output_path=output_path)\n",
    "    compiled_model.name = 'deployed-xgboost-customer-churn'\n",
    "    compiled_model.image = get_image_uri(sess.boto_region_name, 'xgboost-neo', repo_version='latest')"
   ]
  },
  {
   "cell_type": "code",
   "execution_count": null,
   "metadata": {},
   "outputs": [],
   "source": [
    "Host\n"
   ]
  },
  {
   "cell_type": "code",
   "execution_count": null,
   "metadata": {},
   "outputs": [],
   "source": [
    "Now that we've trained the algorithm, let's create a model and deploy it to a hosted endpoint.\n",
    "\n",
    "xgb_predictor = compiled_model.deploy(initial_instance_count = 1, instance_type = 'ml.m4.xlarge')"
   ]
  },
  {
   "cell_type": "code",
   "execution_count": null,
   "metadata": {},
   "outputs": [],
   "source": [
    "\n",
    "Evaluate\n"
   ]
  },
  {
   "cell_type": "code",
   "execution_count": null,
   "metadata": {},
   "outputs": [],
   "source": [
    "Now that we have a hosted endpoint running, we can make real-time predictions from our model very easily, \n",
    "simply by making an http POST request. But first, we'll need to setup serializers and deserializers for passing our \n",
    "test_data NumPy arrays to the model behind the endpoint.\n",
    "\n",
    "\n",
    "xgb_predictor.content_type = 'text/csv'\n",
    "xgb_predictor.serializer = csv_serializer\n",
    "xgb_predictor.deserializer = None\n",
    "\n",
    "Now, we'll use a simple function to:\n",
    "\n",
    "Loop over our test dataset\n",
    "\n",
    "Split it into mini-batches of rows\n",
    "\n",
    "Convert those mini-batchs to CSV string payloads\n",
    "\n",
    "Retrieve mini-batch predictions by invoking the XGBoost endpoint\n",
    "\n",
    "Collect predictions and convert from the CSV output our model provides into a NumPy array\n",
    "\n"
   ]
  },
  {
   "cell_type": "code",
   "execution_count": null,
   "metadata": {},
   "outputs": [],
   "source": [
    "def predict(data, rows=500):\n",
    "    split_array = np.array_split(data, int(data.shape[0] / float(rows) + 1))\n",
    "    predictions = ''\n",
    "    for array in split_array:\n",
    "        predictions = ','.join([predictions, xgb_predictor.predict(array).decode('utf-8')])\n",
    "\n",
    "    return np.fromstring(predictions[1:], sep=',')\n",
    "\n",
    "predictions = predict(test_data.to_numpy()[:,1:])\n"
   ]
  }
 ],
 "metadata": {
  "kernelspec": {
   "display_name": "Python 3",
   "language": "python",
   "name": "python3"
  },
  "language_info": {
   "codemirror_mode": {
    "name": "ipython",
    "version": 3
   },
   "file_extension": ".py",
   "mimetype": "text/x-python",
   "name": "python",
   "nbconvert_exporter": "python",
   "pygments_lexer": "ipython3",
   "version": "3.7.4"
  }
 },
 "nbformat": 4,
 "nbformat_minor": 2
}
