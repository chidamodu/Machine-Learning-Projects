{
 "cells": [
  {
   "cell_type": "code",
   "execution_count": 26,
   "metadata": {},
   "outputs": [],
   "source": [
    "import pandas as pd\n",
    "import seaborn as sns\n",
    "import matplotlib.pyplot as plt\n",
    "%matplotlib inline"
   ]
  },
  {
   "cell_type": "code",
   "execution_count": 2,
   "metadata": {},
   "outputs": [],
   "source": [
    "df=pd.read_csv(\"/Users/chidam/Desktop/burritos_dataset.csv\")"
   ]
  },
  {
   "cell_type": "code",
   "execution_count": 3,
   "metadata": {},
   "outputs": [
    {
     "data": {
      "text/html": [
       "<div>\n",
       "<style scoped>\n",
       "    .dataframe tbody tr th:only-of-type {\n",
       "        vertical-align: middle;\n",
       "    }\n",
       "\n",
       "    .dataframe tbody tr th {\n",
       "        vertical-align: top;\n",
       "    }\n",
       "\n",
       "    .dataframe thead th {\n",
       "        text-align: right;\n",
       "    }\n",
       "</style>\n",
       "<table border=\"1\" class=\"dataframe\">\n",
       "  <thead>\n",
       "    <tr style=\"text-align: right;\">\n",
       "      <th></th>\n",
       "      <th>Location</th>\n",
       "      <th>Burrito</th>\n",
       "      <th>Date</th>\n",
       "      <th>Neighborhood</th>\n",
       "      <th>Address</th>\n",
       "      <th>URL</th>\n",
       "      <th>Yelp</th>\n",
       "      <th>Google</th>\n",
       "      <th>Chips</th>\n",
       "      <th>Cost</th>\n",
       "      <th>...</th>\n",
       "      <th>Lobster</th>\n",
       "      <th>Queso</th>\n",
       "      <th>Egg</th>\n",
       "      <th>Mushroom</th>\n",
       "      <th>Bacon</th>\n",
       "      <th>Sushi</th>\n",
       "      <th>Avocado</th>\n",
       "      <th>Corn</th>\n",
       "      <th>Zucchini</th>\n",
       "      <th>Great</th>\n",
       "    </tr>\n",
       "  </thead>\n",
       "  <tbody>\n",
       "    <tr>\n",
       "      <td>0</td>\n",
       "      <td>Donato's taco shop</td>\n",
       "      <td>California</td>\n",
       "      <td>1/18/2016</td>\n",
       "      <td>Miramar</td>\n",
       "      <td>6780 Miramar Rd</td>\n",
       "      <td>http://donatostacoshop.net/</td>\n",
       "      <td>3.5</td>\n",
       "      <td>4.2</td>\n",
       "      <td>NaN</td>\n",
       "      <td>6.49</td>\n",
       "      <td>...</td>\n",
       "      <td>NaN</td>\n",
       "      <td>NaN</td>\n",
       "      <td>NaN</td>\n",
       "      <td>NaN</td>\n",
       "      <td>NaN</td>\n",
       "      <td>NaN</td>\n",
       "      <td>NaN</td>\n",
       "      <td>NaN</td>\n",
       "      <td>NaN</td>\n",
       "      <td>False</td>\n",
       "    </tr>\n",
       "    <tr>\n",
       "      <td>1</td>\n",
       "      <td>Oscar's Mexican food</td>\n",
       "      <td>California</td>\n",
       "      <td>1/24/2016</td>\n",
       "      <td>San Marcos</td>\n",
       "      <td>225 S Rancho Santa Fe Rd</td>\n",
       "      <td>http://www.yelp.com/biz/oscars-mexican-food-sa...</td>\n",
       "      <td>3.5</td>\n",
       "      <td>3.3</td>\n",
       "      <td>NaN</td>\n",
       "      <td>5.45</td>\n",
       "      <td>...</td>\n",
       "      <td>NaN</td>\n",
       "      <td>NaN</td>\n",
       "      <td>NaN</td>\n",
       "      <td>NaN</td>\n",
       "      <td>NaN</td>\n",
       "      <td>NaN</td>\n",
       "      <td>NaN</td>\n",
       "      <td>NaN</td>\n",
       "      <td>NaN</td>\n",
       "      <td>False</td>\n",
       "    </tr>\n",
       "    <tr>\n",
       "      <td>2</td>\n",
       "      <td>Oscar's Mexican food</td>\n",
       "      <td>Carnitas</td>\n",
       "      <td>1/24/2016</td>\n",
       "      <td>NaN</td>\n",
       "      <td>NaN</td>\n",
       "      <td>NaN</td>\n",
       "      <td>NaN</td>\n",
       "      <td>NaN</td>\n",
       "      <td>NaN</td>\n",
       "      <td>4.85</td>\n",
       "      <td>...</td>\n",
       "      <td>NaN</td>\n",
       "      <td>NaN</td>\n",
       "      <td>NaN</td>\n",
       "      <td>NaN</td>\n",
       "      <td>NaN</td>\n",
       "      <td>NaN</td>\n",
       "      <td>NaN</td>\n",
       "      <td>NaN</td>\n",
       "      <td>NaN</td>\n",
       "      <td>False</td>\n",
       "    </tr>\n",
       "    <tr>\n",
       "      <td>3</td>\n",
       "      <td>Oscar's Mexican food</td>\n",
       "      <td>Carne asada</td>\n",
       "      <td>1/24/2016</td>\n",
       "      <td>NaN</td>\n",
       "      <td>NaN</td>\n",
       "      <td>NaN</td>\n",
       "      <td>NaN</td>\n",
       "      <td>NaN</td>\n",
       "      <td>NaN</td>\n",
       "      <td>5.25</td>\n",
       "      <td>...</td>\n",
       "      <td>NaN</td>\n",
       "      <td>NaN</td>\n",
       "      <td>NaN</td>\n",
       "      <td>NaN</td>\n",
       "      <td>NaN</td>\n",
       "      <td>NaN</td>\n",
       "      <td>NaN</td>\n",
       "      <td>NaN</td>\n",
       "      <td>NaN</td>\n",
       "      <td>False</td>\n",
       "    </tr>\n",
       "    <tr>\n",
       "      <td>4</td>\n",
       "      <td>Pollos Maria</td>\n",
       "      <td>California</td>\n",
       "      <td>1/27/2016</td>\n",
       "      <td>Carlsbad</td>\n",
       "      <td>3055 Harding St</td>\n",
       "      <td>http://pollosmaria.com/</td>\n",
       "      <td>4.0</td>\n",
       "      <td>3.8</td>\n",
       "      <td>x</td>\n",
       "      <td>6.59</td>\n",
       "      <td>...</td>\n",
       "      <td>NaN</td>\n",
       "      <td>NaN</td>\n",
       "      <td>NaN</td>\n",
       "      <td>NaN</td>\n",
       "      <td>NaN</td>\n",
       "      <td>NaN</td>\n",
       "      <td>NaN</td>\n",
       "      <td>NaN</td>\n",
       "      <td>NaN</td>\n",
       "      <td>True</td>\n",
       "    </tr>\n",
       "  </tbody>\n",
       "</table>\n",
       "<p>5 rows × 65 columns</p>\n",
       "</div>"
      ],
      "text/plain": [
       "               Location      Burrito       Date Neighborhood  \\\n",
       "0    Donato's taco shop  California   1/18/2016      Miramar   \n",
       "1  Oscar's Mexican food  California   1/24/2016   San Marcos   \n",
       "2  Oscar's Mexican food     Carnitas  1/24/2016          NaN   \n",
       "3  Oscar's Mexican food  Carne asada  1/24/2016          NaN   \n",
       "4          Pollos Maria   California  1/27/2016     Carlsbad   \n",
       "\n",
       "                    Address  \\\n",
       "0           6780 Miramar Rd   \n",
       "1  225 S Rancho Santa Fe Rd   \n",
       "2                       NaN   \n",
       "3                       NaN   \n",
       "4           3055 Harding St   \n",
       "\n",
       "                                                 URL  Yelp  Google Chips  \\\n",
       "0                        http://donatostacoshop.net/   3.5     4.2   NaN   \n",
       "1  http://www.yelp.com/biz/oscars-mexican-food-sa...   3.5     3.3   NaN   \n",
       "2                                                NaN   NaN     NaN   NaN   \n",
       "3                                                NaN   NaN     NaN   NaN   \n",
       "4                            http://pollosmaria.com/   4.0     3.8     x   \n",
       "\n",
       "   Cost  ...  Lobster  Queso  Egg  Mushroom  Bacon  Sushi  Avocado  Corn  \\\n",
       "0  6.49  ...      NaN    NaN  NaN       NaN    NaN    NaN      NaN   NaN   \n",
       "1  5.45  ...      NaN    NaN  NaN       NaN    NaN    NaN      NaN   NaN   \n",
       "2  4.85  ...      NaN    NaN  NaN       NaN    NaN    NaN      NaN   NaN   \n",
       "3  5.25  ...      NaN    NaN  NaN       NaN    NaN    NaN      NaN   NaN   \n",
       "4  6.59  ...      NaN    NaN  NaN       NaN    NaN    NaN      NaN   NaN   \n",
       "\n",
       "   Zucchini  Great  \n",
       "0       NaN  False  \n",
       "1       NaN  False  \n",
       "2       NaN  False  \n",
       "3       NaN  False  \n",
       "4       NaN   True  \n",
       "\n",
       "[5 rows x 65 columns]"
      ]
     },
     "execution_count": 3,
     "metadata": {},
     "output_type": "execute_result"
    }
   ],
   "source": [
    "df.head()"
   ]
  },
  {
   "cell_type": "code",
   "execution_count": 4,
   "metadata": {},
   "outputs": [
    {
     "data": {
      "text/plain": [
       "421"
      ]
     },
     "execution_count": 4,
     "metadata": {},
     "output_type": "execute_result"
    }
   ],
   "source": [
    "len(df)"
   ]
  },
  {
   "cell_type": "code",
   "execution_count": 5,
   "metadata": {},
   "outputs": [],
   "source": [
    "train=pd.read_csv(\"/Users/chidam/Desktop/burritos_train_set.csv\")"
   ]
  },
  {
   "cell_type": "code",
   "execution_count": 6,
   "metadata": {},
   "outputs": [
    {
     "data": {
      "text/html": [
       "<div>\n",
       "<style scoped>\n",
       "    .dataframe tbody tr th:only-of-type {\n",
       "        vertical-align: middle;\n",
       "    }\n",
       "\n",
       "    .dataframe tbody tr th {\n",
       "        vertical-align: top;\n",
       "    }\n",
       "\n",
       "    .dataframe thead th {\n",
       "        text-align: right;\n",
       "    }\n",
       "</style>\n",
       "<table border=\"1\" class=\"dataframe\">\n",
       "  <thead>\n",
       "    <tr style=\"text-align: right;\">\n",
       "      <th></th>\n",
       "      <th>Location</th>\n",
       "      <th>Burrito</th>\n",
       "      <th>Date</th>\n",
       "      <th>Neighborhood</th>\n",
       "      <th>Address</th>\n",
       "      <th>URL</th>\n",
       "      <th>Yelp</th>\n",
       "      <th>Google</th>\n",
       "      <th>Chips</th>\n",
       "      <th>Cost</th>\n",
       "      <th>...</th>\n",
       "      <th>Lobster</th>\n",
       "      <th>Queso</th>\n",
       "      <th>Egg</th>\n",
       "      <th>Mushroom</th>\n",
       "      <th>Bacon</th>\n",
       "      <th>Sushi</th>\n",
       "      <th>Avocado</th>\n",
       "      <th>Corn</th>\n",
       "      <th>Zucchini</th>\n",
       "      <th>Great</th>\n",
       "    </tr>\n",
       "  </thead>\n",
       "  <tbody>\n",
       "    <tr>\n",
       "      <td>0</td>\n",
       "      <td>Donato's taco shop</td>\n",
       "      <td>California</td>\n",
       "      <td>1/18/16</td>\n",
       "      <td>Miramar</td>\n",
       "      <td>6780 Miramar Rd</td>\n",
       "      <td>http://donatostacoshop.net/</td>\n",
       "      <td>3.5</td>\n",
       "      <td>4.2</td>\n",
       "      <td>NaN</td>\n",
       "      <td>6.49</td>\n",
       "      <td>...</td>\n",
       "      <td>NaN</td>\n",
       "      <td>NaN</td>\n",
       "      <td>NaN</td>\n",
       "      <td>NaN</td>\n",
       "      <td>NaN</td>\n",
       "      <td>NaN</td>\n",
       "      <td>NaN</td>\n",
       "      <td>NaN</td>\n",
       "      <td>NaN</td>\n",
       "      <td>False</td>\n",
       "    </tr>\n",
       "    <tr>\n",
       "      <td>1</td>\n",
       "      <td>Oscar's Mexican food</td>\n",
       "      <td>California</td>\n",
       "      <td>1/24/16</td>\n",
       "      <td>San Marcos</td>\n",
       "      <td>225 S Rancho Santa Fe Rd</td>\n",
       "      <td>http://www.yelp.com/biz/oscars-mexican-food-sa...</td>\n",
       "      <td>3.5</td>\n",
       "      <td>3.3</td>\n",
       "      <td>NaN</td>\n",
       "      <td>5.45</td>\n",
       "      <td>...</td>\n",
       "      <td>NaN</td>\n",
       "      <td>NaN</td>\n",
       "      <td>NaN</td>\n",
       "      <td>NaN</td>\n",
       "      <td>NaN</td>\n",
       "      <td>NaN</td>\n",
       "      <td>NaN</td>\n",
       "      <td>NaN</td>\n",
       "      <td>NaN</td>\n",
       "      <td>False</td>\n",
       "    </tr>\n",
       "    <tr>\n",
       "      <td>2</td>\n",
       "      <td>Oscar's Mexican food</td>\n",
       "      <td>Carnitas</td>\n",
       "      <td>1/24/16</td>\n",
       "      <td>NaN</td>\n",
       "      <td>NaN</td>\n",
       "      <td>NaN</td>\n",
       "      <td>NaN</td>\n",
       "      <td>NaN</td>\n",
       "      <td>NaN</td>\n",
       "      <td>4.85</td>\n",
       "      <td>...</td>\n",
       "      <td>NaN</td>\n",
       "      <td>NaN</td>\n",
       "      <td>NaN</td>\n",
       "      <td>NaN</td>\n",
       "      <td>NaN</td>\n",
       "      <td>NaN</td>\n",
       "      <td>NaN</td>\n",
       "      <td>NaN</td>\n",
       "      <td>NaN</td>\n",
       "      <td>False</td>\n",
       "    </tr>\n",
       "    <tr>\n",
       "      <td>3</td>\n",
       "      <td>Oscar's Mexican food</td>\n",
       "      <td>Carne asada</td>\n",
       "      <td>1/24/16</td>\n",
       "      <td>NaN</td>\n",
       "      <td>NaN</td>\n",
       "      <td>NaN</td>\n",
       "      <td>NaN</td>\n",
       "      <td>NaN</td>\n",
       "      <td>NaN</td>\n",
       "      <td>5.25</td>\n",
       "      <td>...</td>\n",
       "      <td>NaN</td>\n",
       "      <td>NaN</td>\n",
       "      <td>NaN</td>\n",
       "      <td>NaN</td>\n",
       "      <td>NaN</td>\n",
       "      <td>NaN</td>\n",
       "      <td>NaN</td>\n",
       "      <td>NaN</td>\n",
       "      <td>NaN</td>\n",
       "      <td>False</td>\n",
       "    </tr>\n",
       "    <tr>\n",
       "      <td>4</td>\n",
       "      <td>Pollos Maria</td>\n",
       "      <td>California</td>\n",
       "      <td>1/27/16</td>\n",
       "      <td>Carlsbad</td>\n",
       "      <td>3055 Harding St</td>\n",
       "      <td>http://pollosmaria.com/</td>\n",
       "      <td>4.0</td>\n",
       "      <td>3.8</td>\n",
       "      <td>x</td>\n",
       "      <td>6.59</td>\n",
       "      <td>...</td>\n",
       "      <td>NaN</td>\n",
       "      <td>NaN</td>\n",
       "      <td>NaN</td>\n",
       "      <td>NaN</td>\n",
       "      <td>NaN</td>\n",
       "      <td>NaN</td>\n",
       "      <td>NaN</td>\n",
       "      <td>NaN</td>\n",
       "      <td>NaN</td>\n",
       "      <td>True</td>\n",
       "    </tr>\n",
       "  </tbody>\n",
       "</table>\n",
       "<p>5 rows × 65 columns</p>\n",
       "</div>"
      ],
      "text/plain": [
       "               Location      Burrito     Date Neighborhood  \\\n",
       "0    Donato's taco shop  California   1/18/16      Miramar   \n",
       "1  Oscar's Mexican food  California   1/24/16   San Marcos   \n",
       "2  Oscar's Mexican food     Carnitas  1/24/16          NaN   \n",
       "3  Oscar's Mexican food  Carne asada  1/24/16          NaN   \n",
       "4          Pollos Maria   California  1/27/16     Carlsbad   \n",
       "\n",
       "                    Address  \\\n",
       "0           6780 Miramar Rd   \n",
       "1  225 S Rancho Santa Fe Rd   \n",
       "2                       NaN   \n",
       "3                       NaN   \n",
       "4           3055 Harding St   \n",
       "\n",
       "                                                 URL  Yelp  Google Chips  \\\n",
       "0                        http://donatostacoshop.net/   3.5     4.2   NaN   \n",
       "1  http://www.yelp.com/biz/oscars-mexican-food-sa...   3.5     3.3   NaN   \n",
       "2                                                NaN   NaN     NaN   NaN   \n",
       "3                                                NaN   NaN     NaN   NaN   \n",
       "4                            http://pollosmaria.com/   4.0     3.8     x   \n",
       "\n",
       "   Cost  ...  Lobster  Queso  Egg  Mushroom  Bacon  Sushi  Avocado  Corn  \\\n",
       "0  6.49  ...      NaN    NaN  NaN       NaN    NaN    NaN      NaN   NaN   \n",
       "1  5.45  ...      NaN    NaN  NaN       NaN    NaN    NaN      NaN   NaN   \n",
       "2  4.85  ...      NaN    NaN  NaN       NaN    NaN    NaN      NaN   NaN   \n",
       "3  5.25  ...      NaN    NaN  NaN       NaN    NaN    NaN      NaN   NaN   \n",
       "4  6.59  ...      NaN    NaN  NaN       NaN    NaN    NaN      NaN   NaN   \n",
       "\n",
       "   Zucchini  Great  \n",
       "0       NaN  False  \n",
       "1       NaN  False  \n",
       "2       NaN  False  \n",
       "3       NaN  False  \n",
       "4       NaN   True  \n",
       "\n",
       "[5 rows x 65 columns]"
      ]
     },
     "execution_count": 6,
     "metadata": {},
     "output_type": "execute_result"
    }
   ],
   "source": [
    "train.head()"
   ]
  },
  {
   "cell_type": "code",
   "execution_count": 13,
   "metadata": {},
   "outputs": [
    {
     "data": {
      "text/plain": [
       "65"
      ]
     },
     "execution_count": 13,
     "metadata": {},
     "output_type": "execute_result"
    }
   ],
   "source": [
    "#Total number of features\n",
    "len(train.columns)"
   ]
  },
  {
   "cell_type": "code",
   "execution_count": 12,
   "metadata": {},
   "outputs": [
    {
     "data": {
      "text/html": [
       "<div>\n",
       "<style scoped>\n",
       "    .dataframe tbody tr th:only-of-type {\n",
       "        vertical-align: middle;\n",
       "    }\n",
       "\n",
       "    .dataframe tbody tr th {\n",
       "        vertical-align: top;\n",
       "    }\n",
       "\n",
       "    .dataframe thead th {\n",
       "        text-align: right;\n",
       "    }\n",
       "</style>\n",
       "<table border=\"1\" class=\"dataframe\">\n",
       "  <thead>\n",
       "    <tr style=\"text-align: right;\">\n",
       "      <th></th>\n",
       "      <th>column_name</th>\n",
       "      <th>percent_missing</th>\n",
       "    </tr>\n",
       "  </thead>\n",
       "  <tbody>\n",
       "    <tr>\n",
       "      <td>Location</td>\n",
       "      <td>Location</td>\n",
       "      <td>0.000000</td>\n",
       "    </tr>\n",
       "    <tr>\n",
       "      <td>Burrito</td>\n",
       "      <td>Burrito</td>\n",
       "      <td>0.000000</td>\n",
       "    </tr>\n",
       "    <tr>\n",
       "      <td>Date</td>\n",
       "      <td>Date</td>\n",
       "      <td>0.000000</td>\n",
       "    </tr>\n",
       "    <tr>\n",
       "      <td>Neighborhood</td>\n",
       "      <td>Neighborhood</td>\n",
       "      <td>74.581940</td>\n",
       "    </tr>\n",
       "    <tr>\n",
       "      <td>Address</td>\n",
       "      <td>Address</td>\n",
       "      <td>75.919732</td>\n",
       "    </tr>\n",
       "    <tr>\n",
       "      <td>...</td>\n",
       "      <td>...</td>\n",
       "      <td>...</td>\n",
       "    </tr>\n",
       "    <tr>\n",
       "      <td>Sushi</td>\n",
       "      <td>Sushi</td>\n",
       "      <td>99.331104</td>\n",
       "    </tr>\n",
       "    <tr>\n",
       "      <td>Avocado</td>\n",
       "      <td>Avocado</td>\n",
       "      <td>95.652174</td>\n",
       "    </tr>\n",
       "    <tr>\n",
       "      <td>Corn</td>\n",
       "      <td>Corn</td>\n",
       "      <td>99.331104</td>\n",
       "    </tr>\n",
       "    <tr>\n",
       "      <td>Zucchini</td>\n",
       "      <td>Zucchini</td>\n",
       "      <td>99.665552</td>\n",
       "    </tr>\n",
       "    <tr>\n",
       "      <td>Great</td>\n",
       "      <td>Great</td>\n",
       "      <td>0.000000</td>\n",
       "    </tr>\n",
       "  </tbody>\n",
       "</table>\n",
       "<p>65 rows × 2 columns</p>\n",
       "</div>"
      ],
      "text/plain": [
       "               column_name  percent_missing\n",
       "Location          Location         0.000000\n",
       "Burrito            Burrito         0.000000\n",
       "Date                  Date         0.000000\n",
       "Neighborhood  Neighborhood        74.581940\n",
       "Address            Address        75.919732\n",
       "...                    ...              ...\n",
       "Sushi                Sushi        99.331104\n",
       "Avocado            Avocado        95.652174\n",
       "Corn                  Corn        99.331104\n",
       "Zucchini          Zucchini        99.665552\n",
       "Great                Great         0.000000\n",
       "\n",
       "[65 rows x 2 columns]"
      ]
     },
     "execution_count": 12,
     "metadata": {},
     "output_type": "execute_result"
    }
   ],
   "source": [
    "#Let's find out whether any values missing in the train set. If yes, then let's get the percent of missing values in each\n",
    "#column\n",
    "\n",
    "percent_missing = train.isnull().sum() * 100 / len(train)\n",
    "missing_value_df = pd.DataFrame({'column_name': train.columns,'percent_missing': percent_missing})\n",
    "missing_value_df"
   ]
  },
  {
   "cell_type": "code",
   "execution_count": 21,
   "metadata": {},
   "outputs": [
    {
     "data": {
      "text/plain": [
       "Location            Location\n",
       "Burrito              Burrito\n",
       "Date                    Date\n",
       "Cost                    Cost\n",
       "Hunger                Hunger\n",
       "Tortilla            Tortilla\n",
       "Temp                    Temp\n",
       "Meat                    Meat\n",
       "Fillings            Fillings\n",
       "Meat:filling    Meat:filling\n",
       "Uniformity        Uniformity\n",
       "Salsa                  Salsa\n",
       "Synergy              Synergy\n",
       "Wrap                    Wrap\n",
       "Reviewer            Reviewer\n",
       "Great                  Great\n",
       "Name: column_name, dtype: object"
      ]
     },
     "execution_count": 21,
     "metadata": {},
     "output_type": "execute_result"
    }
   ],
   "source": [
    "missing_value_df.loc[missing_value_df[\"percent_missing\"]<10, \"column_name\"]"
   ]
  },
  {
   "cell_type": "code",
   "execution_count": null,
   "metadata": {},
   "outputs": [],
   "source": [
    "These 12 columns have less than 10% values missing and so starting with them\n",
    "\n",
    "\n",
    "Cost                    Cost\n",
    "Hunger                Hunger\n",
    "Tortilla            Tortilla\n",
    "Temp                    Temp\n",
    "Meat                    Meat\n",
    "Fillings            Fillings\n",
    "Meat:filling    Meat:filling\n",
    "Uniformity        Uniformity\n",
    "Salsa                  Salsa\n",
    "Synergy              Synergy\n",
    "Wrap                    Wrap\n",
    "Great                  Great"
   ]
  },
  {
   "cell_type": "code",
   "execution_count": null,
   "metadata": {},
   "outputs": [],
   "source": [
    "Observation:\n",
    "In some columns there are many values missing accounting to more than 90%"
   ]
  },
  {
   "cell_type": "code",
   "execution_count": null,
   "metadata": {},
   "outputs": [],
   "source": [
    "Strategy:\n",
    "    \n",
    "Because there are many columns with significant number of values missing, lets just focus on columns with only a fewer \n",
    "values missing. For now I am going to focus on the following columns:\n",
    "\n"
   ]
  },
  {
   "cell_type": "code",
   "execution_count": 16,
   "metadata": {},
   "outputs": [],
   "source": [
    "#\n",
    "\n",
    "train[\"Great\"] = train[\"Great\"].astype(int)\n"
   ]
  },
  {
   "cell_type": "code",
   "execution_count": 19,
   "metadata": {},
   "outputs": [
    {
     "data": {
      "text/plain": [
       "0    176\n",
       "1    123\n",
       "Name: Great, dtype: int64"
      ]
     },
     "execution_count": 19,
     "metadata": {},
     "output_type": "execute_result"
    }
   ],
   "source": [
    "train[\"Great\"].value_counts()"
   ]
  },
  {
   "cell_type": "code",
   "execution_count": null,
   "metadata": {},
   "outputs": [],
   "source": [
    "Cost                    Cost\n",
    "Hunger                Hunger\n",
    "Tortilla            Tortilla\n",
    "Temp                    Temp\n",
    "Meat                    Meat\n",
    "Fillings            Fillings\n",
    "Meat:filling    Meat:filling\n",
    "Uniformity        Uniformity\n",
    "Salsa                  Salsa\n",
    "Synergy              Synergy\n",
    "Wrap                    Wrap\n",
    "Great                  Great"
   ]
  },
  {
   "cell_type": "code",
   "execution_count": 24,
   "metadata": {},
   "outputs": [],
   "source": [
    "\n",
    "\n",
    "selected=[\"Cost\", \"Hunger\", \"Tortilla\", \"Temp\", \"Meat\", \"Fillings\", \"Meat:filling\", \"Uniformity\", \"Salsa\", \"Synergy\", \"Wrap\"]\n",
    "\n",
    "\n"
   ]
  },
  {
   "cell_type": "code",
   "execution_count": 31,
   "metadata": {},
   "outputs": [
    {
     "data": {
      "image/png": "[encoded data removed]",
      "text/plain": [
       "<Figure size 1080x720 with 9 Axes>"
      ]
     },
     "metadata": {
      "needs_background": "light"
     },
     "output_type": "display_data"
    }
   ],
   "source": [
    "Deciding on visualization!\n",
    "\n",
    "How can you decide on which visualization to go far? Well, it is good to start with a goal. My goal: is to check how \n",
    "the features behave with re to target column. So I decided to plot the features Vs. target. Although the bar plot shows \n",
    "confidence interval and some grouping after a range for some features, it is clearly confusing. That directs me to plotting\n",
    "the much clearer line plot below.\n",
    "\n",
    "fig, ax = plt.subplots(3, 3, figsize=(15, 10))\n",
    "for var, subplot in zip(selected, ax.flatten()):\n",
    "    sns.barplot(x=var, y='Great', data=train, ax=subplot)"
   ]
  },
  {
   "cell_type": "code",
   "execution_count": 30,
   "metadata": {},
   "outputs": [
    {
     "data": {
      "image/png": "[encoded data removed]",
      "text/plain": [
       "<Figure size 1080x720 with 9 Axes>"
      ]
     },
     "metadata": {
      "needs_background": "light"
     },
     "output_type": "display_data"
    }
   ],
   "source": [
    "#Let's see what the realtionship looks like between the features and our target variable, \"Great\"\n",
    "#This solves my purpose\n",
    "\n",
    "fig, ax = plt.subplots(3, 3, figsize=(15, 10))\n",
    "for var, subplot in zip(selected, ax.flatten()):\n",
    "    sns.lineplot(x=var, y='Great', data=train, ax=subplot)"
   ]
  },
  {
   "cell_type": "code",
   "execution_count": null,
   "metadata": {},
   "outputs": [],
   "source": [
    "Observation:\n",
    "Clear pattern exists amongst following features Vs. target column: \n",
    "    \n",
    "Hunger: Customers with hunger level at 3 and above have seemed to have rated the burriot great.\n",
    "Tortilla: The quality of tortilla played a significant role in rating a burrito great or not.\n",
    "Temp: No one would like a cold burrito :) temperature mattered.\n",
    "Meat: Meat quality was a significant indicator too.    \n",
    "Fillings: The quality of a balanced filling mattered.\n",
    "Meat:filling: The ratio between meat and non-meat turns out to be a significant indicator too.\n",
    "\n",
    "------------------------------------------------------------------------------------------------------------       \n",
    "\n",
    "No clear pattern: What about other features?\n",
    "    \n",
    "Cost Vs. Great: Although the data points for cost are heavily clustered between 5 and 8, a clear pattern does not exist to \n",
    "declare a win between low and high cost.\n",
    "    \n",
    "Customers that do not like a variety in salsa (salsa ratings less than 3) rated burritos great and so did the customers \n",
    "that like a variety in salsa (salsa ratings greater than 3). So customers preferences seemed to have affected the \n",
    "salsa ratings.\n",
    "\n",
    "The similar explanation goes true for uniformity (bites full of sour cream and cheese with meat).\n",
    "\n"
   ]
  },
  {
   "cell_type": "code",
   "execution_count": null,
   "metadata": {},
   "outputs": [],
   "source": []
  },
  {
   "cell_type": "code",
   "execution_count": null,
   "metadata": {},
   "outputs": [],
   "source": [
    "What about the categorical features we have?\n",
    "\n"
   ]
  },
  {
   "cell_type": "code",
   "execution_count": 38,
   "metadata": {},
   "outputs": [
    {
     "data": {
      "text/plain": [
       "[\"Donato's taco shop\",\n",
       " \"Oscar's Mexican food\",\n",
       " \"Oscar's Mexican food\",\n",
       " \"Oscar's Mexican food\",\n",
       " 'Pollos Maria',\n",
       " 'Pollos Maria',\n",
       " \"Nico's Taco Shop\",\n",
       " \"Nico's Taco Shop\",\n",
       " 'Los Primos Mexican Food',\n",
       " \"JV's Mexican Food\",\n",
       " \"JV's Mexican Food\",\n",
       " \"Tony's Fresh Mexican Food\",\n",
       " \"Tony's Fresh Mexican Food\",\n",
       " \"Tony's Fresh Mexican Food\",\n",
       " \"Tony's Fresh Mexican Food\",\n",
       " 'Taco Stand',\n",
       " 'Taco Stand',\n",
       " \"Graciela's Taco Shop\",\n",
       " \"Graciela's Taco Shop\",\n",
       " \"Rigoberto's Taco Shop La Jolla\",\n",
       " \"Rigoberto's Taco Shop La Jolla\",\n",
       " \"Lolita's taco shop\",\n",
       " \"Lolita's taco shop\",\n",
       " 'Taco Stand',\n",
       " 'Taco Stand',\n",
       " \"Lola's 7 Up Market & Deli\",\n",
       " \"Lola's 7 Up Market & Deli\",\n",
       " \"Colima's Mexican Food\",\n",
       " \"Colima's Mexican Food\",\n",
       " \"Colima's Mexican Food\",\n",
       " \"Rigoberto's Taco Shop\",\n",
       " \"Rigoberto's Taco Shop\",\n",
       " \"Raul's Mexican food\",\n",
       " \"Raul's Mexican food\",\n",
       " 'El Zarape',\n",
       " 'El Zarape',\n",
       " 'El Zarape',\n",
       " 'El Zarape',\n",
       " 'El Indio',\n",
       " 'Taco stand',\n",
       " 'Taco stand',\n",
       " 'Qdoba Mexican Grill, Seatac Airport',\n",
       " 'Cancun Mexican & Seafood',\n",
       " 'Cancun Mexican & Seafood',\n",
       " 'Vallarta express',\n",
       " 'Vallarta express',\n",
       " 'Vallarta express',\n",
       " 'Vallarta express',\n",
       " 'Vallarta express',\n",
       " 'Vallarta express',\n",
       " 'Mikes Taco Club',\n",
       " 'Mikes Taco Club',\n",
       " 'La Perla Cocina',\n",
       " 'La Perla Cocina',\n",
       " 'Porkyland ',\n",
       " 'Porkyland ',\n",
       " 'Porkyland ',\n",
       " 'Porkyland ',\n",
       " \"Rigoberto's Taco Shop\",\n",
       " \"Rigoberto's Taco Shop\",\n",
       " \"Rigoberto's Taco Shop\",\n",
       " \"Rigoberto's Taco Shop\",\n",
       " \"Rudy's Taco Shop\",\n",
       " \"Rudy's Taco Shop\",\n",
       " 'Taco stand',\n",
       " 'Taco stand',\n",
       " 'California Burritos',\n",
       " 'California Burritos',\n",
       " 'California Burritos',\n",
       " 'California Burritos',\n",
       " 'California Burritos',\n",
       " 'Vallarta express',\n",
       " 'Vallarta express',\n",
       " \"Jorge's Mexicatessen\",\n",
       " \"Jorge's Mexicatessen\",\n",
       " \"Senor Grubby's\",\n",
       " \"Senor Grubby's\",\n",
       " 'Taco stand',\n",
       " 'Mi Asador Mexican & Seafood ',\n",
       " 'Mi Asador Mexican & Seafood ',\n",
       " 'Sotos Mexican Food',\n",
       " 'Sotos Mexican Food',\n",
       " 'Taco stand',\n",
       " 'Taco stand',\n",
       " 'Taco stand',\n",
       " 'Taco stand',\n",
       " 'Taco stand',\n",
       " 'Taco stand',\n",
       " 'Taco stand',\n",
       " 'Vallarta express',\n",
       " \"Lolita's taco shop\",\n",
       " \"Lolita's taco shop\",\n",
       " \"Lolita's taco shop\",\n",
       " \"Rigoberto's Taco Shop\",\n",
       " \"Rigoberto's Taco Shop\",\n",
       " \"Rigoberto's Taco Shop\",\n",
       " \"Rigoberto's Taco Shop\",\n",
       " \"Rigoberto's Taco Shop\",\n",
       " \"Rigoberto's Taco Shop\",\n",
       " \"Rigoberto's Taco Shop\",\n",
       " \"Karina's Taco Shop \",\n",
       " \"Karina's Taco Shop \",\n",
       " \"Juanita's Taco Shop\",\n",
       " \"Juanita's Taco Shop\",\n",
       " \"Goody's\",\n",
       " \"Pedro's Tacos\",\n",
       " 'Los Primos Mexican Food',\n",
       " 'Kotija Jr.',\n",
       " 'La Perla Cocina',\n",
       " \"Goody's\",\n",
       " \"Goody's\",\n",
       " 'Chipotle',\n",
       " \"Rigoberto's Taco Shop\",\n",
       " 'Taco Surf PB',\n",
       " 'Taco Surf PB',\n",
       " 'Taco Surf PB',\n",
       " \"Roberto's Very Mexican Food\",\n",
       " \"Roberto's Very Mexican Food\",\n",
       " 'Netos Mexican Food',\n",
       " 'Netos Mexican Food',\n",
       " \"Lolita's Taco shop\",\n",
       " \"Lolita's Taco shop\",\n",
       " \"Lolita's Taco shop\",\n",
       " 'Pokirrito',\n",
       " 'Pokirrito',\n",
       " 'Los Primos Mexican Food',\n",
       " 'El Nopalito ',\n",
       " 'El Nopalito ',\n",
       " \"Goody's\",\n",
       " \"Saguaro's \",\n",
       " \"Colima's \",\n",
       " \"Alberto's 623 N Escondido Blvd, Escondido, CA 92025\",\n",
       " 'MXN on Washington',\n",
       " 'El Zarape',\n",
       " \"Lolita's\",\n",
       " 'Humbertos',\n",
       " 'Chili Peppers',\n",
       " 'Los Primos Mexican Food',\n",
       " 'Los Primos Mexican Food',\n",
       " 'Los Primos Mexican Food',\n",
       " 'Los Primos Mexican Food',\n",
       " 'Los Primos Mexican Food',\n",
       " 'Los Primos Mexican Food',\n",
       " 'Los tacos ',\n",
       " 'Los tacos ',\n",
       " 'Taco Stand',\n",
       " 'Taco Stand',\n",
       " 'Albertacos',\n",
       " 'Albertacos',\n",
       " 'El Rey Moro',\n",
       " 'Tacos por favor',\n",
       " 'Tacos por favor',\n",
       " 'Tacos por favor',\n",
       " 'El Dorado Mexican Food',\n",
       " 'El Dorado Mexican Food',\n",
       " \"Lolita's Taco Shop\",\n",
       " \"Lolita's Taco Shop\",\n",
       " \"Lolita's Taco Shop\",\n",
       " \"Lolita's Taco Shop\",\n",
       " 'California Burritos',\n",
       " 'California Burritos',\n",
       " 'California Burritos',\n",
       " 'California Burritos',\n",
       " 'California Burritos',\n",
       " 'California Burritos',\n",
       " 'California Burritos',\n",
       " 'California Burritos',\n",
       " 'California Burritos',\n",
       " 'California Burritos',\n",
       " 'California Burritos',\n",
       " 'California Burritos',\n",
       " 'California Burritos',\n",
       " 'California Burritos',\n",
       " 'Los Primos Mexican Food',\n",
       " 'Los Primos Mexican Food',\n",
       " 'Los Primos Mexican Food',\n",
       " \"Papa Chito's Mexican Food\",\n",
       " \"Papa Chito's Mexican Food\",\n",
       " 'El Pueblo Mexican Food',\n",
       " 'Burros and Fries',\n",
       " 'Burros and Fries',\n",
       " 'King Burrito',\n",
       " 'King Burrito',\n",
       " 'Taco Stand',\n",
       " 'Taco Stand',\n",
       " \"Carmen's Mexican Food\",\n",
       " \"Carmen's Mexican Food\",\n",
       " 'Senor Panchos',\n",
       " 'Senor Panchos',\n",
       " 'Los Cabos',\n",
       " 'Los Cabos',\n",
       " 'Rubios UCSD',\n",
       " 'Lucha Libre North Park',\n",
       " 'Lucha Libre North Park',\n",
       " 'Lucha Libre North Park',\n",
       " 'Lucha Libre North Park',\n",
       " 'Lucha Libre North Park',\n",
       " 'Lucha Libre North Park',\n",
       " 'Lucha Libre North Park',\n",
       " 'Lucha Libre North Park',\n",
       " 'Lucha Libre North Park',\n",
       " 'Lucha Libre North Park',\n",
       " 'Lucha Libre North Park',\n",
       " 'Lucha Libre North Park',\n",
       " 'Lucha Libre North Park',\n",
       " 'Lucha Libre North Park',\n",
       " 'Lucha Libre North Park',\n",
       " 'Lucha Libre North Park',\n",
       " 'Lucha Libre North Park',\n",
       " 'Lucha Libre North Park',\n",
       " 'Lucha Libre North Park',\n",
       " 'Lucha Libre North Park',\n",
       " 'Lucha Libre North Park',\n",
       " 'Lucha Libre North Park',\n",
       " 'Lucha Libre North Park',\n",
       " 'Lucha Libre North Park',\n",
       " 'Lucha Libre North Park',\n",
       " 'Lucha Libre North Park',\n",
       " 'Lucha Libre North Park',\n",
       " 'Lucha Libre North Park',\n",
       " 'Tacos La Bala',\n",
       " 'Tacos La Bala',\n",
       " 'Cancun Mexican & Seafood',\n",
       " 'Cancun Mexican & Seafood',\n",
       " \"Roberto's Taco Shop Clairemont\",\n",
       " \"Roberto's Taco Shop Clairemont\",\n",
       " \"Roberto's Taco Shop Clairemont\",\n",
       " \"Roberto's Taco Shop Clairemont\",\n",
       " 'Chipotle',\n",
       " 'Taco Stand',\n",
       " 'Taco Stand',\n",
       " 'Los Tacos',\n",
       " 'Los Tacos',\n",
       " 'El Cuervo',\n",
       " 'El Cuervo',\n",
       " 'El Torrito Foods',\n",
       " 'El Torrito Foods',\n",
       " 'La Morena Taco Shop and Seafood',\n",
       " 'Taco Villa',\n",
       " \"Rigoberto's Taco Shop\",\n",
       " \"Rigoberto's Taco Shop\",\n",
       " \"Rigoberto's Taco Shop\",\n",
       " \"Rigoberto's Taco Shop\",\n",
       " 'Taco Villa',\n",
       " 'Valentines Mexican Food',\n",
       " 'Valentines Mexican Food',\n",
       " 'Matador Mexican Food',\n",
       " 'Matador Mexican Food',\n",
       " \"Jose's Taco\",\n",
       " 'Cortez Mexican Food',\n",
       " 'California Burrito Company',\n",
       " 'California Burrito Company',\n",
       " 'California Burrito Company',\n",
       " 'Taco Villa',\n",
       " 'Taco Villa',\n",
       " 'Storehouse Kitchen ',\n",
       " 'California Burrito Company',\n",
       " 'California Burrito Company',\n",
       " 'Taco Villa',\n",
       " 'California Burritos',\n",
       " 'California Burritos',\n",
       " 'Taco Villa',\n",
       " 'Taco Villa',\n",
       " 'Taco Villa',\n",
       " 'Taco Villa',\n",
       " 'Taco Villa',\n",
       " 'Taco Stand Encinitas',\n",
       " 'Taco Stand Encinitas',\n",
       " \"Donato's Taco Shop\",\n",
       " \"Donato's Taco Shop\",\n",
       " \"Ortiz's Taco Shop #2\",\n",
       " \"Ortiz's Taco Shop #2\",\n",
       " \"Ortiz's Taco Shop #2\",\n",
       " \"Ortiz's Taco Shop #2\",\n",
       " 'El Portal Fresh Mexican Grill',\n",
       " 'El Portal Fresh Mexican Grill',\n",
       " 'El Zarape',\n",
       " 'El Zarape',\n",
       " 'El Zarape',\n",
       " 'El Zarape',\n",
       " 'Famoso Mexican Street Food',\n",
       " 'Valentines Mexican Food',\n",
       " 'Valentines Mexican Food',\n",
       " 'Valentines Mexican Food',\n",
       " 'Valentines Mexican Food',\n",
       " 'Valentines Mexican Food',\n",
       " 'Cancun Mexican & Seafood',\n",
       " 'Cancun Mexican & Seafood',\n",
       " 'Los Panchos Taco Shop',\n",
       " 'Los Panchos Taco Shop',\n",
       " 'Los Panchos Taco Shop',\n",
       " 'Pollos Maria',\n",
       " 'Pollos Maria',\n",
       " 'El Pollo Loco',\n",
       " \"Gloria's Taco Shop\",\n",
       " \"Gloria's Taco Shop\",\n",
       " 'Mr. Ruribertos Taco Shop ',\n",
       " 'Mr. Ruribertos Taco Shop ',\n",
       " 'Mister Falafel']"
      ]
     },
     "execution_count": 38,
     "metadata": {},
     "output_type": "execute_result"
    }
   ],
   "source": [
    "train[\"Location\"].values.tolist()"
   ]
  },
  {
   "cell_type": "code",
   "execution_count": 40,
   "metadata": {},
   "outputs": [
    {
     "ename": "AttributeError",
     "evalue": "'list' object has no attribute 'reshape'",
     "output_type": "error",
     "traceback": [
      "\u001b[0;31m---------------------------------------------------------------------------\u001b[0m",
      "\u001b[0;31mAttributeError\u001b[0m                            Traceback (most recent call last)",
      "\u001b[0;32m<ipython-input-40-73f44481a3be>\u001b[0m in \u001b[0;36m<module>\u001b[0;34m\u001b[0m\n\u001b[1;32m      4\u001b[0m \u001b[0;31m# OneHotEncoder().fit_transform(x).toarray()\u001b[0m\u001b[0;34m\u001b[0m\u001b[0;34m\u001b[0m\u001b[0;34m\u001b[0m\u001b[0m\n\u001b[1;32m      5\u001b[0m \u001b[0;34m\u001b[0m\u001b[0m\n\u001b[0;32m----> 6\u001b[0;31m \u001b[0mencoded\u001b[0m \u001b[0;34m=\u001b[0m\u001b[0mencoder\u001b[0m\u001b[0;34m.\u001b[0m\u001b[0mfit_transform\u001b[0m\u001b[0;34m(\u001b[0m\u001b[0mtrain\u001b[0m\u001b[0;34m[\u001b[0m\u001b[0;34m\"Location\"\u001b[0m\u001b[0;34m]\u001b[0m\u001b[0;34m.\u001b[0m\u001b[0mvalues\u001b[0m\u001b[0;34m.\u001b[0m\u001b[0mtolist\u001b[0m\u001b[0;34m(\u001b[0m\u001b[0;34m)\u001b[0m\u001b[0;34m.\u001b[0m\u001b[0mreshape\u001b[0m\u001b[0;34m(\u001b[0m\u001b[0;36m1\u001b[0m\u001b[0;34m,\u001b[0m \u001b[0;34m-\u001b[0m\u001b[0;36m1\u001b[0m\u001b[0;34m)\u001b[0m\u001b[0;34m)\u001b[0m\u001b[0;34m\u001b[0m\u001b[0;34m\u001b[0m\u001b[0m\n\u001b[0m",
      "\u001b[0;31mAttributeError\u001b[0m: 'list' object has no attribute 'reshape'"
     ]
    }
   ],
   "source": [
    "from sklearn.preprocessing import StandardScaler, OneHotEncoder\n",
    "\n",
    "encoder=OneHotEncoder()\n",
    "# OneHotEncoder().fit_transform(x).toarray()\n",
    "\n",
    "encoded =encoder.fit_transform(train[\"Location\"].values.tolist())\n"
   ]
  },
  {
   "cell_type": "code",
   "execution_count": 47,
   "metadata": {},
   "outputs": [],
   "source": [
    "# encoded = pd.get_dummies(train[\"Location\"])"
   ]
  },
  {
   "cell_type": "code",
   "execution_count": 48,
   "metadata": {},
   "outputs": [],
   "source": [
    "# encoded"
   ]
  },
  {
   "cell_type": "code",
   "execution_count": 43,
   "metadata": {},
   "outputs": [],
   "source": [
    "\n",
    "from sklearn import preprocessing\n",
    "label_encoder = preprocessing.LabelEncoder()"
   ]
  },
  {
   "cell_type": "code",
   "execution_count": 44,
   "metadata": {},
   "outputs": [
    {
     "data": {
      "text/plain": [
       "LabelEncoder()"
      ]
     },
     "execution_count": 44,
     "metadata": {},
     "output_type": "execute_result"
    }
   ],
   "source": [
    "label_encoder.fit(train[\"Location\"].tolist())"
   ]
  },
  {
   "cell_type": "code",
   "execution_count": 46,
   "metadata": {},
   "outputs": [],
   "source": [
    "transformed=label_encoder.transform(train[\"Location\"].tolist())"
   ]
  },
  {
   "cell_type": "code",
   "execution_count": 49,
   "metadata": {},
   "outputs": [],
   "source": [
    "encoded = pd.get_dummies(transformed)"
   ]
  },
  {
   "cell_type": "code",
   "execution_count": 50,
   "metadata": {},
   "outputs": [
    {
     "data": {
      "text/html": [
       "<div>\n",
       "<style scoped>\n",
       "    .dataframe tbody tr th:only-of-type {\n",
       "        vertical-align: middle;\n",
       "    }\n",
       "\n",
       "    .dataframe tbody tr th {\n",
       "        vertical-align: top;\n",
       "    }\n",
       "\n",
       "    .dataframe thead th {\n",
       "        text-align: right;\n",
       "    }\n",
       "</style>\n",
       "<table border=\"1\" class=\"dataframe\">\n",
       "  <thead>\n",
       "    <tr style=\"text-align: right;\">\n",
       "      <th></th>\n",
       "      <th>0</th>\n",
       "      <th>1</th>\n",
       "      <th>2</th>\n",
       "      <th>3</th>\n",
       "      <th>4</th>\n",
       "      <th>5</th>\n",
       "      <th>6</th>\n",
       "      <th>7</th>\n",
       "      <th>8</th>\n",
       "      <th>9</th>\n",
       "      <th>...</th>\n",
       "      <th>77</th>\n",
       "      <th>78</th>\n",
       "      <th>79</th>\n",
       "      <th>80</th>\n",
       "      <th>81</th>\n",
       "      <th>82</th>\n",
       "      <th>83</th>\n",
       "      <th>84</th>\n",
       "      <th>85</th>\n",
       "      <th>86</th>\n",
       "    </tr>\n",
       "  </thead>\n",
       "  <tbody>\n",
       "    <tr>\n",
       "      <td>0</td>\n",
       "      <td>0</td>\n",
       "      <td>0</td>\n",
       "      <td>0</td>\n",
       "      <td>0</td>\n",
       "      <td>0</td>\n",
       "      <td>0</td>\n",
       "      <td>0</td>\n",
       "      <td>0</td>\n",
       "      <td>0</td>\n",
       "      <td>0</td>\n",
       "      <td>...</td>\n",
       "      <td>0</td>\n",
       "      <td>0</td>\n",
       "      <td>0</td>\n",
       "      <td>0</td>\n",
       "      <td>0</td>\n",
       "      <td>0</td>\n",
       "      <td>0</td>\n",
       "      <td>0</td>\n",
       "      <td>0</td>\n",
       "      <td>0</td>\n",
       "    </tr>\n",
       "    <tr>\n",
       "      <td>1</td>\n",
       "      <td>0</td>\n",
       "      <td>0</td>\n",
       "      <td>0</td>\n",
       "      <td>0</td>\n",
       "      <td>0</td>\n",
       "      <td>0</td>\n",
       "      <td>0</td>\n",
       "      <td>0</td>\n",
       "      <td>0</td>\n",
       "      <td>0</td>\n",
       "      <td>...</td>\n",
       "      <td>0</td>\n",
       "      <td>0</td>\n",
       "      <td>0</td>\n",
       "      <td>0</td>\n",
       "      <td>0</td>\n",
       "      <td>0</td>\n",
       "      <td>0</td>\n",
       "      <td>0</td>\n",
       "      <td>0</td>\n",
       "      <td>0</td>\n",
       "    </tr>\n",
       "    <tr>\n",
       "      <td>2</td>\n",
       "      <td>0</td>\n",
       "      <td>0</td>\n",
       "      <td>0</td>\n",
       "      <td>0</td>\n",
       "      <td>0</td>\n",
       "      <td>0</td>\n",
       "      <td>0</td>\n",
       "      <td>0</td>\n",
       "      <td>0</td>\n",
       "      <td>0</td>\n",
       "      <td>...</td>\n",
       "      <td>0</td>\n",
       "      <td>0</td>\n",
       "      <td>0</td>\n",
       "      <td>0</td>\n",
       "      <td>0</td>\n",
       "      <td>0</td>\n",
       "      <td>0</td>\n",
       "      <td>0</td>\n",
       "      <td>0</td>\n",
       "      <td>0</td>\n",
       "    </tr>\n",
       "    <tr>\n",
       "      <td>3</td>\n",
       "      <td>0</td>\n",
       "      <td>0</td>\n",
       "      <td>0</td>\n",
       "      <td>0</td>\n",
       "      <td>0</td>\n",
       "      <td>0</td>\n",
       "      <td>0</td>\n",
       "      <td>0</td>\n",
       "      <td>0</td>\n",
       "      <td>0</td>\n",
       "      <td>...</td>\n",
       "      <td>0</td>\n",
       "      <td>0</td>\n",
       "      <td>0</td>\n",
       "      <td>0</td>\n",
       "      <td>0</td>\n",
       "      <td>0</td>\n",
       "      <td>0</td>\n",
       "      <td>0</td>\n",
       "      <td>0</td>\n",
       "      <td>0</td>\n",
       "    </tr>\n",
       "    <tr>\n",
       "      <td>4</td>\n",
       "      <td>0</td>\n",
       "      <td>0</td>\n",
       "      <td>0</td>\n",
       "      <td>0</td>\n",
       "      <td>0</td>\n",
       "      <td>0</td>\n",
       "      <td>0</td>\n",
       "      <td>0</td>\n",
       "      <td>0</td>\n",
       "      <td>0</td>\n",
       "      <td>...</td>\n",
       "      <td>0</td>\n",
       "      <td>0</td>\n",
       "      <td>0</td>\n",
       "      <td>0</td>\n",
       "      <td>0</td>\n",
       "      <td>0</td>\n",
       "      <td>0</td>\n",
       "      <td>0</td>\n",
       "      <td>0</td>\n",
       "      <td>0</td>\n",
       "    </tr>\n",
       "    <tr>\n",
       "      <td>...</td>\n",
       "      <td>...</td>\n",
       "      <td>...</td>\n",
       "      <td>...</td>\n",
       "      <td>...</td>\n",
       "      <td>...</td>\n",
       "      <td>...</td>\n",
       "      <td>...</td>\n",
       "      <td>...</td>\n",
       "      <td>...</td>\n",
       "      <td>...</td>\n",
       "      <td>...</td>\n",
       "      <td>...</td>\n",
       "      <td>...</td>\n",
       "      <td>...</td>\n",
       "      <td>...</td>\n",
       "      <td>...</td>\n",
       "      <td>...</td>\n",
       "      <td>...</td>\n",
       "      <td>...</td>\n",
       "      <td>...</td>\n",
       "      <td>...</td>\n",
       "    </tr>\n",
       "    <tr>\n",
       "      <td>294</td>\n",
       "      <td>0</td>\n",
       "      <td>0</td>\n",
       "      <td>0</td>\n",
       "      <td>0</td>\n",
       "      <td>0</td>\n",
       "      <td>0</td>\n",
       "      <td>0</td>\n",
       "      <td>0</td>\n",
       "      <td>0</td>\n",
       "      <td>0</td>\n",
       "      <td>...</td>\n",
       "      <td>0</td>\n",
       "      <td>0</td>\n",
       "      <td>0</td>\n",
       "      <td>0</td>\n",
       "      <td>0</td>\n",
       "      <td>0</td>\n",
       "      <td>0</td>\n",
       "      <td>0</td>\n",
       "      <td>0</td>\n",
       "      <td>0</td>\n",
       "    </tr>\n",
       "    <tr>\n",
       "      <td>295</td>\n",
       "      <td>0</td>\n",
       "      <td>0</td>\n",
       "      <td>0</td>\n",
       "      <td>0</td>\n",
       "      <td>0</td>\n",
       "      <td>0</td>\n",
       "      <td>0</td>\n",
       "      <td>0</td>\n",
       "      <td>0</td>\n",
       "      <td>0</td>\n",
       "      <td>...</td>\n",
       "      <td>0</td>\n",
       "      <td>0</td>\n",
       "      <td>0</td>\n",
       "      <td>0</td>\n",
       "      <td>0</td>\n",
       "      <td>0</td>\n",
       "      <td>0</td>\n",
       "      <td>0</td>\n",
       "      <td>0</td>\n",
       "      <td>0</td>\n",
       "    </tr>\n",
       "    <tr>\n",
       "      <td>296</td>\n",
       "      <td>0</td>\n",
       "      <td>0</td>\n",
       "      <td>0</td>\n",
       "      <td>0</td>\n",
       "      <td>0</td>\n",
       "      <td>0</td>\n",
       "      <td>0</td>\n",
       "      <td>0</td>\n",
       "      <td>0</td>\n",
       "      <td>0</td>\n",
       "      <td>...</td>\n",
       "      <td>0</td>\n",
       "      <td>0</td>\n",
       "      <td>0</td>\n",
       "      <td>0</td>\n",
       "      <td>0</td>\n",
       "      <td>0</td>\n",
       "      <td>0</td>\n",
       "      <td>0</td>\n",
       "      <td>0</td>\n",
       "      <td>0</td>\n",
       "    </tr>\n",
       "    <tr>\n",
       "      <td>297</td>\n",
       "      <td>0</td>\n",
       "      <td>0</td>\n",
       "      <td>0</td>\n",
       "      <td>0</td>\n",
       "      <td>0</td>\n",
       "      <td>0</td>\n",
       "      <td>0</td>\n",
       "      <td>0</td>\n",
       "      <td>0</td>\n",
       "      <td>0</td>\n",
       "      <td>...</td>\n",
       "      <td>0</td>\n",
       "      <td>0</td>\n",
       "      <td>0</td>\n",
       "      <td>0</td>\n",
       "      <td>0</td>\n",
       "      <td>0</td>\n",
       "      <td>0</td>\n",
       "      <td>0</td>\n",
       "      <td>0</td>\n",
       "      <td>0</td>\n",
       "    </tr>\n",
       "    <tr>\n",
       "      <td>298</td>\n",
       "      <td>0</td>\n",
       "      <td>0</td>\n",
       "      <td>0</td>\n",
       "      <td>0</td>\n",
       "      <td>0</td>\n",
       "      <td>0</td>\n",
       "      <td>0</td>\n",
       "      <td>0</td>\n",
       "      <td>0</td>\n",
       "      <td>0</td>\n",
       "      <td>...</td>\n",
       "      <td>0</td>\n",
       "      <td>0</td>\n",
       "      <td>0</td>\n",
       "      <td>0</td>\n",
       "      <td>0</td>\n",
       "      <td>0</td>\n",
       "      <td>0</td>\n",
       "      <td>0</td>\n",
       "      <td>0</td>\n",
       "      <td>0</td>\n",
       "    </tr>\n",
       "  </tbody>\n",
       "</table>\n",
       "<p>299 rows × 87 columns</p>\n",
       "</div>"
      ],
      "text/plain": [
       "     0   1   2   3   4   5   6   7   8   9   ...  77  78  79  80  81  82  83  \\\n",
       "0     0   0   0   0   0   0   0   0   0   0  ...   0   0   0   0   0   0   0   \n",
       "1     0   0   0   0   0   0   0   0   0   0  ...   0   0   0   0   0   0   0   \n",
       "2     0   0   0   0   0   0   0   0   0   0  ...   0   0   0   0   0   0   0   \n",
       "3     0   0   0   0   0   0   0   0   0   0  ...   0   0   0   0   0   0   0   \n",
       "4     0   0   0   0   0   0   0   0   0   0  ...   0   0   0   0   0   0   0   \n",
       "..   ..  ..  ..  ..  ..  ..  ..  ..  ..  ..  ...  ..  ..  ..  ..  ..  ..  ..   \n",
       "294   0   0   0   0   0   0   0   0   0   0  ...   0   0   0   0   0   0   0   \n",
       "295   0   0   0   0   0   0   0   0   0   0  ...   0   0   0   0   0   0   0   \n",
       "296   0   0   0   0   0   0   0   0   0   0  ...   0   0   0   0   0   0   0   \n",
       "297   0   0   0   0   0   0   0   0   0   0  ...   0   0   0   0   0   0   0   \n",
       "298   0   0   0   0   0   0   0   0   0   0  ...   0   0   0   0   0   0   0   \n",
       "\n",
       "     84  85  86  \n",
       "0     0   0   0  \n",
       "1     0   0   0  \n",
       "2     0   0   0  \n",
       "3     0   0   0  \n",
       "4     0   0   0  \n",
       "..   ..  ..  ..  \n",
       "294   0   0   0  \n",
       "295   0   0   0  \n",
       "296   0   0   0  \n",
       "297   0   0   0  \n",
       "298   0   0   0  \n",
       "\n",
       "[299 rows x 87 columns]"
      ]
     },
     "execution_count": 50,
     "metadata": {},
     "output_type": "execute_result"
    }
   ],
   "source": [
    "encoded"
   ]
  },
  {
   "cell_type": "code",
   "execution_count": null,
   "metadata": {},
   "outputs": [],
   "source": [
    "# Let's now build a Baseline Logistic Regression Model with the above features and check for performance\n",
    "\n",
    "#Logistic Regression Model does not accept input with missing values in them. Let's just replace the missing values in every \n",
    "#column using a simple technique of using mean of the column \n",
    "#(FYI: we call this technique of replacing missing values as imputation technique)\n",
    "\n",
    "\n",
    "\n"
   ]
  },
  {
   "cell_type": "code",
   "execution_count": null,
   "metadata": {},
   "outputs": [],
   "source": [
    "\n",
    "selected=[\"Cost\", \"Hunger\", \"Tortilla\", \"Temp\", \"Meat\", \"Fillings\", \"Meat:filling\", \"Uniformity\", \"Salsa\", \"Synergy\", \"Wrap\"]\n",
    "\n",
    "\n",
    "train[\"Great\"]\n"
   ]
  },
  {
   "cell_type": "code",
   "execution_count": 51,
   "metadata": {},
   "outputs": [],
   "source": [
    "\n",
    "\n",
    "selected_df=train[[\"Cost\", \"Hunger\", \"Tortilla\", \"Temp\", \"Meat\", \"Fillings\", \"Meat:filling\", \"Uniformity\", \"Salsa\", \"Synergy\", \"Wrap\"]]\n",
    "\n",
    "\n",
    "\n"
   ]
  },
  {
   "cell_type": "code",
   "execution_count": 52,
   "metadata": {},
   "outputs": [],
   "source": [
    "y=train[\"Great\"].values"
   ]
  },
  {
   "cell_type": "code",
   "execution_count": 53,
   "metadata": {},
   "outputs": [
    {
     "data": {
      "text/html": [
       "<div>\n",
       "<style scoped>\n",
       "    .dataframe tbody tr th:only-of-type {\n",
       "        vertical-align: middle;\n",
       "    }\n",
       "\n",
       "    .dataframe tbody tr th {\n",
       "        vertical-align: top;\n",
       "    }\n",
       "\n",
       "    .dataframe thead th {\n",
       "        text-align: right;\n",
       "    }\n",
       "</style>\n",
       "<table border=\"1\" class=\"dataframe\">\n",
       "  <thead>\n",
       "    <tr style=\"text-align: right;\">\n",
       "      <th></th>\n",
       "      <th>Cost</th>\n",
       "      <th>Hunger</th>\n",
       "      <th>Tortilla</th>\n",
       "      <th>Temp</th>\n",
       "      <th>Meat</th>\n",
       "      <th>Fillings</th>\n",
       "      <th>Meat:filling</th>\n",
       "      <th>Uniformity</th>\n",
       "      <th>Salsa</th>\n",
       "      <th>Synergy</th>\n",
       "      <th>Wrap</th>\n",
       "    </tr>\n",
       "  </thead>\n",
       "  <tbody>\n",
       "    <tr>\n",
       "      <td>0</td>\n",
       "      <td>6.49</td>\n",
       "      <td>3.0</td>\n",
       "      <td>3.0</td>\n",
       "      <td>5.0</td>\n",
       "      <td>3.0</td>\n",
       "      <td>3.5</td>\n",
       "      <td>4.0</td>\n",
       "      <td>4.0</td>\n",
       "      <td>4.0</td>\n",
       "      <td>4.0</td>\n",
       "      <td>4.0</td>\n",
       "    </tr>\n",
       "    <tr>\n",
       "      <td>1</td>\n",
       "      <td>5.45</td>\n",
       "      <td>3.5</td>\n",
       "      <td>2.0</td>\n",
       "      <td>3.5</td>\n",
       "      <td>2.5</td>\n",
       "      <td>2.5</td>\n",
       "      <td>2.0</td>\n",
       "      <td>4.0</td>\n",
       "      <td>3.5</td>\n",
       "      <td>2.5</td>\n",
       "      <td>5.0</td>\n",
       "    </tr>\n",
       "    <tr>\n",
       "      <td>2</td>\n",
       "      <td>4.85</td>\n",
       "      <td>1.5</td>\n",
       "      <td>3.0</td>\n",
       "      <td>2.0</td>\n",
       "      <td>2.5</td>\n",
       "      <td>3.0</td>\n",
       "      <td>4.5</td>\n",
       "      <td>4.0</td>\n",
       "      <td>3.0</td>\n",
       "      <td>3.0</td>\n",
       "      <td>5.0</td>\n",
       "    </tr>\n",
       "    <tr>\n",
       "      <td>3</td>\n",
       "      <td>5.25</td>\n",
       "      <td>2.0</td>\n",
       "      <td>3.0</td>\n",
       "      <td>2.0</td>\n",
       "      <td>3.5</td>\n",
       "      <td>3.0</td>\n",
       "      <td>4.0</td>\n",
       "      <td>5.0</td>\n",
       "      <td>4.0</td>\n",
       "      <td>4.0</td>\n",
       "      <td>5.0</td>\n",
       "    </tr>\n",
       "    <tr>\n",
       "      <td>4</td>\n",
       "      <td>6.59</td>\n",
       "      <td>4.0</td>\n",
       "      <td>4.0</td>\n",
       "      <td>5.0</td>\n",
       "      <td>4.0</td>\n",
       "      <td>3.5</td>\n",
       "      <td>4.5</td>\n",
       "      <td>5.0</td>\n",
       "      <td>2.5</td>\n",
       "      <td>4.5</td>\n",
       "      <td>4.0</td>\n",
       "    </tr>\n",
       "  </tbody>\n",
       "</table>\n",
       "</div>"
      ],
      "text/plain": [
       "   Cost  Hunger  Tortilla  Temp  Meat  Fillings  Meat:filling  Uniformity  \\\n",
       "0  6.49     3.0       3.0   5.0   3.0       3.5           4.0         4.0   \n",
       "1  5.45     3.5       2.0   3.5   2.5       2.5           2.0         4.0   \n",
       "2  4.85     1.5       3.0   2.0   2.5       3.0           4.5         4.0   \n",
       "3  5.25     2.0       3.0   2.0   3.5       3.0           4.0         5.0   \n",
       "4  6.59     4.0       4.0   5.0   4.0       3.5           4.5         5.0   \n",
       "\n",
       "   Salsa  Synergy  Wrap  \n",
       "0    4.0      4.0   4.0  \n",
       "1    3.5      2.5   5.0  \n",
       "2    3.0      3.0   5.0  \n",
       "3    4.0      4.0   5.0  \n",
       "4    2.5      4.5   4.0  "
      ]
     },
     "execution_count": 53,
     "metadata": {},
     "output_type": "execute_result"
    }
   ],
   "source": [
    "selected_df.head()"
   ]
  },
  {
   "cell_type": "code",
   "execution_count": 54,
   "metadata": {},
   "outputs": [
    {
     "data": {
      "text/plain": [
       "Cost            2.006689\n",
       "Hunger          0.334448\n",
       "Tortilla        0.000000\n",
       "Temp            5.016722\n",
       "Meat            3.344482\n",
       "Fillings        0.334448\n",
       "Meat:filling    2.006689\n",
       "Uniformity      0.668896\n",
       "Salsa           6.688963\n",
       "Synergy         0.668896\n",
       "Wrap            0.668896\n",
       "dtype: float64"
      ]
     },
     "execution_count": 54,
     "metadata": {},
     "output_type": "execute_result"
    }
   ],
   "source": [
    "selected_df.isnull().sum() * 100 / len(selected_df)"
   ]
  },
  {
   "cell_type": "code",
   "execution_count": 59,
   "metadata": {},
   "outputs": [],
   "source": [
    "\n",
    "selected_df=selected_df.apply(lambda x: x.fillna(x.mean()),axis=0)\n"
   ]
  },
  {
   "cell_type": "code",
   "execution_count": 60,
   "metadata": {},
   "outputs": [
    {
     "data": {
      "text/plain": [
       "Cost            0.0\n",
       "Hunger          0.0\n",
       "Tortilla        0.0\n",
       "Temp            0.0\n",
       "Meat            0.0\n",
       "Fillings        0.0\n",
       "Meat:filling    0.0\n",
       "Uniformity      0.0\n",
       "Salsa           0.0\n",
       "Synergy         0.0\n",
       "Wrap            0.0\n",
       "dtype: float64"
      ]
     },
     "execution_count": 60,
     "metadata": {},
     "output_type": "execute_result"
    }
   ],
   "source": [
    "selected_df.isnull().sum() * 100 / len(selected_df)"
   ]
  },
  {
   "cell_type": "code",
   "execution_count": 61,
   "metadata": {},
   "outputs": [],
   "source": [
    "from sklearn.linear_model import LogisticRegression"
   ]
  },
  {
   "cell_type": "code",
   "execution_count": 62,
   "metadata": {},
   "outputs": [],
   "source": [
    "X=selected_df.values"
   ]
  },
  {
   "cell_type": "code",
   "execution_count": 63,
   "metadata": {},
   "outputs": [
    {
     "data": {
      "text/plain": [
       "array([0, 0, 0, 0, 1, 0, 0, 0, 0, 0, 0, 0, 0, 0, 0, 1, 1, 1, 1, 0, 0, 1,\n",
       "       0, 1, 1, 0, 0, 1, 1, 0, 1, 0, 0, 0, 0, 0, 0, 0, 1, 1, 0, 0, 1, 0,\n",
       "       1, 0, 0, 0, 0, 0, 1, 1, 0, 1, 1, 0, 1, 1, 1, 1, 0, 0, 0, 0, 1, 0,\n",
       "       1, 1, 1, 1, 1, 0, 1, 0, 0, 0, 0, 1, 0, 0, 0, 0, 1, 1, 0, 1, 1, 0,\n",
       "       1, 0, 0, 0, 0, 0, 1, 0, 1, 1, 1, 1, 0, 0, 0, 0, 0, 1, 1, 1, 1, 0,\n",
       "       0, 1, 1, 1, 1, 0, 0, 0, 0, 0, 0, 0, 0, 1, 1, 0, 0, 0, 0, 1, 1, 1,\n",
       "       1, 1, 1, 1, 1, 0, 0, 0, 0, 0, 0, 0, 1, 0, 0, 0, 0, 1, 0, 1, 0, 1,\n",
       "       0, 0, 1, 0, 0, 0, 1, 1, 1, 1, 1, 1, 1, 1, 0, 1, 1, 0, 1, 0, 0, 0,\n",
       "       0, 0, 1, 0, 1, 0, 0, 1, 1, 0, 1, 0, 1, 0, 1, 0, 0, 0, 0, 0, 0, 0,\n",
       "       0, 0, 0, 0, 1, 0, 1, 1, 0, 0, 0, 0, 0, 1, 1, 0, 0, 0, 0, 1, 0, 1,\n",
       "       0, 0, 0, 1, 0, 0, 1, 0, 0, 1, 1, 1, 1, 0, 1, 0, 0, 0, 1, 0, 1, 1,\n",
       "       1, 0, 1, 1, 0, 0, 0, 0, 0, 0, 0, 1, 0, 1, 0, 0, 0, 1, 1, 0, 1, 1,\n",
       "       0, 0, 1, 1, 0, 1, 1, 0, 1, 0, 0, 0, 0, 1, 0, 1, 0, 1, 1, 1, 1, 1,\n",
       "       1, 1, 0, 1, 0, 0, 0, 0, 0, 0, 0, 0, 0])"
      ]
     },
     "execution_count": 63,
     "metadata": {},
     "output_type": "execute_result"
    }
   ],
   "source": [
    "y"
   ]
  },
  {
   "cell_type": "code",
   "execution_count": 64,
   "metadata": {},
   "outputs": [],
   "source": [
    "model = LogisticRegression(random_state=0).fit(X, y)"
   ]
  },
  {
   "cell_type": "code",
   "execution_count": 65,
   "metadata": {},
   "outputs": [],
   "source": [
    "#Let's get the validation set\n",
    "\n",
    "validation_df=pd.read_csv(\"/Users/chidam/Desktop/burritos_validation_set.csv\")"
   ]
  },
  {
   "cell_type": "code",
   "execution_count": 66,
   "metadata": {},
   "outputs": [
    {
     "data": {
      "text/html": [
       "<div>\n",
       "<style scoped>\n",
       "    .dataframe tbody tr th:only-of-type {\n",
       "        vertical-align: middle;\n",
       "    }\n",
       "\n",
       "    .dataframe tbody tr th {\n",
       "        vertical-align: top;\n",
       "    }\n",
       "\n",
       "    .dataframe thead th {\n",
       "        text-align: right;\n",
       "    }\n",
       "</style>\n",
       "<table border=\"1\" class=\"dataframe\">\n",
       "  <thead>\n",
       "    <tr style=\"text-align: right;\">\n",
       "      <th></th>\n",
       "      <th>Location</th>\n",
       "      <th>Burrito</th>\n",
       "      <th>Date</th>\n",
       "      <th>Neighborhood</th>\n",
       "      <th>Address</th>\n",
       "      <th>URL</th>\n",
       "      <th>Yelp</th>\n",
       "      <th>Google</th>\n",
       "      <th>Chips</th>\n",
       "      <th>Cost</th>\n",
       "      <th>...</th>\n",
       "      <th>Lobster</th>\n",
       "      <th>Queso</th>\n",
       "      <th>Egg</th>\n",
       "      <th>Mushroom</th>\n",
       "      <th>Bacon</th>\n",
       "      <th>Sushi</th>\n",
       "      <th>Avocado</th>\n",
       "      <th>Corn</th>\n",
       "      <th>Zucchini</th>\n",
       "      <th>Great</th>\n",
       "    </tr>\n",
       "  </thead>\n",
       "  <tbody>\n",
       "    <tr>\n",
       "      <td>0</td>\n",
       "      <td>Rigoberto's Taco Shop</td>\n",
       "      <td>California</td>\n",
       "      <td>1/4/17</td>\n",
       "      <td>NaN</td>\n",
       "      <td>NaN</td>\n",
       "      <td>NaN</td>\n",
       "      <td>NaN</td>\n",
       "      <td>NaN</td>\n",
       "      <td>NaN</td>\n",
       "      <td>6.60</td>\n",
       "      <td>...</td>\n",
       "      <td>NaN</td>\n",
       "      <td>NaN</td>\n",
       "      <td>NaN</td>\n",
       "      <td>NaN</td>\n",
       "      <td>NaN</td>\n",
       "      <td>NaN</td>\n",
       "      <td>NaN</td>\n",
       "      <td>NaN</td>\n",
       "      <td>NaN</td>\n",
       "      <td>False</td>\n",
       "    </tr>\n",
       "    <tr>\n",
       "      <td>1</td>\n",
       "      <td>Rigoberto's Taco Shop</td>\n",
       "      <td>Chile Relleno</td>\n",
       "      <td>1/4/17</td>\n",
       "      <td>NaN</td>\n",
       "      <td>NaN</td>\n",
       "      <td>NaN</td>\n",
       "      <td>NaN</td>\n",
       "      <td>NaN</td>\n",
       "      <td>NaN</td>\n",
       "      <td>6.60</td>\n",
       "      <td>...</td>\n",
       "      <td>NaN</td>\n",
       "      <td>NaN</td>\n",
       "      <td>NaN</td>\n",
       "      <td>NaN</td>\n",
       "      <td>NaN</td>\n",
       "      <td>NaN</td>\n",
       "      <td>NaN</td>\n",
       "      <td>NaN</td>\n",
       "      <td>NaN</td>\n",
       "      <td>False</td>\n",
       "    </tr>\n",
       "    <tr>\n",
       "      <td>2</td>\n",
       "      <td>Los Tacos</td>\n",
       "      <td>Fusion</td>\n",
       "      <td>1/7/17</td>\n",
       "      <td>NaN</td>\n",
       "      <td>NaN</td>\n",
       "      <td>NaN</td>\n",
       "      <td>NaN</td>\n",
       "      <td>NaN</td>\n",
       "      <td>NaN</td>\n",
       "      <td>8.50</td>\n",
       "      <td>...</td>\n",
       "      <td>NaN</td>\n",
       "      <td>NaN</td>\n",
       "      <td>NaN</td>\n",
       "      <td>NaN</td>\n",
       "      <td>NaN</td>\n",
       "      <td>NaN</td>\n",
       "      <td>NaN</td>\n",
       "      <td>NaN</td>\n",
       "      <td>NaN</td>\n",
       "      <td>False</td>\n",
       "    </tr>\n",
       "    <tr>\n",
       "      <td>3</td>\n",
       "      <td>Los Tacos</td>\n",
       "      <td>Local</td>\n",
       "      <td>1/7/17</td>\n",
       "      <td>NaN</td>\n",
       "      <td>NaN</td>\n",
       "      <td>NaN</td>\n",
       "      <td>NaN</td>\n",
       "      <td>NaN</td>\n",
       "      <td>NaN</td>\n",
       "      <td>7.90</td>\n",
       "      <td>...</td>\n",
       "      <td>NaN</td>\n",
       "      <td>NaN</td>\n",
       "      <td>NaN</td>\n",
       "      <td>NaN</td>\n",
       "      <td>NaN</td>\n",
       "      <td>NaN</td>\n",
       "      <td>NaN</td>\n",
       "      <td>NaN</td>\n",
       "      <td>NaN</td>\n",
       "      <td>False</td>\n",
       "    </tr>\n",
       "    <tr>\n",
       "      <td>4</td>\n",
       "      <td>Taco Villa</td>\n",
       "      <td>Chicken</td>\n",
       "      <td>1/10/17</td>\n",
       "      <td>NaN</td>\n",
       "      <td>NaN</td>\n",
       "      <td>NaN</td>\n",
       "      <td>NaN</td>\n",
       "      <td>NaN</td>\n",
       "      <td>NaN</td>\n",
       "      <td>4.99</td>\n",
       "      <td>...</td>\n",
       "      <td>NaN</td>\n",
       "      <td>NaN</td>\n",
       "      <td>NaN</td>\n",
       "      <td>NaN</td>\n",
       "      <td>NaN</td>\n",
       "      <td>NaN</td>\n",
       "      <td>NaN</td>\n",
       "      <td>NaN</td>\n",
       "      <td>NaN</td>\n",
       "      <td>False</td>\n",
       "    </tr>\n",
       "  </tbody>\n",
       "</table>\n",
       "<p>5 rows × 65 columns</p>\n",
       "</div>"
      ],
      "text/plain": [
       "                Location        Burrito     Date Neighborhood Address  URL  \\\n",
       "0  Rigoberto's Taco Shop     California   1/4/17          NaN     NaN  NaN   \n",
       "1  Rigoberto's Taco Shop  Chile Relleno   1/4/17          NaN     NaN  NaN   \n",
       "2              Los Tacos         Fusion   1/7/17          NaN     NaN  NaN   \n",
       "3              Los Tacos          Local   1/7/17          NaN     NaN  NaN   \n",
       "4             Taco Villa        Chicken  1/10/17          NaN     NaN  NaN   \n",
       "\n",
       "   Yelp  Google Chips  Cost  ...  Lobster  Queso  Egg  Mushroom  Bacon  Sushi  \\\n",
       "0   NaN     NaN   NaN  6.60  ...      NaN    NaN  NaN       NaN    NaN    NaN   \n",
       "1   NaN     NaN   NaN  6.60  ...      NaN    NaN  NaN       NaN    NaN    NaN   \n",
       "2   NaN     NaN   NaN  8.50  ...      NaN    NaN  NaN       NaN    NaN    NaN   \n",
       "3   NaN     NaN   NaN  7.90  ...      NaN    NaN  NaN       NaN    NaN    NaN   \n",
       "4   NaN     NaN   NaN  4.99  ...      NaN    NaN  NaN       NaN    NaN    NaN   \n",
       "\n",
       "   Avocado  Corn  Zucchini  Great  \n",
       "0      NaN   NaN       NaN  False  \n",
       "1      NaN   NaN       NaN  False  \n",
       "2      NaN   NaN       NaN  False  \n",
       "3      NaN   NaN       NaN  False  \n",
       "4      NaN   NaN       NaN  False  \n",
       "\n",
       "[5 rows x 65 columns]"
      ]
     },
     "execution_count": 66,
     "metadata": {},
     "output_type": "execute_result"
    }
   ],
   "source": [
    "validation_df.head()"
   ]
  },
  {
   "cell_type": "code",
   "execution_count": 67,
   "metadata": {},
   "outputs": [],
   "source": [
    "validation_df[\"Great\"] = validation_df[\"Great\"].astype(int)"
   ]
  },
  {
   "cell_type": "code",
   "execution_count": 68,
   "metadata": {},
   "outputs": [],
   "source": [
    "y_valid=validation_df[\"Great\"].values"
   ]
  },
  {
   "cell_type": "code",
   "execution_count": 69,
   "metadata": {},
   "outputs": [],
   "source": [
    "\n",
    "selected_valid_df=validation_df[[\"Cost\", \"Hunger\", \"Tortilla\", \"Temp\", \"Meat\", \"Fillings\", \"Meat:filling\", \"Uniformity\", \"Salsa\", \"Synergy\", \"Wrap\"]]\n",
    "\n",
    "\n",
    "\n"
   ]
  },
  {
   "cell_type": "code",
   "execution_count": 70,
   "metadata": {},
   "outputs": [
    {
     "data": {
      "text/plain": [
       "Cost            1.176471\n",
       "Hunger          2.352941\n",
       "Tortilla        0.000000\n",
       "Temp            5.882353\n",
       "Meat            2.352941\n",
       "Fillings        1.176471\n",
       "Meat:filling    2.352941\n",
       "Uniformity      0.000000\n",
       "Salsa           2.352941\n",
       "Synergy         0.000000\n",
       "Wrap            0.000000\n",
       "dtype: float64"
      ]
     },
     "execution_count": 70,
     "metadata": {},
     "output_type": "execute_result"
    }
   ],
   "source": [
    "#Let's check the percent of values missing in the validation set\n",
    "\n",
    "selected_valid_df.isnull().sum() * 100 / len(selected_valid_df)"
   ]
  },
  {
   "cell_type": "code",
   "execution_count": 71,
   "metadata": {},
   "outputs": [],
   "source": [
    "selected_valid_df=selected_valid_df.apply(lambda x: x.fillna(x.mean()),axis=0)"
   ]
  },
  {
   "cell_type": "code",
   "execution_count": 72,
   "metadata": {},
   "outputs": [
    {
     "data": {
      "text/plain": [
       "Cost            0.0\n",
       "Hunger          0.0\n",
       "Tortilla        0.0\n",
       "Temp            0.0\n",
       "Meat            0.0\n",
       "Fillings        0.0\n",
       "Meat:filling    0.0\n",
       "Uniformity      0.0\n",
       "Salsa           0.0\n",
       "Synergy         0.0\n",
       "Wrap            0.0\n",
       "dtype: float64"
      ]
     },
     "execution_count": 72,
     "metadata": {},
     "output_type": "execute_result"
    }
   ],
   "source": [
    "selected_valid_df.isnull().sum() * 100 / len(selected_valid_df)"
   ]
  },
  {
   "cell_type": "code",
   "execution_count": 73,
   "metadata": {},
   "outputs": [],
   "source": [
    "X_valid=selected_valid_df.values"
   ]
  },
  {
   "cell_type": "code",
   "execution_count": 74,
   "metadata": {},
   "outputs": [],
   "source": [
    "#Finding y_pred using validation set\n",
    "y_pred_valid=model.predict(X_valid)\n"
   ]
  },
  {
   "cell_type": "code",
   "execution_count": 76,
   "metadata": {},
   "outputs": [
    {
     "data": {
      "text/plain": [
       "0.8352941176470589"
      ]
     },
     "execution_count": 76,
     "metadata": {},
     "output_type": "execute_result"
    }
   ],
   "source": [
    "from sklearn.metrics import accuracy_score\n",
    "\n",
    "accuracy_score(y_valid, y_pred_valid)"
   ]
  },
  {
   "cell_type": "code",
   "execution_count": null,
   "metadata": {},
   "outputs": [],
   "source": []
  },
  {
   "cell_type": "code",
   "execution_count": null,
   "metadata": {},
   "outputs": [],
   "source": []
  },
  {
   "cell_type": "code",
   "execution_count": null,
   "metadata": {},
   "outputs": [],
   "source": [
    "--------------------------------------------------------------------------------------------------------------------------------"
   ]
  },
  {
   "cell_type": "code",
   "execution_count": null,
   "metadata": {},
   "outputs": [],
   "source": []
  },
  {
   "cell_type": "code",
   "execution_count": null,
   "metadata": {},
   "outputs": [],
   "source": []
  },
  {
   "cell_type": "code",
   "execution_count": null,
   "metadata": {},
   "outputs": [],
   "source": [
    "Can we do better than this?\n",
    "\n",
    "We have used a simple imputation technique using mean. That is not always a great solution because mean calculation \n",
    "ignores that correlation exists amongst features. Correlation is useful for prediction.\n",
    "\n",
    "\n",
    "So let us try another imputation using K-Nearest Neighbor algorithm. SkLearn has a ..."
   ]
  },
  {
   "cell_type": "code",
   "execution_count": 77,
   "metadata": {},
   "outputs": [],
   "source": [
    "import numpy as np\n",
    "from sklearn.impute import KNNImputer\n"
   ]
  },
  {
   "cell_type": "code",
   "execution_count": null,
   "metadata": {},
   "outputs": [],
   "source": []
  },
  {
   "cell_type": "code",
   "execution_count": 78,
   "metadata": {},
   "outputs": [],
   "source": [
    "\n",
    "\n",
    "X_train_new=train[[\"Cost\", \"Hunger\", \"Tortilla\", \"Temp\", \"Meat\", \"Fillings\", \"Meat:filling\", \"Uniformity\", \"Salsa\", \"Synergy\", \"Wrap\"]]\n",
    "\n",
    "\n",
    "\n"
   ]
  },
  {
   "cell_type": "code",
   "execution_count": 79,
   "metadata": {},
   "outputs": [
    {
     "data": {
      "text/plain": [
       "array([[6.49, 3.  , 3.  , ..., 4.  , 4.  , 4.  ],\n",
       "       [5.45, 3.5 , 2.  , ..., 3.5 , 2.5 , 5.  ],\n",
       "       [4.85, 1.5 , 3.  , ..., 3.  , 3.  , 5.  ],\n",
       "       ...,\n",
       "       [7.75, 4.  , 3.5 , ..., 2.2 , 3.3 , 4.5 ],\n",
       "       [7.75, 4.  , 4.  , ..., 2.  , 2.  , 4.  ],\n",
       "       [6.99, 3.7 , 3.6 , ...,  nan, 3.8 , 2.  ]])"
      ]
     },
     "execution_count": 79,
     "metadata": {},
     "output_type": "execute_result"
    }
   ],
   "source": [
    "X_train_new.values"
   ]
  },
  {
   "cell_type": "code",
   "execution_count": 81,
   "metadata": {},
   "outputs": [],
   "source": [
    "imputer = KNNImputer(n_neighbors=2)\n",
    "X_knn_imputed=imputer.fit_transform(X_train_new.values)"
   ]
  },
  {
   "cell_type": "code",
   "execution_count": 82,
   "metadata": {},
   "outputs": [],
   "source": [
    "model1 = LogisticRegression(random_state=0).fit(X_knn_imputed, y)"
   ]
  },
  {
   "cell_type": "code",
   "execution_count": 83,
   "metadata": {},
   "outputs": [],
   "source": [
    "\n",
    "valid_new=validation_df[[\"Cost\", \"Hunger\", \"Tortilla\", \"Temp\", \"Meat\", \"Fillings\", \"Meat:filling\", \"Uniformity\", \"Salsa\", \"Synergy\", \"Wrap\"]]\n",
    "\n",
    "\n"
   ]
  },
  {
   "cell_type": "code",
   "execution_count": 86,
   "metadata": {},
   "outputs": [],
   "source": [
    "# valid_new.values\n",
    "\n",
    "valid_knn_imputed=imputer.fit_transform(valid_new.values)"
   ]
  },
  {
   "cell_type": "code",
   "execution_count": 87,
   "metadata": {},
   "outputs": [],
   "source": [
    "\n",
    "ypred_valid_imputed=model1.predict(valid_knn_imputed)\n"
   ]
  },
  {
   "cell_type": "code",
   "execution_count": 88,
   "metadata": {},
   "outputs": [
    {
     "data": {
      "text/plain": [
       "0.8235294117647058"
      ]
     },
     "execution_count": 88,
     "metadata": {},
     "output_type": "execute_result"
    }
   ],
   "source": [
    "accuracy_score(y_valid, ypred_valid_imputed)"
   ]
  },
  {
   "cell_type": "code",
   "execution_count": 104,
   "metadata": {},
   "outputs": [],
   "source": [
    "#Validation function\n",
    "\n",
    "from sklearn.metrics import accuracy_score\n",
    "from sklearn.model_selection import KFold\n",
    "from sklearn.model_selection import cross_val_score\n",
    "n_folds = 5\n",
    "\n",
    "def rmsle_cv(model):\n",
    "    kf = KFold(n_folds, shuffle=True, random_state=42)\n",
    "    accuracy_score=cross_val_score(model, X, y, cv = kf)\n",
    "    return accuracy_score.mean()"
   ]
  },
  {
   "cell_type": "code",
   "execution_count": 105,
   "metadata": {},
   "outputs": [
    {
     "data": {
      "text/plain": [
       "0.8728813559322035"
      ]
     },
     "execution_count": 105,
     "metadata": {},
     "output_type": "execute_result"
    }
   ],
   "source": [
    "rmsle_cv(model)"
   ]
  },
  {
   "cell_type": "code",
   "execution_count": 106,
   "metadata": {},
   "outputs": [],
   "source": [
    "n_folds = 5\n",
    "\n",
    "def rmsle_cv1(model):\n",
    "    kf = KFold(n_folds, shuffle=True, random_state=42)\n",
    "    accuracy_score=cross_val_score(model1, X_valid, y_valid, cv = kf)\n",
    "    return accuracy_score.mean()"
   ]
  },
  {
   "cell_type": "code",
   "execution_count": 107,
   "metadata": {},
   "outputs": [
    {
     "data": {
      "text/plain": [
       "0.8470588235294118"
      ]
     },
     "execution_count": 107,
     "metadata": {},
     "output_type": "execute_result"
    }
   ],
   "source": [
    "rmsle_cv1(model)"
   ]
  },
  {
   "cell_type": "code",
   "execution_count": 126,
   "metadata": {},
   "outputs": [],
   "source": [
    "from sklearn.metrics import confusion_matrix\n",
    "\n",
    "CM=confusion_matrix(y_valid, y_pred_valid)"
   ]
  },
  {
   "cell_type": "code",
   "execution_count": 127,
   "metadata": {},
   "outputs": [],
   "source": [
    "\n",
    "\n",
    "TN = CM[0][0]\n",
    "FN = CM[1][0]\n",
    "TP = CM[1][1]\n",
    "FP = CM[0][1]"
   ]
  },
  {
   "cell_type": "code",
   "execution_count": 128,
   "metadata": {},
   "outputs": [
    {
     "data": {
      "text/plain": [
       "(37, 4, 34, 10)"
      ]
     },
     "execution_count": 128,
     "metadata": {},
     "output_type": "execute_result"
    }
   ],
   "source": [
    "TN, FN, TP, FP"
   ]
  },
  {
   "cell_type": "code",
   "execution_count": 112,
   "metadata": {},
   "outputs": [
    {
     "data": {
      "text/plain": [
       "array([0, 0, 0, 0, 0, 0, 1, 0, 0, 1, 1, 0, 0, 0, 1, 1, 0, 1, 1, 1, 1, 0,\n",
       "       0, 1, 1, 1, 1, 0, 1, 1, 1, 0, 1, 0, 0, 0, 0, 1, 0, 0, 0, 0, 0, 1,\n",
       "       1, 0, 0, 0, 1, 0, 0, 0, 1, 1, 0, 0, 0, 0, 1, 0, 0, 0, 0, 0, 1, 1,\n",
       "       0, 1, 1, 0, 1, 1, 0, 1, 0, 0, 0, 1, 1, 1, 1, 1, 0, 1, 1])"
      ]
     },
     "execution_count": 112,
     "metadata": {},
     "output_type": "execute_result"
    }
   ],
   "source": [
    "y_valid"
   ]
  },
  {
   "cell_type": "code",
   "execution_count": 114,
   "metadata": {},
   "outputs": [
    {
     "data": {
      "text/plain": [
       "0    47\n",
       "1    38\n",
       "Name: Great, dtype: int64"
      ]
     },
     "execution_count": 114,
     "metadata": {},
     "output_type": "execute_result"
    }
   ],
   "source": [
    "validation_df[\"Great\"].value_counts()"
   ]
  },
  {
   "cell_type": "code",
   "execution_count": null,
   "metadata": {},
   "outputs": [],
   "source": []
  },
  {
   "cell_type": "code",
   "execution_count": null,
   "metadata": {},
   "outputs": [],
   "source": [
    "KNN imputer - not doing great"
   ]
  },
  {
   "cell_type": "code",
   "execution_count": null,
   "metadata": {},
   "outputs": [],
   "source": []
  },
  {
   "cell_type": "code",
   "execution_count": null,
   "metadata": {},
   "outputs": [],
   "source": []
  },
  {
   "cell_type": "code",
   "execution_count": null,
   "metadata": {},
   "outputs": [],
   "source": [
    "--------------------------------------------------------------------------------------------------------------------------------"
   ]
  },
  {
   "cell_type": "code",
   "execution_count": null,
   "metadata": {},
   "outputs": [],
   "source": []
  },
  {
   "cell_type": "code",
   "execution_count": null,
   "metadata": {},
   "outputs": [],
   "source": []
  },
  {
   "cell_type": "code",
   "execution_count": 129,
   "metadata": {},
   "outputs": [],
   "source": [
    "CM2=confusion_matrix(y_valid, ypred_valid_imputed)"
   ]
  },
  {
   "cell_type": "code",
   "execution_count": 130,
   "metadata": {},
   "outputs": [],
   "source": [
    "TN = CM2[0][0]\n",
    "FN = CM2[1][0]\n",
    "TP = CM2[1][1]\n",
    "FP = CM2[0][1]"
   ]
  },
  {
   "cell_type": "code",
   "execution_count": 131,
   "metadata": {},
   "outputs": [
    {
     "data": {
      "text/plain": [
       "(36, 4, 34, 11)"
      ]
     },
     "execution_count": 131,
     "metadata": {},
     "output_type": "execute_result"
    }
   ],
   "source": [
    "TN, FN, TP, FP"
   ]
  },
  {
   "cell_type": "code",
   "execution_count": 132,
   "metadata": {},
   "outputs": [],
   "source": [
    "#Let's try standard scaler and see whether it improves performance\n",
    "\n",
    "from sklearn.preprocessing import StandardScaler"
   ]
  },
  {
   "cell_type": "code",
   "execution_count": 134,
   "metadata": {},
   "outputs": [],
   "source": [
    "scaler = StandardScaler()\n",
    "scaler.fit(X)\n",
    "X_scaled=scaler.transform(X)"
   ]
  },
  {
   "cell_type": "code",
   "execution_count": 135,
   "metadata": {},
   "outputs": [],
   "source": [
    "model3 = LogisticRegression(random_state=0).fit(X_scaled, y)"
   ]
  },
  {
   "cell_type": "code",
   "execution_count": 136,
   "metadata": {},
   "outputs": [],
   "source": [
    "\n",
    "\n",
    "scaler.fit(X_valid)\n",
    "X_valid_scaled=scaler.transform(X_valid)"
   ]
  },
  {
   "cell_type": "code",
   "execution_count": 137,
   "metadata": {},
   "outputs": [],
   "source": [
    "y_valid_scaled_pred=model3.predict(X_valid_scaled)"
   ]
  },
  {
   "cell_type": "code",
   "execution_count": 138,
   "metadata": {},
   "outputs": [],
   "source": [
    "CM3=confusion_matrix(y_valid, y_valid_scaled_pred)"
   ]
  },
  {
   "cell_type": "code",
   "execution_count": 139,
   "metadata": {},
   "outputs": [],
   "source": [
    "TN = CM3[0][0]\n",
    "FN = CM3[1][0]\n",
    "TP = CM3[1][1]\n",
    "FP = CM3[0][1]"
   ]
  },
  {
   "cell_type": "code",
   "execution_count": 140,
   "metadata": {},
   "outputs": [
    {
     "data": {
      "text/plain": [
       "(45, 7, 31, 2)"
      ]
     },
     "execution_count": 140,
     "metadata": {},
     "output_type": "execute_result"
    }
   ],
   "source": [
    "TN, FN, TP, FP"
   ]
  },
  {
   "cell_type": "code",
   "execution_count": 141,
   "metadata": {},
   "outputs": [],
   "source": [
    "n_folds = 5\n",
    "\n",
    "def rmsle_cv(model):\n",
    "    kf = KFold(n_folds, shuffle=True, random_state=42)\n",
    "    accuracy_score=cross_val_score(model, X_scaled, y, cv = kf)\n",
    "    return accuracy_score.mean()"
   ]
  },
  {
   "cell_type": "code",
   "execution_count": 142,
   "metadata": {},
   "outputs": [
    {
     "data": {
      "text/plain": [
       "0.8694915254237288"
      ]
     },
     "execution_count": 142,
     "metadata": {},
     "output_type": "execute_result"
    }
   ],
   "source": [
    "rmsle_cv(model3)"
   ]
  },
  {
   "cell_type": "code",
   "execution_count": 144,
   "metadata": {},
   "outputs": [],
   "source": [
    "n_folds = 5\n",
    "\n",
    "def rmsle_cv_2(model):\n",
    "    kf = KFold(n_folds, shuffle=True, random_state=42)\n",
    "    accuracy_score=cross_val_score(model, X_valid_scaled, y_valid, cv = kf)\n",
    "    return accuracy_score.mean()"
   ]
  },
  {
   "cell_type": "code",
   "execution_count": 145,
   "metadata": {},
   "outputs": [
    {
     "data": {
      "text/plain": [
       "0.8705882352941178"
      ]
     },
     "execution_count": 145,
     "metadata": {},
     "output_type": "execute_result"
    }
   ],
   "source": [
    "rmsle_cv_2(model3)"
   ]
  },
  {
   "cell_type": "code",
   "execution_count": null,
   "metadata": {},
   "outputs": [],
   "source": []
  },
  {
   "cell_type": "code",
   "execution_count": null,
   "metadata": {},
   "outputs": [],
   "source": []
  },
  {
   "cell_type": "code",
   "execution_count": null,
   "metadata": {},
   "outputs": [],
   "source": [
    "--------------------------------------------------------------------------------------------------------------------------------"
   ]
  },
  {
   "cell_type": "code",
   "execution_count": null,
   "metadata": {},
   "outputs": [],
   "source": []
  },
  {
   "cell_type": "code",
   "execution_count": null,
   "metadata": {},
   "outputs": [],
   "source": []
  },
  {
   "cell_type": "code",
   "execution_count": 146,
   "metadata": {},
   "outputs": [],
   "source": [
    "test=pd.read_csv(\"/Users/chidam/Desktop/burritos_test_set.csv\")"
   ]
  },
  {
   "cell_type": "code",
   "execution_count": 147,
   "metadata": {},
   "outputs": [
    {
     "data": {
      "text/plain": [
       "37"
      ]
     },
     "execution_count": 147,
     "metadata": {},
     "output_type": "execute_result"
    }
   ],
   "source": [
    "len(test)"
   ]
  },
  {
   "cell_type": "code",
   "execution_count": 151,
   "metadata": {},
   "outputs": [
    {
     "data": {
      "text/plain": [
       "True     21\n",
       "False    16\n",
       "Name: Great, dtype: int64"
      ]
     },
     "execution_count": 151,
     "metadata": {},
     "output_type": "execute_result"
    }
   ],
   "source": [
    "test[\"Great\"].value_counts()"
   ]
  },
  {
   "cell_type": "code",
   "execution_count": 150,
   "metadata": {},
   "outputs": [],
   "source": [
    "y_test=test[\"Great\"].values"
   ]
  },
  {
   "cell_type": "code",
   "execution_count": 152,
   "metadata": {},
   "outputs": [
    {
     "data": {
      "text/plain": [
       "Cost            0.000000\n",
       "Hunger          0.000000\n",
       "Tortilla        0.000000\n",
       "Temp            0.000000\n",
       "Meat            5.405405\n",
       "Fillings        2.702703\n",
       "Meat:filling    2.702703\n",
       "Uniformity      0.000000\n",
       "Salsa           8.108108\n",
       "Synergy         0.000000\n",
       "Wrap            2.702703\n",
       "dtype: float64"
      ]
     },
     "execution_count": 152,
     "metadata": {},
     "output_type": "execute_result"
    }
   ],
   "source": [
    "\n",
    "test[selected].isnull().sum() * 100 / len(test[selected])\n"
   ]
  },
  {
   "cell_type": "code",
   "execution_count": 153,
   "metadata": {},
   "outputs": [],
   "source": [
    "test[selected]=test[selected].apply(lambda x: x.fillna(x.mean()),axis=0)"
   ]
  },
  {
   "cell_type": "code",
   "execution_count": 154,
   "metadata": {},
   "outputs": [
    {
     "data": {
      "text/plain": [
       "Cost            0.0\n",
       "Hunger          0.0\n",
       "Tortilla        0.0\n",
       "Temp            0.0\n",
       "Meat            0.0\n",
       "Fillings        0.0\n",
       "Meat:filling    0.0\n",
       "Uniformity      0.0\n",
       "Salsa           0.0\n",
       "Synergy         0.0\n",
       "Wrap            0.0\n",
       "dtype: float64"
      ]
     },
     "execution_count": 154,
     "metadata": {},
     "output_type": "execute_result"
    }
   ],
   "source": [
    "test[selected].isnull().sum() * 100 / len(test[selected])"
   ]
  },
  {
   "cell_type": "code",
   "execution_count": 155,
   "metadata": {},
   "outputs": [],
   "source": [
    "X_test=test[selected].values"
   ]
  },
  {
   "cell_type": "code",
   "execution_count": 156,
   "metadata": {},
   "outputs": [],
   "source": [
    "\n",
    "scaler.fit(X_test)\n",
    "Xtest_scaled=scaler.transform(X_test)\n",
    "\n"
   ]
  },
  {
   "cell_type": "code",
   "execution_count": 157,
   "metadata": {},
   "outputs": [
    {
     "data": {
      "text/html": [
       "<div>\n",
       "<style scoped>\n",
       "    .dataframe tbody tr th:only-of-type {\n",
       "        vertical-align: middle;\n",
       "    }\n",
       "\n",
       "    .dataframe tbody tr th {\n",
       "        vertical-align: top;\n",
       "    }\n",
       "\n",
       "    .dataframe thead th {\n",
       "        text-align: right;\n",
       "    }\n",
       "</style>\n",
       "<table border=\"1\" class=\"dataframe\">\n",
       "  <thead>\n",
       "    <tr style=\"text-align: right;\">\n",
       "      <th></th>\n",
       "      <th>Cost</th>\n",
       "      <th>Hunger</th>\n",
       "      <th>Tortilla</th>\n",
       "      <th>Temp</th>\n",
       "      <th>Meat</th>\n",
       "      <th>Fillings</th>\n",
       "      <th>Meat:filling</th>\n",
       "      <th>Uniformity</th>\n",
       "      <th>Salsa</th>\n",
       "      <th>Synergy</th>\n",
       "      <th>Wrap</th>\n",
       "    </tr>\n",
       "  </thead>\n",
       "  <tbody>\n",
       "    <tr>\n",
       "      <td>0</td>\n",
       "      <td>6.60</td>\n",
       "      <td>3.679518</td>\n",
       "      <td>4.0</td>\n",
       "      <td>4.5</td>\n",
       "      <td>4.000000</td>\n",
       "      <td>3.5</td>\n",
       "      <td>3.500000</td>\n",
       "      <td>5.0</td>\n",
       "      <td>1.5</td>\n",
       "      <td>3.50</td>\n",
       "      <td>4.5</td>\n",
       "    </tr>\n",
       "    <tr>\n",
       "      <td>1</td>\n",
       "      <td>6.60</td>\n",
       "      <td>3.679518</td>\n",
       "      <td>4.0</td>\n",
       "      <td>2.0</td>\n",
       "      <td>3.718675</td>\n",
       "      <td>4.0</td>\n",
       "      <td>3.681928</td>\n",
       "      <td>4.6</td>\n",
       "      <td>4.2</td>\n",
       "      <td>3.75</td>\n",
       "      <td>5.0</td>\n",
       "    </tr>\n",
       "    <tr>\n",
       "      <td>2</td>\n",
       "      <td>8.50</td>\n",
       "      <td>3.900000</td>\n",
       "      <td>3.0</td>\n",
       "      <td>4.5</td>\n",
       "      <td>4.100000</td>\n",
       "      <td>3.0</td>\n",
       "      <td>3.700000</td>\n",
       "      <td>4.0</td>\n",
       "      <td>4.3</td>\n",
       "      <td>4.20</td>\n",
       "      <td>5.0</td>\n",
       "    </tr>\n",
       "    <tr>\n",
       "      <td>3</td>\n",
       "      <td>7.90</td>\n",
       "      <td>4.000000</td>\n",
       "      <td>3.5</td>\n",
       "      <td>4.0</td>\n",
       "      <td>4.000000</td>\n",
       "      <td>3.0</td>\n",
       "      <td>4.000000</td>\n",
       "      <td>4.5</td>\n",
       "      <td>4.0</td>\n",
       "      <td>3.80</td>\n",
       "      <td>4.8</td>\n",
       "    </tr>\n",
       "    <tr>\n",
       "      <td>4</td>\n",
       "      <td>4.99</td>\n",
       "      <td>3.500000</td>\n",
       "      <td>2.5</td>\n",
       "      <td>4.5</td>\n",
       "      <td>3.000000</td>\n",
       "      <td>2.5</td>\n",
       "      <td>3.000000</td>\n",
       "      <td>3.0</td>\n",
       "      <td>2.0</td>\n",
       "      <td>2.00</td>\n",
       "      <td>4.0</td>\n",
       "    </tr>\n",
       "  </tbody>\n",
       "</table>\n",
       "</div>"
      ],
      "text/plain": [
       "   Cost    Hunger  Tortilla  Temp      Meat  Fillings  Meat:filling  \\\n",
       "0  6.60  3.679518       4.0   4.5  4.000000       3.5      3.500000   \n",
       "1  6.60  3.679518       4.0   2.0  3.718675       4.0      3.681928   \n",
       "2  8.50  3.900000       3.0   4.5  4.100000       3.0      3.700000   \n",
       "3  7.90  4.000000       3.5   4.0  4.000000       3.0      4.000000   \n",
       "4  4.99  3.500000       2.5   4.5  3.000000       2.5      3.000000   \n",
       "\n",
       "   Uniformity  Salsa  Synergy  Wrap  \n",
       "0         5.0    1.5     3.50   4.5  \n",
       "1         4.6    4.2     3.75   5.0  \n",
       "2         4.0    4.3     4.20   5.0  \n",
       "3         4.5    4.0     3.80   4.8  \n",
       "4         3.0    2.0     2.00   4.0  "
      ]
     },
     "execution_count": 157,
     "metadata": {},
     "output_type": "execute_result"
    }
   ],
   "source": [
    "\n",
    "\n",
    "selected_valid_df.head()\n"
   ]
  },
  {
   "cell_type": "code",
   "execution_count": 162,
   "metadata": {},
   "outputs": [
    {
     "data": {
      "text/plain": [
       "85"
      ]
     },
     "execution_count": 162,
     "metadata": {},
     "output_type": "execute_result"
    }
   ],
   "source": [
    "len(selected_valid_df)"
   ]
  },
  {
   "cell_type": "code",
   "execution_count": 158,
   "metadata": {},
   "outputs": [
    {
     "data": {
      "text/html": [
       "<div>\n",
       "<style scoped>\n",
       "    .dataframe tbody tr th:only-of-type {\n",
       "        vertical-align: middle;\n",
       "    }\n",
       "\n",
       "    .dataframe tbody tr th {\n",
       "        vertical-align: top;\n",
       "    }\n",
       "\n",
       "    .dataframe thead th {\n",
       "        text-align: right;\n",
       "    }\n",
       "</style>\n",
       "<table border=\"1\" class=\"dataframe\">\n",
       "  <thead>\n",
       "    <tr style=\"text-align: right;\">\n",
       "      <th></th>\n",
       "      <th>Cost</th>\n",
       "      <th>Hunger</th>\n",
       "      <th>Tortilla</th>\n",
       "      <th>Temp</th>\n",
       "      <th>Meat</th>\n",
       "      <th>Fillings</th>\n",
       "      <th>Meat:filling</th>\n",
       "      <th>Uniformity</th>\n",
       "      <th>Salsa</th>\n",
       "      <th>Synergy</th>\n",
       "      <th>Wrap</th>\n",
       "    </tr>\n",
       "  </thead>\n",
       "  <tbody>\n",
       "    <tr>\n",
       "      <td>0</td>\n",
       "      <td>6.49</td>\n",
       "      <td>3.0</td>\n",
       "      <td>3.0</td>\n",
       "      <td>5.0</td>\n",
       "      <td>3.0</td>\n",
       "      <td>3.5</td>\n",
       "      <td>4.0</td>\n",
       "      <td>4.0</td>\n",
       "      <td>4.0</td>\n",
       "      <td>4.0</td>\n",
       "      <td>4.0</td>\n",
       "    </tr>\n",
       "    <tr>\n",
       "      <td>1</td>\n",
       "      <td>5.45</td>\n",
       "      <td>3.5</td>\n",
       "      <td>2.0</td>\n",
       "      <td>3.5</td>\n",
       "      <td>2.5</td>\n",
       "      <td>2.5</td>\n",
       "      <td>2.0</td>\n",
       "      <td>4.0</td>\n",
       "      <td>3.5</td>\n",
       "      <td>2.5</td>\n",
       "      <td>5.0</td>\n",
       "    </tr>\n",
       "    <tr>\n",
       "      <td>2</td>\n",
       "      <td>4.85</td>\n",
       "      <td>1.5</td>\n",
       "      <td>3.0</td>\n",
       "      <td>2.0</td>\n",
       "      <td>2.5</td>\n",
       "      <td>3.0</td>\n",
       "      <td>4.5</td>\n",
       "      <td>4.0</td>\n",
       "      <td>3.0</td>\n",
       "      <td>3.0</td>\n",
       "      <td>5.0</td>\n",
       "    </tr>\n",
       "    <tr>\n",
       "      <td>3</td>\n",
       "      <td>5.25</td>\n",
       "      <td>2.0</td>\n",
       "      <td>3.0</td>\n",
       "      <td>2.0</td>\n",
       "      <td>3.5</td>\n",
       "      <td>3.0</td>\n",
       "      <td>4.0</td>\n",
       "      <td>5.0</td>\n",
       "      <td>4.0</td>\n",
       "      <td>4.0</td>\n",
       "      <td>5.0</td>\n",
       "    </tr>\n",
       "    <tr>\n",
       "      <td>4</td>\n",
       "      <td>6.59</td>\n",
       "      <td>4.0</td>\n",
       "      <td>4.0</td>\n",
       "      <td>5.0</td>\n",
       "      <td>4.0</td>\n",
       "      <td>3.5</td>\n",
       "      <td>4.5</td>\n",
       "      <td>5.0</td>\n",
       "      <td>2.5</td>\n",
       "      <td>4.5</td>\n",
       "      <td>4.0</td>\n",
       "    </tr>\n",
       "  </tbody>\n",
       "</table>\n",
       "</div>"
      ],
      "text/plain": [
       "   Cost  Hunger  Tortilla  Temp  Meat  Fillings  Meat:filling  Uniformity  \\\n",
       "0  6.49     3.0       3.0   5.0   3.0       3.5           4.0         4.0   \n",
       "1  5.45     3.5       2.0   3.5   2.5       2.5           2.0         4.0   \n",
       "2  4.85     1.5       3.0   2.0   2.5       3.0           4.5         4.0   \n",
       "3  5.25     2.0       3.0   2.0   3.5       3.0           4.0         5.0   \n",
       "4  6.59     4.0       4.0   5.0   4.0       3.5           4.5         5.0   \n",
       "\n",
       "   Salsa  Synergy  Wrap  \n",
       "0    4.0      4.0   4.0  \n",
       "1    3.5      2.5   5.0  \n",
       "2    3.0      3.0   5.0  \n",
       "3    4.0      4.0   5.0  \n",
       "4    2.5      4.5   4.0  "
      ]
     },
     "execution_count": 158,
     "metadata": {},
     "output_type": "execute_result"
    }
   ],
   "source": [
    "selected_df.head()"
   ]
  },
  {
   "cell_type": "code",
   "execution_count": 161,
   "metadata": {},
   "outputs": [
    {
     "data": {
      "text/plain": [
       "299"
      ]
     },
     "execution_count": 161,
     "metadata": {},
     "output_type": "execute_result"
    }
   ],
   "source": [
    "len(selected_df)"
   ]
  },
  {
   "cell_type": "code",
   "execution_count": 159,
   "metadata": {},
   "outputs": [],
   "source": [
    "X_combined = selected_df.append(selected_valid_df, ignore_index=True)"
   ]
  },
  {
   "cell_type": "code",
   "execution_count": 160,
   "metadata": {},
   "outputs": [
    {
     "data": {
      "text/html": [
       "<div>\n",
       "<style scoped>\n",
       "    .dataframe tbody tr th:only-of-type {\n",
       "        vertical-align: middle;\n",
       "    }\n",
       "\n",
       "    .dataframe tbody tr th {\n",
       "        vertical-align: top;\n",
       "    }\n",
       "\n",
       "    .dataframe thead th {\n",
       "        text-align: right;\n",
       "    }\n",
       "</style>\n",
       "<table border=\"1\" class=\"dataframe\">\n",
       "  <thead>\n",
       "    <tr style=\"text-align: right;\">\n",
       "      <th></th>\n",
       "      <th>Cost</th>\n",
       "      <th>Hunger</th>\n",
       "      <th>Tortilla</th>\n",
       "      <th>Temp</th>\n",
       "      <th>Meat</th>\n",
       "      <th>Fillings</th>\n",
       "      <th>Meat:filling</th>\n",
       "      <th>Uniformity</th>\n",
       "      <th>Salsa</th>\n",
       "      <th>Synergy</th>\n",
       "      <th>Wrap</th>\n",
       "    </tr>\n",
       "  </thead>\n",
       "  <tbody>\n",
       "    <tr>\n",
       "      <td>0</td>\n",
       "      <td>6.49</td>\n",
       "      <td>3.0</td>\n",
       "      <td>3.0</td>\n",
       "      <td>5.0</td>\n",
       "      <td>3.0</td>\n",
       "      <td>3.5</td>\n",
       "      <td>4.0</td>\n",
       "      <td>4.0</td>\n",
       "      <td>4.0</td>\n",
       "      <td>4.0</td>\n",
       "      <td>4.0</td>\n",
       "    </tr>\n",
       "    <tr>\n",
       "      <td>1</td>\n",
       "      <td>5.45</td>\n",
       "      <td>3.5</td>\n",
       "      <td>2.0</td>\n",
       "      <td>3.5</td>\n",
       "      <td>2.5</td>\n",
       "      <td>2.5</td>\n",
       "      <td>2.0</td>\n",
       "      <td>4.0</td>\n",
       "      <td>3.5</td>\n",
       "      <td>2.5</td>\n",
       "      <td>5.0</td>\n",
       "    </tr>\n",
       "    <tr>\n",
       "      <td>2</td>\n",
       "      <td>4.85</td>\n",
       "      <td>1.5</td>\n",
       "      <td>3.0</td>\n",
       "      <td>2.0</td>\n",
       "      <td>2.5</td>\n",
       "      <td>3.0</td>\n",
       "      <td>4.5</td>\n",
       "      <td>4.0</td>\n",
       "      <td>3.0</td>\n",
       "      <td>3.0</td>\n",
       "      <td>5.0</td>\n",
       "    </tr>\n",
       "    <tr>\n",
       "      <td>3</td>\n",
       "      <td>5.25</td>\n",
       "      <td>2.0</td>\n",
       "      <td>3.0</td>\n",
       "      <td>2.0</td>\n",
       "      <td>3.5</td>\n",
       "      <td>3.0</td>\n",
       "      <td>4.0</td>\n",
       "      <td>5.0</td>\n",
       "      <td>4.0</td>\n",
       "      <td>4.0</td>\n",
       "      <td>5.0</td>\n",
       "    </tr>\n",
       "    <tr>\n",
       "      <td>4</td>\n",
       "      <td>6.59</td>\n",
       "      <td>4.0</td>\n",
       "      <td>4.0</td>\n",
       "      <td>5.0</td>\n",
       "      <td>4.0</td>\n",
       "      <td>3.5</td>\n",
       "      <td>4.5</td>\n",
       "      <td>5.0</td>\n",
       "      <td>2.5</td>\n",
       "      <td>4.5</td>\n",
       "      <td>4.0</td>\n",
       "    </tr>\n",
       "    <tr>\n",
       "      <td>...</td>\n",
       "      <td>...</td>\n",
       "      <td>...</td>\n",
       "      <td>...</td>\n",
       "      <td>...</td>\n",
       "      <td>...</td>\n",
       "      <td>...</td>\n",
       "      <td>...</td>\n",
       "      <td>...</td>\n",
       "      <td>...</td>\n",
       "      <td>...</td>\n",
       "      <td>...</td>\n",
       "    </tr>\n",
       "    <tr>\n",
       "      <td>379</td>\n",
       "      <td>6.85</td>\n",
       "      <td>3.5</td>\n",
       "      <td>3.0</td>\n",
       "      <td>4.5</td>\n",
       "      <td>3.8</td>\n",
       "      <td>3.8</td>\n",
       "      <td>4.0</td>\n",
       "      <td>3.5</td>\n",
       "      <td>3.5</td>\n",
       "      <td>4.0</td>\n",
       "      <td>3.0</td>\n",
       "    </tr>\n",
       "    <tr>\n",
       "      <td>380</td>\n",
       "      <td>6.85</td>\n",
       "      <td>3.5</td>\n",
       "      <td>3.0</td>\n",
       "      <td>4.5</td>\n",
       "      <td>4.0</td>\n",
       "      <td>4.0</td>\n",
       "      <td>4.5</td>\n",
       "      <td>3.0</td>\n",
       "      <td>4.0</td>\n",
       "      <td>4.0</td>\n",
       "      <td>3.5</td>\n",
       "    </tr>\n",
       "    <tr>\n",
       "      <td>381</td>\n",
       "      <td>11.50</td>\n",
       "      <td>3.5</td>\n",
       "      <td>2.0</td>\n",
       "      <td>2.0</td>\n",
       "      <td>4.0</td>\n",
       "      <td>3.5</td>\n",
       "      <td>3.0</td>\n",
       "      <td>4.5</td>\n",
       "      <td>3.5</td>\n",
       "      <td>4.0</td>\n",
       "      <td>2.0</td>\n",
       "    </tr>\n",
       "    <tr>\n",
       "      <td>382</td>\n",
       "      <td>7.89</td>\n",
       "      <td>4.0</td>\n",
       "      <td>4.0</td>\n",
       "      <td>3.0</td>\n",
       "      <td>4.0</td>\n",
       "      <td>4.0</td>\n",
       "      <td>3.0</td>\n",
       "      <td>4.0</td>\n",
       "      <td>3.5</td>\n",
       "      <td>4.3</td>\n",
       "      <td>4.5</td>\n",
       "    </tr>\n",
       "    <tr>\n",
       "      <td>383</td>\n",
       "      <td>7.89</td>\n",
       "      <td>5.0</td>\n",
       "      <td>5.0</td>\n",
       "      <td>5.0</td>\n",
       "      <td>5.0</td>\n",
       "      <td>5.0</td>\n",
       "      <td>4.0</td>\n",
       "      <td>4.0</td>\n",
       "      <td>5.0</td>\n",
       "      <td>5.0</td>\n",
       "      <td>3.0</td>\n",
       "    </tr>\n",
       "  </tbody>\n",
       "</table>\n",
       "<p>384 rows × 11 columns</p>\n",
       "</div>"
      ],
      "text/plain": [
       "      Cost  Hunger  Tortilla  Temp  Meat  Fillings  Meat:filling  Uniformity  \\\n",
       "0     6.49     3.0       3.0   5.0   3.0       3.5           4.0         4.0   \n",
       "1     5.45     3.5       2.0   3.5   2.5       2.5           2.0         4.0   \n",
       "2     4.85     1.5       3.0   2.0   2.5       3.0           4.5         4.0   \n",
       "3     5.25     2.0       3.0   2.0   3.5       3.0           4.0         5.0   \n",
       "4     6.59     4.0       4.0   5.0   4.0       3.5           4.5         5.0   \n",
       "..     ...     ...       ...   ...   ...       ...           ...         ...   \n",
       "379   6.85     3.5       3.0   4.5   3.8       3.8           4.0         3.5   \n",
       "380   6.85     3.5       3.0   4.5   4.0       4.0           4.5         3.0   \n",
       "381  11.50     3.5       2.0   2.0   4.0       3.5           3.0         4.5   \n",
       "382   7.89     4.0       4.0   3.0   4.0       4.0           3.0         4.0   \n",
       "383   7.89     5.0       5.0   5.0   5.0       5.0           4.0         4.0   \n",
       "\n",
       "     Salsa  Synergy  Wrap  \n",
       "0      4.0      4.0   4.0  \n",
       "1      3.5      2.5   5.0  \n",
       "2      3.0      3.0   5.0  \n",
       "3      4.0      4.0   5.0  \n",
       "4      2.5      4.5   4.0  \n",
       "..     ...      ...   ...  \n",
       "379    3.5      4.0   3.0  \n",
       "380    4.0      4.0   3.5  \n",
       "381    3.5      4.0   2.0  \n",
       "382    3.5      4.3   4.5  \n",
       "383    5.0      5.0   3.0  \n",
       "\n",
       "[384 rows x 11 columns]"
      ]
     },
     "execution_count": 160,
     "metadata": {},
     "output_type": "execute_result"
    }
   ],
   "source": [
    "X_combined"
   ]
  },
  {
   "cell_type": "code",
   "execution_count": 164,
   "metadata": {},
   "outputs": [],
   "source": [
    "y_combined=train[\"Great\"].append(validation_df[\"Great\"], ignore_index=True)"
   ]
  },
  {
   "cell_type": "code",
   "execution_count": 165,
   "metadata": {},
   "outputs": [
    {
     "data": {
      "text/plain": [
       "0      0\n",
       "1      0\n",
       "2      0\n",
       "3      0\n",
       "4      1\n",
       "      ..\n",
       "379    1\n",
       "380    1\n",
       "381    0\n",
       "382    1\n",
       "383    1\n",
       "Name: Great, Length: 384, dtype: int64"
      ]
     },
     "execution_count": 165,
     "metadata": {},
     "output_type": "execute_result"
    }
   ],
   "source": [
    "y_combined"
   ]
  },
  {
   "cell_type": "code",
   "execution_count": 166,
   "metadata": {},
   "outputs": [
    {
     "data": {
      "text/plain": [
       "Cost            0.0\n",
       "Hunger          0.0\n",
       "Tortilla        0.0\n",
       "Temp            0.0\n",
       "Meat            0.0\n",
       "Fillings        0.0\n",
       "Meat:filling    0.0\n",
       "Uniformity      0.0\n",
       "Salsa           0.0\n",
       "Synergy         0.0\n",
       "Wrap            0.0\n",
       "dtype: float64"
      ]
     },
     "execution_count": 166,
     "metadata": {},
     "output_type": "execute_result"
    }
   ],
   "source": [
    "X_combined.isnull().sum() * 100 / len(X_combined)"
   ]
  },
  {
   "cell_type": "code",
   "execution_count": 167,
   "metadata": {},
   "outputs": [],
   "source": [
    "clf=LogisticRegression(random_state=0).fit(X_combined.values, y_combined.values)"
   ]
  },
  {
   "cell_type": "code",
   "execution_count": 168,
   "metadata": {},
   "outputs": [],
   "source": [
    "y_true_pred=clf.predict(X_test)"
   ]
  },
  {
   "cell_type": "code",
   "execution_count": 169,
   "metadata": {},
   "outputs": [],
   "source": [
    "CM_test=confusion_matrix(y_test, y_true_pred)"
   ]
  },
  {
   "cell_type": "code",
   "execution_count": 170,
   "metadata": {},
   "outputs": [],
   "source": [
    "TN = CM_test[0][0]\n",
    "FN = CM_test[1][0]\n",
    "TP = CM_test[1][1]\n",
    "FP = CM_test[0][1]"
   ]
  },
  {
   "cell_type": "code",
   "execution_count": 171,
   "metadata": {},
   "outputs": [
    {
     "data": {
      "text/plain": [
       "(11, 4, 17, 5)"
      ]
     },
     "execution_count": 171,
     "metadata": {},
     "output_type": "execute_result"
    }
   ],
   "source": [
    "TN, FN, TP, FP"
   ]
  },
  {
   "cell_type": "code",
   "execution_count": null,
   "metadata": {},
   "outputs": [],
   "source": [
    "True     21\n",
    "False    16"
   ]
  },
  {
   "cell_type": "code",
   "execution_count": null,
   "metadata": {},
   "outputs": [],
   "source": [
    "#Let's scale X_combined"
   ]
  },
  {
   "cell_type": "code",
   "execution_count": 172,
   "metadata": {},
   "outputs": [],
   "source": [
    "scaler.fit(X_combined.values)\n",
    "X_combined_scaled=scaler.transform(X_combined.values)\n",
    "\n"
   ]
  },
  {
   "cell_type": "code",
   "execution_count": 173,
   "metadata": {},
   "outputs": [
    {
     "data": {
      "text/plain": [
       "array([[-3.73189758e-01, -6.19611088e-01, -6.18787097e-01, ...,\n",
       "         7.27658738e-01,  4.77428686e-01,  8.19790367e-03],\n",
       "       [-1.06453548e+00,  1.75995647e-03, -1.89013137e+00, ...,\n",
       "         1.73703081e-01, -1.20288000e+00,  9.12059579e-01],\n",
       "       [-1.46338878e+00, -2.48372422e+00, -6.18787097e-01, ...,\n",
       "        -3.80252576e-01, -6.42777104e-01,  9.12059579e-01],\n",
       "       ...,\n",
       "       [ 2.95723531e+00,  1.75995647e-03, -1.89013137e+00, ...,\n",
       "         1.73703081e-01,  4.77428686e-01, -1.79952545e+00],\n",
       "       [ 5.57467945e-01,  6.23131001e-01,  6.52557180e-01, ...,\n",
       "         1.73703081e-01,  8.13490423e-01,  4.60128742e-01],\n",
       "       [ 5.57467945e-01,  1.86587309e+00,  1.92390146e+00, ...,\n",
       "         1.83557005e+00,  1.59763448e+00, -8.95663772e-01]])"
      ]
     },
     "execution_count": 173,
     "metadata": {},
     "output_type": "execute_result"
    }
   ],
   "source": [
    "X_combined_scaled"
   ]
  },
  {
   "cell_type": "code",
   "execution_count": 174,
   "metadata": {},
   "outputs": [],
   "source": [
    "clf2=LogisticRegression(random_state=0).fit(X_combined_scaled, y_combined.values)"
   ]
  },
  {
   "cell_type": "code",
   "execution_count": 175,
   "metadata": {},
   "outputs": [],
   "source": [
    "y_true_pred_scaled=clf.predict(Xtest_scaled)"
   ]
  },
  {
   "cell_type": "code",
   "execution_count": 176,
   "metadata": {},
   "outputs": [],
   "source": [
    "CM_test_scaled=confusion_matrix(y_test, y_true_pred_scaled)"
   ]
  },
  {
   "cell_type": "code",
   "execution_count": 179,
   "metadata": {},
   "outputs": [
    {
     "data": {
      "text/plain": [
       "array([[16,  0],\n",
       "       [21,  0]])"
      ]
     },
     "execution_count": 179,
     "metadata": {},
     "output_type": "execute_result"
    }
   ],
   "source": [
    "CM_test_scaled"
   ]
  },
  {
   "cell_type": "code",
   "execution_count": 177,
   "metadata": {},
   "outputs": [],
   "source": [
    "TN = CM_test_scaled[0][0]\n",
    "FN = CM_test_scaled[1][0]\n",
    "TP = CM_test_scaled[1][1]\n",
    "FP = CM_test_scaled[0][1]"
   ]
  },
  {
   "cell_type": "code",
   "execution_count": 178,
   "metadata": {},
   "outputs": [
    {
     "data": {
      "text/plain": [
       "(16, 21, 0, 0)"
      ]
     },
     "execution_count": 178,
     "metadata": {},
     "output_type": "execute_result"
    }
   ],
   "source": [
    "TN, FN, TP, FP"
   ]
  },
  {
   "cell_type": "code",
   "execution_count": null,
   "metadata": {},
   "outputs": [],
   "source": [
    "True     21\n",
    "False    16"
   ]
  },
  {
   "cell_type": "code",
   "execution_count": 180,
   "metadata": {},
   "outputs": [
    {
     "data": {
      "text/plain": [
       "array([[0.18706545, 0.1095031 , 0.46738551, 0.65273909, 1.36904854,\n",
       "        1.36164596, 1.21514557, 0.0016578 , 0.3907089 , 1.61843403,\n",
       "        0.11019191]])"
      ]
     },
     "execution_count": 180,
     "metadata": {},
     "output_type": "execute_result"
    }
   ],
   "source": [
    "clf2.coef_"
   ]
  },
  {
   "cell_type": "code",
   "execution_count": null,
   "metadata": {},
   "outputs": [],
   "source": []
  },
  {
   "cell_type": "code",
   "execution_count": null,
   "metadata": {},
   "outputs": [],
   "source": [
    "3. Greedy goal :) : To suggest the restaurants significant features to focus and maintain thereby improving their \n",
    "business\n"
   ]
  }
 ],
 "metadata": {
  "kernelspec": {
   "display_name": "Python 3",
   "language": "python",
   "name": "python3"
  },
  "language_info": {
   "codemirror_mode": {
    "name": "ipython",
    "version": 3
   },
   "file_extension": ".py",
   "mimetype": "text/x-python",
   "name": "python",
   "nbconvert_exporter": "python",
   "pygments_lexer": "ipython3",
   "version": "3.7.4"
  }
 },
 "nbformat": 4,
 "nbformat_minor": 2
}
