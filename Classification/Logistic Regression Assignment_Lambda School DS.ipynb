{
 "cells": [
  {
   "cell_type": "code",
   "execution_count": null,
   "metadata": {},
   "outputs": [],
   "source": [
    "Goals: Have three goals for this assignment:\n",
    "        \n",
    "1. To accomplish the tasks given in the assignment on top of predicting\n",
    "2. To drive home some of the best practices in model building\n"
   ]
  },
  {
   "cell_type": "code",
   "execution_count": null,
   "metadata": {},
   "outputs": [],
   "source": [
    "The best practices that are demonstrated in this assignment are as follows:\n",
    "    \n",
    "1. Missing Value Imputation: using a simple technique\n",
    "2. Cross Validation: how is this useful?\n",
    "3. Model Performance: Why should you be skeptical when your model outperforms on validation set?\n",
    "4. Confusion matix: how to interpret a classifier outcome\n",
    "5. Reusable code: whenever possible\n",
    "\n",
    "    "
   ]
  },
  {
   "cell_type": "code",
   "execution_count": null,
   "metadata": {},
   "outputs": [],
   "source": [
    "Task: The primary task is to predict whether a burrito is \"great\" or not.\n",
    " \n",
    "Also this assignment has incorporated other tasks mentioned in the question like:\n",
    "\n",
    "Exploratory data analysis (EDA) \n",
    "Scikit-learn pipeline\n",
    "Splitting into validation and test\n",
    "Validation accuracy\n",
    "Model test accuracy\n",
    "\n",
    "    "
   ]
  },
  {
   "cell_type": "code",
   "execution_count": null,
   "metadata": {},
   "outputs": [],
   "source": [
    "Overview:\n",
    "\n",
    "Would like to give an overview before diving deep into model building. \n",
    "\n",
    "    \n",
    "Input: Have chosen specific set of features and have provided my reasoning for the same.\n",
    "    \n",
    "Output: Have converted the target column: \"Great\" with boolean values into numeric, i.e., 1 means 'great' and 0 means \n",
    "'not great'.\n",
    "\n",
    "Model: I am building a classification model using Logistic Regression algorithm. It is a binary classification model and \n",
    "therefore the outcome will be in the format of 1s ('great') and 0s ('not great').\n",
    "\n",
    "Two parts: \n",
    "Part I: The classifier with chosen features but do not involve scaling the features\n",
    "    \n",
    "Part II: The classifier with chosen features and that involves scaling procedure \n",
    "\n",
    "(Part II is developed to demonstrate the point 3 under best practices: \n",
    " Model Performance: Why should you be skeptical when your model outperforms on validation set?)\n"
   ]
  },
  {
   "cell_type": "code",
   "execution_count": null,
   "metadata": {},
   "outputs": [],
   "source": [
    "Let us dive deeper"
   ]
  },
  {
   "cell_type": "code",
   "execution_count": null,
   "metadata": {},
   "outputs": [],
   "source": [
    "First: Feature Engineering"
   ]
  },
  {
   "cell_type": "code",
   "execution_count": 64,
   "metadata": {},
   "outputs": [],
   "source": [
    "#Let's import all the necessary packages/libraries/models\n",
    "\n",
    "import pandas as pd\n",
    "import numpy as np\n",
    "from sklearn.preprocessing import StandardScaler\n",
    "from sklearn.preprocessing import StandardScaler\n",
    "from sklearn.model_selection import KFold\n",
    "from sklearn.model_selection import cross_val_score\n",
    "from sklearn.linear_model import LogisticRegression\n",
    "from sklearn.metrics import confusion_matrix\n",
    "from sklearn import preprocessing\n",
    "import seaborn as sns\n",
    "import matplotlib.pyplot as plt\n",
    "%matplotlib inline"
   ]
  },
  {
   "cell_type": "code",
   "execution_count": null,
   "metadata": {},
   "outputs": [],
   "source": [
    "The dataset was split into train, validation, and test according to the following:\n",
    "\n",
    "Train set with records from 2016 & earlier\n",
    "Validation set with records in the year 2017\n",
    "Test set with records in the year 2018 & later\n",
    "\n",
    "Suggestion: Especially when you are planning to replace the missing values in a column using the mean of the column, it\n",
    "is a good practice to implement the imputation technique separately in the train and validation sets. "
   ]
  },
  {
   "cell_type": "code",
   "execution_count": 2,
   "metadata": {},
   "outputs": [],
   "source": [
    "#Reading in the train set\n",
    "train=pd.read_csv(\"/Users/chidam/Desktop/burritos_train_set.csv\")"
   ]
  },
  {
   "cell_type": "code",
   "execution_count": 3,
   "metadata": {},
   "outputs": [
    {
     "data": {
      "text/html": [
       "<div>\n",
       "<style scoped>\n",
       "    .dataframe tbody tr th:only-of-type {\n",
       "        vertical-align: middle;\n",
       "    }\n",
       "\n",
       "    .dataframe tbody tr th {\n",
       "        vertical-align: top;\n",
       "    }\n",
       "\n",
       "    .dataframe thead th {\n",
       "        text-align: right;\n",
       "    }\n",
       "</style>\n",
       "<table border=\"1\" class=\"dataframe\">\n",
       "  <thead>\n",
       "    <tr style=\"text-align: right;\">\n",
       "      <th></th>\n",
       "      <th>Location</th>\n",
       "      <th>Burrito</th>\n",
       "      <th>Date</th>\n",
       "      <th>Neighborhood</th>\n",
       "      <th>Address</th>\n",
       "      <th>URL</th>\n",
       "      <th>Yelp</th>\n",
       "      <th>Google</th>\n",
       "      <th>Chips</th>\n",
       "      <th>Cost</th>\n",
       "      <th>...</th>\n",
       "      <th>Lobster</th>\n",
       "      <th>Queso</th>\n",
       "      <th>Egg</th>\n",
       "      <th>Mushroom</th>\n",
       "      <th>Bacon</th>\n",
       "      <th>Sushi</th>\n",
       "      <th>Avocado</th>\n",
       "      <th>Corn</th>\n",
       "      <th>Zucchini</th>\n",
       "      <th>Great</th>\n",
       "    </tr>\n",
       "  </thead>\n",
       "  <tbody>\n",
       "    <tr>\n",
       "      <td>0</td>\n",
       "      <td>Donato's taco shop</td>\n",
       "      <td>California</td>\n",
       "      <td>1/18/16</td>\n",
       "      <td>Miramar</td>\n",
       "      <td>6780 Miramar Rd</td>\n",
       "      <td>http://donatostacoshop.net/</td>\n",
       "      <td>3.5</td>\n",
       "      <td>4.2</td>\n",
       "      <td>NaN</td>\n",
       "      <td>6.49</td>\n",
       "      <td>...</td>\n",
       "      <td>NaN</td>\n",
       "      <td>NaN</td>\n",
       "      <td>NaN</td>\n",
       "      <td>NaN</td>\n",
       "      <td>NaN</td>\n",
       "      <td>NaN</td>\n",
       "      <td>NaN</td>\n",
       "      <td>NaN</td>\n",
       "      <td>NaN</td>\n",
       "      <td>False</td>\n",
       "    </tr>\n",
       "    <tr>\n",
       "      <td>1</td>\n",
       "      <td>Oscar's Mexican food</td>\n",
       "      <td>California</td>\n",
       "      <td>1/24/16</td>\n",
       "      <td>San Marcos</td>\n",
       "      <td>225 S Rancho Santa Fe Rd</td>\n",
       "      <td>http://www.yelp.com/biz/oscars-mexican-food-sa...</td>\n",
       "      <td>3.5</td>\n",
       "      <td>3.3</td>\n",
       "      <td>NaN</td>\n",
       "      <td>5.45</td>\n",
       "      <td>...</td>\n",
       "      <td>NaN</td>\n",
       "      <td>NaN</td>\n",
       "      <td>NaN</td>\n",
       "      <td>NaN</td>\n",
       "      <td>NaN</td>\n",
       "      <td>NaN</td>\n",
       "      <td>NaN</td>\n",
       "      <td>NaN</td>\n",
       "      <td>NaN</td>\n",
       "      <td>False</td>\n",
       "    </tr>\n",
       "    <tr>\n",
       "      <td>2</td>\n",
       "      <td>Oscar's Mexican food</td>\n",
       "      <td>Carnitas</td>\n",
       "      <td>1/24/16</td>\n",
       "      <td>NaN</td>\n",
       "      <td>NaN</td>\n",
       "      <td>NaN</td>\n",
       "      <td>NaN</td>\n",
       "      <td>NaN</td>\n",
       "      <td>NaN</td>\n",
       "      <td>4.85</td>\n",
       "      <td>...</td>\n",
       "      <td>NaN</td>\n",
       "      <td>NaN</td>\n",
       "      <td>NaN</td>\n",
       "      <td>NaN</td>\n",
       "      <td>NaN</td>\n",
       "      <td>NaN</td>\n",
       "      <td>NaN</td>\n",
       "      <td>NaN</td>\n",
       "      <td>NaN</td>\n",
       "      <td>False</td>\n",
       "    </tr>\n",
       "    <tr>\n",
       "      <td>3</td>\n",
       "      <td>Oscar's Mexican food</td>\n",
       "      <td>Carne asada</td>\n",
       "      <td>1/24/16</td>\n",
       "      <td>NaN</td>\n",
       "      <td>NaN</td>\n",
       "      <td>NaN</td>\n",
       "      <td>NaN</td>\n",
       "      <td>NaN</td>\n",
       "      <td>NaN</td>\n",
       "      <td>5.25</td>\n",
       "      <td>...</td>\n",
       "      <td>NaN</td>\n",
       "      <td>NaN</td>\n",
       "      <td>NaN</td>\n",
       "      <td>NaN</td>\n",
       "      <td>NaN</td>\n",
       "      <td>NaN</td>\n",
       "      <td>NaN</td>\n",
       "      <td>NaN</td>\n",
       "      <td>NaN</td>\n",
       "      <td>False</td>\n",
       "    </tr>\n",
       "    <tr>\n",
       "      <td>4</td>\n",
       "      <td>Pollos Maria</td>\n",
       "      <td>California</td>\n",
       "      <td>1/27/16</td>\n",
       "      <td>Carlsbad</td>\n",
       "      <td>3055 Harding St</td>\n",
       "      <td>http://pollosmaria.com/</td>\n",
       "      <td>4.0</td>\n",
       "      <td>3.8</td>\n",
       "      <td>x</td>\n",
       "      <td>6.59</td>\n",
       "      <td>...</td>\n",
       "      <td>NaN</td>\n",
       "      <td>NaN</td>\n",
       "      <td>NaN</td>\n",
       "      <td>NaN</td>\n",
       "      <td>NaN</td>\n",
       "      <td>NaN</td>\n",
       "      <td>NaN</td>\n",
       "      <td>NaN</td>\n",
       "      <td>NaN</td>\n",
       "      <td>True</td>\n",
       "    </tr>\n",
       "  </tbody>\n",
       "</table>\n",
       "<p>5 rows × 65 columns</p>\n",
       "</div>"
      ],
      "text/plain": [
       "               Location      Burrito     Date Neighborhood  \\\n",
       "0    Donato's taco shop  California   1/18/16      Miramar   \n",
       "1  Oscar's Mexican food  California   1/24/16   San Marcos   \n",
       "2  Oscar's Mexican food     Carnitas  1/24/16          NaN   \n",
       "3  Oscar's Mexican food  Carne asada  1/24/16          NaN   \n",
       "4          Pollos Maria   California  1/27/16     Carlsbad   \n",
       "\n",
       "                    Address  \\\n",
       "0           6780 Miramar Rd   \n",
       "1  225 S Rancho Santa Fe Rd   \n",
       "2                       NaN   \n",
       "3                       NaN   \n",
       "4           3055 Harding St   \n",
       "\n",
       "                                                 URL  Yelp  Google Chips  \\\n",
       "0                        http://donatostacoshop.net/   3.5     4.2   NaN   \n",
       "1  http://www.yelp.com/biz/oscars-mexican-food-sa...   3.5     3.3   NaN   \n",
       "2                                                NaN   NaN     NaN   NaN   \n",
       "3                                                NaN   NaN     NaN   NaN   \n",
       "4                            http://pollosmaria.com/   4.0     3.8     x   \n",
       "\n",
       "   Cost  ...  Lobster  Queso  Egg  Mushroom  Bacon  Sushi  Avocado  Corn  \\\n",
       "0  6.49  ...      NaN    NaN  NaN       NaN    NaN    NaN      NaN   NaN   \n",
       "1  5.45  ...      NaN    NaN  NaN       NaN    NaN    NaN      NaN   NaN   \n",
       "2  4.85  ...      NaN    NaN  NaN       NaN    NaN    NaN      NaN   NaN   \n",
       "3  5.25  ...      NaN    NaN  NaN       NaN    NaN    NaN      NaN   NaN   \n",
       "4  6.59  ...      NaN    NaN  NaN       NaN    NaN    NaN      NaN   NaN   \n",
       "\n",
       "   Zucchini  Great  \n",
       "0       NaN  False  \n",
       "1       NaN  False  \n",
       "2       NaN  False  \n",
       "3       NaN  False  \n",
       "4       NaN   True  \n",
       "\n",
       "[5 rows x 65 columns]"
      ]
     },
     "execution_count": 3,
     "metadata": {},
     "output_type": "execute_result"
    }
   ],
   "source": [
    "#Let's check the first few records:\n",
    "\n",
    "train.head()"
   ]
  },
  {
   "cell_type": "code",
   "execution_count": 4,
   "metadata": {},
   "outputs": [
    {
     "data": {
      "text/plain": [
       "65"
      ]
     },
     "execution_count": 4,
     "metadata": {},
     "output_type": "execute_result"
    }
   ],
   "source": [
    "#Total number of features\n",
    "len(train.columns)"
   ]
  },
  {
   "cell_type": "code",
   "execution_count": 5,
   "metadata": {},
   "outputs": [
    {
     "data": {
      "text/html": [
       "<div>\n",
       "<style scoped>\n",
       "    .dataframe tbody tr th:only-of-type {\n",
       "        vertical-align: middle;\n",
       "    }\n",
       "\n",
       "    .dataframe tbody tr th {\n",
       "        vertical-align: top;\n",
       "    }\n",
       "\n",
       "    .dataframe thead th {\n",
       "        text-align: right;\n",
       "    }\n",
       "</style>\n",
       "<table border=\"1\" class=\"dataframe\">\n",
       "  <thead>\n",
       "    <tr style=\"text-align: right;\">\n",
       "      <th></th>\n",
       "      <th>column_name</th>\n",
       "      <th>percent_missing</th>\n",
       "    </tr>\n",
       "  </thead>\n",
       "  <tbody>\n",
       "    <tr>\n",
       "      <td>Location</td>\n",
       "      <td>Location</td>\n",
       "      <td>0.000000</td>\n",
       "    </tr>\n",
       "    <tr>\n",
       "      <td>Burrito</td>\n",
       "      <td>Burrito</td>\n",
       "      <td>0.000000</td>\n",
       "    </tr>\n",
       "    <tr>\n",
       "      <td>Date</td>\n",
       "      <td>Date</td>\n",
       "      <td>0.000000</td>\n",
       "    </tr>\n",
       "    <tr>\n",
       "      <td>Neighborhood</td>\n",
       "      <td>Neighborhood</td>\n",
       "      <td>74.581940</td>\n",
       "    </tr>\n",
       "    <tr>\n",
       "      <td>Address</td>\n",
       "      <td>Address</td>\n",
       "      <td>75.919732</td>\n",
       "    </tr>\n",
       "    <tr>\n",
       "      <td>...</td>\n",
       "      <td>...</td>\n",
       "      <td>...</td>\n",
       "    </tr>\n",
       "    <tr>\n",
       "      <td>Sushi</td>\n",
       "      <td>Sushi</td>\n",
       "      <td>99.331104</td>\n",
       "    </tr>\n",
       "    <tr>\n",
       "      <td>Avocado</td>\n",
       "      <td>Avocado</td>\n",
       "      <td>95.652174</td>\n",
       "    </tr>\n",
       "    <tr>\n",
       "      <td>Corn</td>\n",
       "      <td>Corn</td>\n",
       "      <td>99.331104</td>\n",
       "    </tr>\n",
       "    <tr>\n",
       "      <td>Zucchini</td>\n",
       "      <td>Zucchini</td>\n",
       "      <td>99.665552</td>\n",
       "    </tr>\n",
       "    <tr>\n",
       "      <td>Great</td>\n",
       "      <td>Great</td>\n",
       "      <td>0.000000</td>\n",
       "    </tr>\n",
       "  </tbody>\n",
       "</table>\n",
       "<p>65 rows × 2 columns</p>\n",
       "</div>"
      ],
      "text/plain": [
       "               column_name  percent_missing\n",
       "Location          Location         0.000000\n",
       "Burrito            Burrito         0.000000\n",
       "Date                  Date         0.000000\n",
       "Neighborhood  Neighborhood        74.581940\n",
       "Address            Address        75.919732\n",
       "...                    ...              ...\n",
       "Sushi                Sushi        99.331104\n",
       "Avocado            Avocado        95.652174\n",
       "Corn                  Corn        99.331104\n",
       "Zucchini          Zucchini        99.665552\n",
       "Great                Great         0.000000\n",
       "\n",
       "[65 rows x 2 columns]"
      ]
     },
     "execution_count": 5,
     "metadata": {},
     "output_type": "execute_result"
    }
   ],
   "source": [
    "#Let's find out whether any values missing in the train set. If yes, then let's get the percent of missing values in each\n",
    "#column\n",
    "\n",
    "percent_missing = train.isnull().sum() * 100 / len(train)\n",
    "missing_value_df = pd.DataFrame({'column_name': train.columns,'percent_missing': percent_missing})\n",
    "missing_value_df"
   ]
  },
  {
   "cell_type": "code",
   "execution_count": 6,
   "metadata": {},
   "outputs": [
    {
     "data": {
      "text/html": [
       "<div>\n",
       "<style scoped>\n",
       "    .dataframe tbody tr th:only-of-type {\n",
       "        vertical-align: middle;\n",
       "    }\n",
       "\n",
       "    .dataframe tbody tr th {\n",
       "        vertical-align: top;\n",
       "    }\n",
       "\n",
       "    .dataframe thead th {\n",
       "        text-align: right;\n",
       "    }\n",
       "</style>\n",
       "<table border=\"1\" class=\"dataframe\">\n",
       "  <thead>\n",
       "    <tr style=\"text-align: right;\">\n",
       "      <th></th>\n",
       "      <th>column_name</th>\n",
       "      <th>percent_missing</th>\n",
       "    </tr>\n",
       "  </thead>\n",
       "  <tbody>\n",
       "    <tr>\n",
       "      <td>Location</td>\n",
       "      <td>Location</td>\n",
       "      <td>0.000000</td>\n",
       "    </tr>\n",
       "    <tr>\n",
       "      <td>Burrito</td>\n",
       "      <td>Burrito</td>\n",
       "      <td>0.000000</td>\n",
       "    </tr>\n",
       "    <tr>\n",
       "      <td>Date</td>\n",
       "      <td>Date</td>\n",
       "      <td>0.000000</td>\n",
       "    </tr>\n",
       "    <tr>\n",
       "      <td>Cost</td>\n",
       "      <td>Cost</td>\n",
       "      <td>2.006689</td>\n",
       "    </tr>\n",
       "    <tr>\n",
       "      <td>Hunger</td>\n",
       "      <td>Hunger</td>\n",
       "      <td>0.334448</td>\n",
       "    </tr>\n",
       "    <tr>\n",
       "      <td>Tortilla</td>\n",
       "      <td>Tortilla</td>\n",
       "      <td>0.000000</td>\n",
       "    </tr>\n",
       "    <tr>\n",
       "      <td>Temp</td>\n",
       "      <td>Temp</td>\n",
       "      <td>5.016722</td>\n",
       "    </tr>\n",
       "    <tr>\n",
       "      <td>Meat</td>\n",
       "      <td>Meat</td>\n",
       "      <td>3.344482</td>\n",
       "    </tr>\n",
       "    <tr>\n",
       "      <td>Fillings</td>\n",
       "      <td>Fillings</td>\n",
       "      <td>0.334448</td>\n",
       "    </tr>\n",
       "    <tr>\n",
       "      <td>Meat:filling</td>\n",
       "      <td>Meat:filling</td>\n",
       "      <td>2.006689</td>\n",
       "    </tr>\n",
       "    <tr>\n",
       "      <td>Uniformity</td>\n",
       "      <td>Uniformity</td>\n",
       "      <td>0.668896</td>\n",
       "    </tr>\n",
       "    <tr>\n",
       "      <td>Salsa</td>\n",
       "      <td>Salsa</td>\n",
       "      <td>6.688963</td>\n",
       "    </tr>\n",
       "    <tr>\n",
       "      <td>Synergy</td>\n",
       "      <td>Synergy</td>\n",
       "      <td>0.668896</td>\n",
       "    </tr>\n",
       "    <tr>\n",
       "      <td>Wrap</td>\n",
       "      <td>Wrap</td>\n",
       "      <td>0.668896</td>\n",
       "    </tr>\n",
       "    <tr>\n",
       "      <td>Reviewer</td>\n",
       "      <td>Reviewer</td>\n",
       "      <td>0.334448</td>\n",
       "    </tr>\n",
       "    <tr>\n",
       "      <td>Great</td>\n",
       "      <td>Great</td>\n",
       "      <td>0.000000</td>\n",
       "    </tr>\n",
       "  </tbody>\n",
       "</table>\n",
       "</div>"
      ],
      "text/plain": [
       "               column_name  percent_missing\n",
       "Location          Location         0.000000\n",
       "Burrito            Burrito         0.000000\n",
       "Date                  Date         0.000000\n",
       "Cost                  Cost         2.006689\n",
       "Hunger              Hunger         0.334448\n",
       "Tortilla          Tortilla         0.000000\n",
       "Temp                  Temp         5.016722\n",
       "Meat                  Meat         3.344482\n",
       "Fillings          Fillings         0.334448\n",
       "Meat:filling  Meat:filling         2.006689\n",
       "Uniformity      Uniformity         0.668896\n",
       "Salsa                Salsa         6.688963\n",
       "Synergy            Synergy         0.668896\n",
       "Wrap                  Wrap         0.668896\n",
       "Reviewer          Reviewer         0.334448\n",
       "Great                Great         0.000000"
      ]
     },
     "execution_count": 6,
     "metadata": {},
     "output_type": "execute_result"
    }
   ],
   "source": [
    "#Let's check the columns with fewer than 10% of missing values\n",
    "\n",
    "missing_value_df.loc[missing_value_df[\"percent_missing\"]<10]"
   ]
  },
  {
   "cell_type": "code",
   "execution_count": null,
   "metadata": {},
   "outputs": [],
   "source": [
    "\n",
    "Because there are many columns with significant number of values missing, lets just focus on columns with only a fewer \n",
    "missing values. It is a good starting point and can always try adding more features as we go along.\n",
    "\n",
    "For this assignment, I have chosen only above features (plus the target column) and have provided my reasoning in the \n",
    "visualization section below.\n"
   ]
  },
  {
   "cell_type": "code",
   "execution_count": 7,
   "metadata": {},
   "outputs": [],
   "source": [
    "#Let's convert the boolean values in the target column into numerical values\n",
    "\n",
    "train[\"Great\"] = train[\"Great\"].astype(int)\n"
   ]
  },
  {
   "cell_type": "code",
   "execution_count": 8,
   "metadata": {},
   "outputs": [
    {
     "data": {
      "text/plain": [
       "0    176\n",
       "1    123\n",
       "Name: Great, dtype: int64"
      ]
     },
     "execution_count": 8,
     "metadata": {},
     "output_type": "execute_result"
    }
   ],
   "source": [
    "#Let's check the distribution of 1s and 0s in the target column\n",
    "\n",
    "train[\"Great\"].value_counts()\n",
    "\n"
   ]
  },
  {
   "cell_type": "code",
   "execution_count": null,
   "metadata": {},
   "outputs": [],
   "source": [
    "Observation: Imbalanced dataset?\n",
    "\n",
    "The classes are not balanced, but they are not awfully imbalanced either. The spread is moderate and therefore do not \n",
    "have to worry about balancing the classes in the context.\n"
   ]
  },
  {
   "cell_type": "code",
   "execution_count": 10,
   "metadata": {},
   "outputs": [],
   "source": [
    "#Let's save the chosen columns in a variable selected and will be using it for the rest of the process\n",
    "\n",
    "selected=[\"Cost\", \"Hunger\", \"Tortilla\", \"Temp\", \"Meat\", \"Fillings\", \"Meat:filling\", \"Uniformity\", \"Salsa\", \"Synergy\", \"Wrap\"]\n",
    "\n",
    "\n"
   ]
  },
  {
   "cell_type": "code",
   "execution_count": 11,
   "metadata": {},
   "outputs": [
    {
     "data": {
      "image/png": "[encoded data removed]",
      "text/plain": [
       "<Figure size 1080x720 with 9 Axes>"
      ]
     },
     "metadata": {
      "needs_background": "light"
     },
     "output_type": "display_data"
    }
   ],
   "source": [
    "# Deciding on visualization!\n",
    "\n",
    "How can you decide on which visualization to go far? Well, it is good to start with a goal. My goal: is to check how \n",
    "the features behave with re to target column. So I decided to plot the features Vs. target. Although the bar plot \n",
    "shows confidence interval and some grouping after a range for some features, it is clearly confusing. That directs me \n",
    "to plotting the much clearer line plot below.\n",
    "\n",
    "\n",
    "\n",
    "fig, ax = plt.subplots(3, 3, figsize=(15, 10))\n",
    "for var, subplot in zip(selected, ax.flatten()):\n",
    "    sns.barplot(x=var, y='Great', data=train, ax=subplot)"
   ]
  },
  {
   "cell_type": "code",
   "execution_count": 12,
   "metadata": {},
   "outputs": [
    {
     "data": {
      "image/png": "[encoded data removed]",
      "text/plain": [
       "<Figure size 1080x720 with 9 Axes>"
      ]
     },
     "metadata": {
      "needs_background": "light"
     },
     "output_type": "display_data"
    }
   ],
   "source": [
    "#Let's see what the realtionship looks like between the features and our target variable, \"Great\"\n",
    "#This solves my purpose\n",
    "\n",
    "fig, ax = plt.subplots(3, 3, figsize=(15, 10))\n",
    "for var, subplot in zip(selected, ax.flatten()):\n",
    "    sns.lineplot(x=var, y='Great', data=train, ax=subplot)"
   ]
  },
  {
   "cell_type": "code",
   "execution_count": null,
   "metadata": {},
   "outputs": [],
   "source": [
    "Observation:\n",
    "Clear pattern exists amongst following features Vs. target column: \n",
    "    \n",
    "Hunger: Customers with hunger level at 3 and above have seemed to have rated the burriot great.\n",
    "Tortilla: The quality of tortilla played a significant role in rating a burrito great or not.\n",
    "Temp: No one would like a cold burrito :) temperature mattered.\n",
    "Meat: Meat quality was a significant indicator too.    \n",
    "Fillings: The quality of a balanced filling mattered.\n",
    "Meat:filling: The ratio between meat and non-meat turns out to be a significant indicator too.\n",
    "\n",
    "------------------------------------------------------------------------------------------------------------------------------       \n",
    "\n",
    "No clear pattern: What about other features?\n",
    "    \n",
    "Cost Vs. Great: Although the data points for cost are heavily clustered between 5 and 8, a clear pattern does not exist to \n",
    "declare a win between low and high cost.\n",
    "    \n",
    "Customers that do not like a variety in salsa (salsa ratings less than 3) rated burritos great and so did the customers \n",
    "that like a variety in salsa (salsa ratings greater than 3). So customers preferences seemed to have affected the \n",
    "salsa ratings.\n",
    "\n",
    "The similar explanation goes true for uniformity (bites full of sour cream and cheese with meat).\n",
    "\n"
   ]
  },
  {
   "cell_type": "code",
   "execution_count": null,
   "metadata": {},
   "outputs": [],
   "source": [
    "What about the categorical features we have?\n",
    "\n",
    "Ought to list a few of them.\n",
    "\n",
    "Location:\n",
    "There are many categorical features, but I found 'Location' could make sense in the context as there are multiple records \n",
    "for many restaurants/shops/food trucks.\n",
    "\n",
    "How?\n",
    "Burrito from the same restaurant could have been rated 'Not Great' and vice versa. It would make sense to the quality of \n",
    "burrito and therefore to the context of the rating that we are trying to predict.\n",
    "\n",
    "------------------------------------------------------------------------------------------------------------------------------    \n",
    "Burrito:\n",
    "At the same time, the feature 'Burrito' could be confusing as there are burritos titled 'California' available in many \n",
    "restaurants. A 'California' burrito from shop:X is not the same from shop:Y.\n",
    "        \n",
    "        \n"
   ]
  },
  {
   "cell_type": "code",
   "execution_count": null,
   "metadata": {},
   "outputs": [],
   "source": [
    "I have not used any categorical features in the solutions. But would like to demonstrate encoding techniques in case \n",
    "of using categorical column. For the purpose of demonstration, I am using the feature: 'Location'\n",
    "    "
   ]
  },
  {
   "cell_type": "code",
   "execution_count": 14,
   "metadata": {},
   "outputs": [
    {
     "data": {
      "text/plain": [
       "[\"Donato's taco shop\",\n",
       " \"Oscar's Mexican food\",\n",
       " \"Oscar's Mexican food\",\n",
       " \"Oscar's Mexican food\",\n",
       " 'Pollos Maria',\n",
       " 'Pollos Maria',\n",
       " \"Nico's Taco Shop\",\n",
       " \"Nico's Taco Shop\",\n",
       " 'Los Primos Mexican Food',\n",
       " \"JV's Mexican Food\",\n",
       " \"JV's Mexican Food\",\n",
       " \"Tony's Fresh Mexican Food\",\n",
       " \"Tony's Fresh Mexican Food\",\n",
       " \"Tony's Fresh Mexican Food\",\n",
       " \"Tony's Fresh Mexican Food\",\n",
       " 'Taco Stand',\n",
       " 'Taco Stand',\n",
       " \"Graciela's Taco Shop\",\n",
       " \"Graciela's Taco Shop\",\n",
       " \"Rigoberto's Taco Shop La Jolla\",\n",
       " \"Rigoberto's Taco Shop La Jolla\",\n",
       " \"Lolita's taco shop\",\n",
       " \"Lolita's taco shop\",\n",
       " 'Taco Stand',\n",
       " 'Taco Stand']"
      ]
     },
     "execution_count": 14,
     "metadata": {},
     "output_type": "execute_result"
    }
   ],
   "source": [
    "#Let's look at the values in the column\n",
    "\n",
    "train[\"Location\"].values.tolist()[:25]"
   ]
  },
  {
   "cell_type": "code",
   "execution_count": null,
   "metadata": {},
   "outputs": [],
   "source": [
    "\n",
    "A good way to represent such a feature is to ensure the name of restaurant is represented the same everywhere in the column,\n",
    "i.e., have to make sure to remove extra spaces, spell, and punctuation errors. Thus can maintain the sparsity of the \n",
    "dataset from spinning out of control.\n",
    "\n",
    "Can make sure of that there are no duplicates by using Label Encoding first followed by One Hot Encoding technique as in the\n",
    "steps in the cell below:\n",
    "\n",
    "\n",
    "FYI: have used pd.get_dummies (from pandas) to implement One Hot Encoding. \n",
    "\n",
    "\n"
   ]
  },
  {
   "cell_type": "code",
   "execution_count": 17,
   "metadata": {},
   "outputs": [],
   "source": [
    "label_encoder = preprocessing.LabelEncoder()\n"
   ]
  },
  {
   "cell_type": "code",
   "execution_count": 18,
   "metadata": {},
   "outputs": [
    {
     "data": {
      "text/plain": [
       "LabelEncoder()"
      ]
     },
     "execution_count": 18,
     "metadata": {},
     "output_type": "execute_result"
    }
   ],
   "source": [
    "label_encoder.fit(train[\"Location\"].tolist())"
   ]
  },
  {
   "cell_type": "code",
   "execution_count": 20,
   "metadata": {},
   "outputs": [],
   "source": [
    "transformed=label_encoder.transform(train[\"Location\"].tolist())"
   ]
  },
  {
   "cell_type": "code",
   "execution_count": 21,
   "metadata": {},
   "outputs": [
    {
     "data": {
      "text/html": [
       "<div>\n",
       "<style scoped>\n",
       "    .dataframe tbody tr th:only-of-type {\n",
       "        vertical-align: middle;\n",
       "    }\n",
       "\n",
       "    .dataframe tbody tr th {\n",
       "        vertical-align: top;\n",
       "    }\n",
       "\n",
       "    .dataframe thead th {\n",
       "        text-align: right;\n",
       "    }\n",
       "</style>\n",
       "<table border=\"1\" class=\"dataframe\">\n",
       "  <thead>\n",
       "    <tr style=\"text-align: right;\">\n",
       "      <th></th>\n",
       "      <th>0</th>\n",
       "      <th>1</th>\n",
       "      <th>2</th>\n",
       "      <th>3</th>\n",
       "      <th>4</th>\n",
       "      <th>5</th>\n",
       "      <th>6</th>\n",
       "      <th>7</th>\n",
       "      <th>8</th>\n",
       "      <th>9</th>\n",
       "      <th>...</th>\n",
       "      <th>77</th>\n",
       "      <th>78</th>\n",
       "      <th>79</th>\n",
       "      <th>80</th>\n",
       "      <th>81</th>\n",
       "      <th>82</th>\n",
       "      <th>83</th>\n",
       "      <th>84</th>\n",
       "      <th>85</th>\n",
       "      <th>86</th>\n",
       "    </tr>\n",
       "  </thead>\n",
       "  <tbody>\n",
       "    <tr>\n",
       "      <td>0</td>\n",
       "      <td>0</td>\n",
       "      <td>0</td>\n",
       "      <td>0</td>\n",
       "      <td>0</td>\n",
       "      <td>0</td>\n",
       "      <td>0</td>\n",
       "      <td>0</td>\n",
       "      <td>0</td>\n",
       "      <td>0</td>\n",
       "      <td>0</td>\n",
       "      <td>...</td>\n",
       "      <td>0</td>\n",
       "      <td>0</td>\n",
       "      <td>0</td>\n",
       "      <td>0</td>\n",
       "      <td>0</td>\n",
       "      <td>0</td>\n",
       "      <td>0</td>\n",
       "      <td>0</td>\n",
       "      <td>0</td>\n",
       "      <td>0</td>\n",
       "    </tr>\n",
       "    <tr>\n",
       "      <td>1</td>\n",
       "      <td>0</td>\n",
       "      <td>0</td>\n",
       "      <td>0</td>\n",
       "      <td>0</td>\n",
       "      <td>0</td>\n",
       "      <td>0</td>\n",
       "      <td>0</td>\n",
       "      <td>0</td>\n",
       "      <td>0</td>\n",
       "      <td>0</td>\n",
       "      <td>...</td>\n",
       "      <td>0</td>\n",
       "      <td>0</td>\n",
       "      <td>0</td>\n",
       "      <td>0</td>\n",
       "      <td>0</td>\n",
       "      <td>0</td>\n",
       "      <td>0</td>\n",
       "      <td>0</td>\n",
       "      <td>0</td>\n",
       "      <td>0</td>\n",
       "    </tr>\n",
       "    <tr>\n",
       "      <td>2</td>\n",
       "      <td>0</td>\n",
       "      <td>0</td>\n",
       "      <td>0</td>\n",
       "      <td>0</td>\n",
       "      <td>0</td>\n",
       "      <td>0</td>\n",
       "      <td>0</td>\n",
       "      <td>0</td>\n",
       "      <td>0</td>\n",
       "      <td>0</td>\n",
       "      <td>...</td>\n",
       "      <td>0</td>\n",
       "      <td>0</td>\n",
       "      <td>0</td>\n",
       "      <td>0</td>\n",
       "      <td>0</td>\n",
       "      <td>0</td>\n",
       "      <td>0</td>\n",
       "      <td>0</td>\n",
       "      <td>0</td>\n",
       "      <td>0</td>\n",
       "    </tr>\n",
       "    <tr>\n",
       "      <td>3</td>\n",
       "      <td>0</td>\n",
       "      <td>0</td>\n",
       "      <td>0</td>\n",
       "      <td>0</td>\n",
       "      <td>0</td>\n",
       "      <td>0</td>\n",
       "      <td>0</td>\n",
       "      <td>0</td>\n",
       "      <td>0</td>\n",
       "      <td>0</td>\n",
       "      <td>...</td>\n",
       "      <td>0</td>\n",
       "      <td>0</td>\n",
       "      <td>0</td>\n",
       "      <td>0</td>\n",
       "      <td>0</td>\n",
       "      <td>0</td>\n",
       "      <td>0</td>\n",
       "      <td>0</td>\n",
       "      <td>0</td>\n",
       "      <td>0</td>\n",
       "    </tr>\n",
       "    <tr>\n",
       "      <td>4</td>\n",
       "      <td>0</td>\n",
       "      <td>0</td>\n",
       "      <td>0</td>\n",
       "      <td>0</td>\n",
       "      <td>0</td>\n",
       "      <td>0</td>\n",
       "      <td>0</td>\n",
       "      <td>0</td>\n",
       "      <td>0</td>\n",
       "      <td>0</td>\n",
       "      <td>...</td>\n",
       "      <td>0</td>\n",
       "      <td>0</td>\n",
       "      <td>0</td>\n",
       "      <td>0</td>\n",
       "      <td>0</td>\n",
       "      <td>0</td>\n",
       "      <td>0</td>\n",
       "      <td>0</td>\n",
       "      <td>0</td>\n",
       "      <td>0</td>\n",
       "    </tr>\n",
       "    <tr>\n",
       "      <td>...</td>\n",
       "      <td>...</td>\n",
       "      <td>...</td>\n",
       "      <td>...</td>\n",
       "      <td>...</td>\n",
       "      <td>...</td>\n",
       "      <td>...</td>\n",
       "      <td>...</td>\n",
       "      <td>...</td>\n",
       "      <td>...</td>\n",
       "      <td>...</td>\n",
       "      <td>...</td>\n",
       "      <td>...</td>\n",
       "      <td>...</td>\n",
       "      <td>...</td>\n",
       "      <td>...</td>\n",
       "      <td>...</td>\n",
       "      <td>...</td>\n",
       "      <td>...</td>\n",
       "      <td>...</td>\n",
       "      <td>...</td>\n",
       "      <td>...</td>\n",
       "    </tr>\n",
       "    <tr>\n",
       "      <td>294</td>\n",
       "      <td>0</td>\n",
       "      <td>0</td>\n",
       "      <td>0</td>\n",
       "      <td>0</td>\n",
       "      <td>0</td>\n",
       "      <td>0</td>\n",
       "      <td>0</td>\n",
       "      <td>0</td>\n",
       "      <td>0</td>\n",
       "      <td>0</td>\n",
       "      <td>...</td>\n",
       "      <td>0</td>\n",
       "      <td>0</td>\n",
       "      <td>0</td>\n",
       "      <td>0</td>\n",
       "      <td>0</td>\n",
       "      <td>0</td>\n",
       "      <td>0</td>\n",
       "      <td>0</td>\n",
       "      <td>0</td>\n",
       "      <td>0</td>\n",
       "    </tr>\n",
       "    <tr>\n",
       "      <td>295</td>\n",
       "      <td>0</td>\n",
       "      <td>0</td>\n",
       "      <td>0</td>\n",
       "      <td>0</td>\n",
       "      <td>0</td>\n",
       "      <td>0</td>\n",
       "      <td>0</td>\n",
       "      <td>0</td>\n",
       "      <td>0</td>\n",
       "      <td>0</td>\n",
       "      <td>...</td>\n",
       "      <td>0</td>\n",
       "      <td>0</td>\n",
       "      <td>0</td>\n",
       "      <td>0</td>\n",
       "      <td>0</td>\n",
       "      <td>0</td>\n",
       "      <td>0</td>\n",
       "      <td>0</td>\n",
       "      <td>0</td>\n",
       "      <td>0</td>\n",
       "    </tr>\n",
       "    <tr>\n",
       "      <td>296</td>\n",
       "      <td>0</td>\n",
       "      <td>0</td>\n",
       "      <td>0</td>\n",
       "      <td>0</td>\n",
       "      <td>0</td>\n",
       "      <td>0</td>\n",
       "      <td>0</td>\n",
       "      <td>0</td>\n",
       "      <td>0</td>\n",
       "      <td>0</td>\n",
       "      <td>...</td>\n",
       "      <td>0</td>\n",
       "      <td>0</td>\n",
       "      <td>0</td>\n",
       "      <td>0</td>\n",
       "      <td>0</td>\n",
       "      <td>0</td>\n",
       "      <td>0</td>\n",
       "      <td>0</td>\n",
       "      <td>0</td>\n",
       "      <td>0</td>\n",
       "    </tr>\n",
       "    <tr>\n",
       "      <td>297</td>\n",
       "      <td>0</td>\n",
       "      <td>0</td>\n",
       "      <td>0</td>\n",
       "      <td>0</td>\n",
       "      <td>0</td>\n",
       "      <td>0</td>\n",
       "      <td>0</td>\n",
       "      <td>0</td>\n",
       "      <td>0</td>\n",
       "      <td>0</td>\n",
       "      <td>...</td>\n",
       "      <td>0</td>\n",
       "      <td>0</td>\n",
       "      <td>0</td>\n",
       "      <td>0</td>\n",
       "      <td>0</td>\n",
       "      <td>0</td>\n",
       "      <td>0</td>\n",
       "      <td>0</td>\n",
       "      <td>0</td>\n",
       "      <td>0</td>\n",
       "    </tr>\n",
       "    <tr>\n",
       "      <td>298</td>\n",
       "      <td>0</td>\n",
       "      <td>0</td>\n",
       "      <td>0</td>\n",
       "      <td>0</td>\n",
       "      <td>0</td>\n",
       "      <td>0</td>\n",
       "      <td>0</td>\n",
       "      <td>0</td>\n",
       "      <td>0</td>\n",
       "      <td>0</td>\n",
       "      <td>...</td>\n",
       "      <td>0</td>\n",
       "      <td>0</td>\n",
       "      <td>0</td>\n",
       "      <td>0</td>\n",
       "      <td>0</td>\n",
       "      <td>0</td>\n",
       "      <td>0</td>\n",
       "      <td>0</td>\n",
       "      <td>0</td>\n",
       "      <td>0</td>\n",
       "    </tr>\n",
       "  </tbody>\n",
       "</table>\n",
       "<p>299 rows × 87 columns</p>\n",
       "</div>"
      ],
      "text/plain": [
       "     0   1   2   3   4   5   6   7   8   9   ...  77  78  79  80  81  82  83  \\\n",
       "0     0   0   0   0   0   0   0   0   0   0  ...   0   0   0   0   0   0   0   \n",
       "1     0   0   0   0   0   0   0   0   0   0  ...   0   0   0   0   0   0   0   \n",
       "2     0   0   0   0   0   0   0   0   0   0  ...   0   0   0   0   0   0   0   \n",
       "3     0   0   0   0   0   0   0   0   0   0  ...   0   0   0   0   0   0   0   \n",
       "4     0   0   0   0   0   0   0   0   0   0  ...   0   0   0   0   0   0   0   \n",
       "..   ..  ..  ..  ..  ..  ..  ..  ..  ..  ..  ...  ..  ..  ..  ..  ..  ..  ..   \n",
       "294   0   0   0   0   0   0   0   0   0   0  ...   0   0   0   0   0   0   0   \n",
       "295   0   0   0   0   0   0   0   0   0   0  ...   0   0   0   0   0   0   0   \n",
       "296   0   0   0   0   0   0   0   0   0   0  ...   0   0   0   0   0   0   0   \n",
       "297   0   0   0   0   0   0   0   0   0   0  ...   0   0   0   0   0   0   0   \n",
       "298   0   0   0   0   0   0   0   0   0   0  ...   0   0   0   0   0   0   0   \n",
       "\n",
       "     84  85  86  \n",
       "0     0   0   0  \n",
       "1     0   0   0  \n",
       "2     0   0   0  \n",
       "3     0   0   0  \n",
       "4     0   0   0  \n",
       "..   ..  ..  ..  \n",
       "294   0   0   0  \n",
       "295   0   0   0  \n",
       "296   0   0   0  \n",
       "297   0   0   0  \n",
       "298   0   0   0  \n",
       "\n",
       "[299 rows x 87 columns]"
      ]
     },
     "execution_count": 21,
     "metadata": {},
     "output_type": "execute_result"
    }
   ],
   "source": [
    "encoded = pd.get_dummies(transformed)\n",
    "encoded"
   ]
  },
  {
   "cell_type": "code",
   "execution_count": null,
   "metadata": {},
   "outputs": [],
   "source": [
    "\n",
    "Observation:\n",
    "After conversion the column gets transformed and have to be added to with the rest of the chosen features.\n",
    "Obviously the dataset becomes sparse. Caution must be used as not every algorithm does good with sparse data, \n",
    "for example: Logistic Regression.\n",
    "    \n",
    "\n",
    "    \n",
    "\n"
   ]
  },
  {
   "cell_type": "code",
   "execution_count": null,
   "metadata": {},
   "outputs": [],
   "source": [
    "\n",
    "Logistic Regression Model does not accept input with missing values in them. Lets just replace the missing values in \n",
    "every column using a simple technique of using mean of the column \n",
    "\n",
    "(FYI: we call this technique of replacing missing values as imputation technique)\n",
    "\n",
    "\n"
   ]
  },
  {
   "cell_type": "code",
   "execution_count": 22,
   "metadata": {},
   "outputs": [],
   "source": [
    "#Let's select the chosen columns\n",
    "\n",
    "selected_df=train[[\"Cost\", \"Hunger\", \"Tortilla\", \"Temp\", \"Meat\", \"Fillings\", \"Meat:filling\", \"Uniformity\", \"Salsa\", \"Synergy\", \"Wrap\"]]\n",
    "\n"
   ]
  },
  {
   "cell_type": "code",
   "execution_count": 25,
   "metadata": {},
   "outputs": [
    {
     "data": {
      "text/plain": [
       "Cost            2.006689\n",
       "Hunger          0.334448\n",
       "Tortilla        0.000000\n",
       "Temp            5.016722\n",
       "Meat            3.344482\n",
       "Fillings        0.334448\n",
       "Meat:filling    2.006689\n",
       "Uniformity      0.668896\n",
       "Salsa           6.688963\n",
       "Synergy         0.668896\n",
       "Wrap            0.668896\n",
       "dtype: float64"
      ]
     },
     "execution_count": 25,
     "metadata": {},
     "output_type": "execute_result"
    }
   ],
   "source": [
    "#Let's check for the missing values in the train set\n",
    "selected_df.isnull().sum() * 100 / len(selected_df)"
   ]
  },
  {
   "cell_type": "code",
   "execution_count": 26,
   "metadata": {},
   "outputs": [],
   "source": [
    "#Imputing with mean value\n",
    "selected_df=selected_df.apply(lambda x: x.fillna(x.mean()),axis=0)"
   ]
  },
  {
   "cell_type": "code",
   "execution_count": 27,
   "metadata": {},
   "outputs": [
    {
     "data": {
      "text/plain": [
       "Cost            0.0\n",
       "Hunger          0.0\n",
       "Tortilla        0.0\n",
       "Temp            0.0\n",
       "Meat            0.0\n",
       "Fillings        0.0\n",
       "Meat:filling    0.0\n",
       "Uniformity      0.0\n",
       "Salsa           0.0\n",
       "Synergy         0.0\n",
       "Wrap            0.0\n",
       "dtype: float64"
      ]
     },
     "execution_count": 27,
     "metadata": {},
     "output_type": "execute_result"
    }
   ],
   "source": [
    "#Let's check whether the missing values are replaced after the above conversion\n",
    "selected_df.isnull().sum() * 100 / len(selected_df)"
   ]
  },
  {
   "cell_type": "code",
   "execution_count": 28,
   "metadata": {},
   "outputs": [],
   "source": [
    "#Let's save the input values in X\n",
    "X=selected_df.values"
   ]
  },
  {
   "cell_type": "code",
   "execution_count": 23,
   "metadata": {},
   "outputs": [],
   "source": [
    "#Let's save the target column in y. When .values is used the column values get transformed into a numpy array and that \n",
    "#is the standard way of giving input to a model\n",
    "\n",
    "y=train[\"Great\"].values"
   ]
  },
  {
   "cell_type": "code",
   "execution_count": null,
   "metadata": {},
   "outputs": [],
   "source": [
    "We are good to go with model building..."
   ]
  },
  {
   "cell_type": "code",
   "execution_count": null,
   "metadata": {},
   "outputs": [],
   "source": [
    "\n",
    "------------------------------------------------------------------------------------------------------------------------------       \n"
   ]
  },
  {
   "cell_type": "code",
   "execution_count": null,
   "metadata": {},
   "outputs": [],
   "source": [
    "Part I: The classifier with chosen features but do not involve scaling the features"
   ]
  },
  {
   "cell_type": "code",
   "execution_count": null,
   "metadata": {},
   "outputs": [],
   "source": [
    "Lets create a reusable code to implement Cross-Validation in the cell below. We will be using this code repeatedly in\n",
    "the process. But wait, why should we use Cross-Validation when we can use accuracy_score to check for the model performance?\n",
    "\n",
    "It is possible to use accuracy_score (from skLearn) to check on the model performance and that is the metric we are using in the \n",
    "assignment. But that does not tell us whether our model is overfitting or underfitting the train and validaiton set. \n",
    "Cross-Validation is the industry gold standard, so lets use it. \n",
    "\n"
   ]
  },
  {
   "cell_type": "code",
   "execution_count": 29,
   "metadata": {},
   "outputs": [],
   "source": [
    "\n",
    "#Implementing a 5-fold Cross Validation \n",
    "# FYI: By default cross_val_score uses the scoring provided in the given estimator, which is usually the simplest \n",
    "# appropriate scoring method. For Logistic Regression it is accuracy and that is what we are after.\n",
    "\n",
    "def cross_validation(model, X, y):\n",
    "    n_folds = 5\n",
    "    kf = KFold(n_folds, shuffle=True, random_state=42)\n",
    "    accuracy_score=cross_val_score(model, X, y, cv = kf)\n",
    "    return accuracy_score.mean()\n",
    "\n"
   ]
  },
  {
   "cell_type": "code",
   "execution_count": 40,
   "metadata": {},
   "outputs": [],
   "source": [
    "#Before calling the above function we need a model. Let's load the Logistic Regression Model\n",
    "\n",
    "model = LogisticRegression(random_state=0)#we can reuse this for validation and test"
   ]
  },
  {
   "cell_type": "code",
   "execution_count": 41,
   "metadata": {},
   "outputs": [],
   "source": [
    "model_fitted=model.fit(X, y)#fitting X and y here"
   ]
  },
  {
   "cell_type": "code",
   "execution_count": 42,
   "metadata": {},
   "outputs": [
    {
     "data": {
      "text/plain": [
       "0.8728813559322035"
      ]
     },
     "execution_count": 42,
     "metadata": {},
     "output_type": "execute_result"
    }
   ],
   "source": [
    "#Let's check the accuracy on the train set. Look great. Now what about validation set \n",
    "# (Point to remember: because we cannot test using test set, we use the validation set to check on the model's performance)\n",
    " \n",
    "cross_validation(model_fitted, X, y)"
   ]
  },
  {
   "cell_type": "code",
   "execution_count": null,
   "metadata": {},
   "outputs": [],
   "source": [
    "\n",
    "Observation:\n",
    "The accuracy on the train set is good at approx. 87%\n",
    "\n"
   ]
  },
  {
   "cell_type": "code",
   "execution_count": 35,
   "metadata": {},
   "outputs": [],
   "source": [
    "#Let's check how the model does it on the validation set. Let's get the validation set \n",
    "\n",
    "validation_df=pd.read_csv(\"/Users/chidam/Desktop/burritos_validation_set.csv\")"
   ]
  },
  {
   "cell_type": "code",
   "execution_count": 36,
   "metadata": {},
   "outputs": [],
   "source": [
    "#Let's convert the target column in the validation set and store it in y_valid\n",
    "\n",
    "validation_df[\"Great\"] = validation_df[\"Great\"].astype(int)\n",
    "y_valid=validation_df[\"Great\"].values"
   ]
  },
  {
   "cell_type": "code",
   "execution_count": 34,
   "metadata": {},
   "outputs": [],
   "source": [
    "#Let's create a reusable code to impute the missing values. We can now use this on the validation and test set\n",
    "\n",
    "def impute_missing_values(df):\n",
    "    df=df.apply(lambda x: x.fillna(x.mean()),axis=0)\n",
    "    return df\n",
    "    \n",
    "    \n",
    "    \n",
    "\n"
   ]
  },
  {
   "cell_type": "code",
   "execution_count": 37,
   "metadata": {},
   "outputs": [],
   "source": [
    "#Selecting the same chosen columns we used in the train set\n",
    "selected_valid_df=impute_missing_values(validation_df[[\"Cost\", \"Hunger\", \"Tortilla\", \"Temp\", \"Meat\", \"Fillings\", \"Meat:filling\", \"Uniformity\", \"Salsa\", \"Synergy\", \"Wrap\"]])\n"
   ]
  },
  {
   "cell_type": "code",
   "execution_count": 38,
   "metadata": {},
   "outputs": [
    {
     "data": {
      "text/plain": [
       "Cost            0.0\n",
       "Hunger          0.0\n",
       "Tortilla        0.0\n",
       "Temp            0.0\n",
       "Meat            0.0\n",
       "Fillings        0.0\n",
       "Meat:filling    0.0\n",
       "Uniformity      0.0\n",
       "Salsa           0.0\n",
       "Synergy         0.0\n",
       "Wrap            0.0\n",
       "dtype: float64"
      ]
     },
     "execution_count": 38,
     "metadata": {},
     "output_type": "execute_result"
    }
   ],
   "source": [
    "#Let's check whether there are any missing values in the validation set. Looks like there are not!\n",
    "selected_valid_df.isnull().sum() * 100 / len(selected_valid_df)"
   ]
  },
  {
   "cell_type": "code",
   "execution_count": 72,
   "metadata": {},
   "outputs": [],
   "source": [
    "#Let's get our X_valid\n",
    "X_valid=selected_valid_df.values"
   ]
  },
  {
   "cell_type": "code",
   "execution_count": 43,
   "metadata": {},
   "outputs": [],
   "source": [
    "# Let's check the model's performance on the validation set\n",
    "model_valid = model.fit(X_valid, y_valid)#using the model where we instantiated Logistic Regression"
   ]
  },
  {
   "cell_type": "code",
   "execution_count": 44,
   "metadata": {},
   "outputs": [
    {
     "data": {
      "text/plain": [
       "0.8470588235294118"
      ]
     },
     "execution_count": 44,
     "metadata": {},
     "output_type": "execute_result"
    }
   ],
   "source": [
    "#Let's check the model's performance on the validation set\n",
    "\n",
    "cross_validation(model_valid, X_valid, y_valid)"
   ]
  },
  {
   "cell_type": "code",
   "execution_count": null,
   "metadata": {},
   "outputs": [],
   "source": [
    "Observation:\n",
    "The accuracy on the validation set is also good at approx. 85% It is only fair the score is less compared to that using the \n",
    "train set. Because the model never saw (i.e., trained using) the validation set. Skepticism is encouraged if the score \n",
    "is high!\n",
    "\n",
    "What we know now:\n",
    "1. The model is not underfitting the training data, because the model did not perform poorly on the training data. It \n",
    "performed well.\n",
    "\n",
    "2. The model is not overfitting either as the model also has performed well on the validation data.\n",
    "\n"
   ]
  },
  {
   "cell_type": "code",
   "execution_count": null,
   "metadata": {},
   "outputs": [],
   "source": [
    "The model has performed well on both the training and validation data sets. Now what?\n",
    "\n",
    "Good accuracy does not give the entire picture. Confusion Matix comes in to save!"
   ]
  },
  {
   "cell_type": "code",
   "execution_count": 45,
   "metadata": {},
   "outputs": [],
   "source": [
    "# Before using the confusion matrix, we need to predict. Let's predict the target column in the validation set and check\n",
    "#how the model has performed using the confusion matrix\n",
    "\n",
    "y_valid_pred=model_fitted.predict(X_valid)#have to use the model that we trained using the train set. could have \n",
    "#chosen a different name for model used for training"
   ]
  },
  {
   "cell_type": "code",
   "execution_count": 46,
   "metadata": {},
   "outputs": [],
   "source": [
    "#As of now y_valid is our true target column as we are using the validation set to check the model's performance\n",
    "\n",
    "CM_valid=confusion_matrix(y_valid, y_valid_pred)\n"
   ]
  },
  {
   "cell_type": "code",
   "execution_count": 47,
   "metadata": {},
   "outputs": [],
   "source": [
    "#The true positive, false positive, true negative, and false negative from the confusion matrix as follows.\n",
    "\n",
    "TN = CM_valid[0][0]\n",
    "FN = CM_valid[1][0]\n",
    "TP = CM_valid[1][1]\n",
    "FP = CM_valid[0][1]"
   ]
  },
  {
   "cell_type": "code",
   "execution_count": 48,
   "metadata": {},
   "outputs": [
    {
     "data": {
      "text/plain": [
       "(45, 6, 32, 2)"
      ]
     },
     "execution_count": 48,
     "metadata": {},
     "output_type": "execute_result"
    }
   ],
   "source": [
    "TN, FN, TP, FP"
   ]
  },
  {
   "cell_type": "code",
   "execution_count": 49,
   "metadata": {},
   "outputs": [
    {
     "data": {
      "text/plain": [
       "0    47\n",
       "1    38\n",
       "Name: Great, dtype: int64"
      ]
     },
     "execution_count": 49,
     "metadata": {},
     "output_type": "execute_result"
    }
   ],
   "source": [
    "#Let's see the number of positives and negatives in the validation set to make sense of the confusion matrix outcome\n",
    "\n",
    "validation_df[\"Great\"].value_counts()\n",
    "\n"
   ]
  },
  {
   "cell_type": "code",
   "execution_count": null,
   "metadata": {},
   "outputs": [],
   "source": [
    "\n",
    "Observation:\n",
    "Now the confusion matrix gives us a better picture regarding how many the model has got right and wrong.\n",
    "\n",
    "The model has got 45 out of the 47 negatives (0s) correct and 32 out of 38 positives (1s) correct. \n",
    "This is a decent outcome. Now the model is ready to be trained using both the train and validation sets and finally test it\n",
    "on the test set.\n",
    "\n",
    "\n",
    "\n",
    "\n"
   ]
  },
  {
   "cell_type": "code",
   "execution_count": 50,
   "metadata": {},
   "outputs": [],
   "source": [
    "#It's possible to combine both the train and validation sets using one line in pandas library like this:\n",
    "\n",
    "X_combined = selected_df.append(selected_valid_df, ignore_index=True)\n",
    "\n"
   ]
  },
  {
   "cell_type": "code",
   "execution_count": 51,
   "metadata": {},
   "outputs": [],
   "source": [
    "#Let's also combine the y values in both the train and validation sets\n",
    "\n",
    "y_combined=train[\"Great\"].append(validation_df[\"Great\"], ignore_index=True)\n"
   ]
  },
  {
   "cell_type": "code",
   "execution_count": 52,
   "metadata": {},
   "outputs": [
    {
     "data": {
      "text/plain": [
       "Cost            0.0\n",
       "Hunger          0.0\n",
       "Tortilla        0.0\n",
       "Temp            0.0\n",
       "Meat            0.0\n",
       "Fillings        0.0\n",
       "Meat:filling    0.0\n",
       "Uniformity      0.0\n",
       "Salsa           0.0\n",
       "Synergy         0.0\n",
       "Wrap            0.0\n",
       "dtype: float64"
      ]
     },
     "execution_count": 52,
     "metadata": {},
     "output_type": "execute_result"
    }
   ],
   "source": [
    "\n",
    "#Let's just make sure that our combined X does not have any missing values\n",
    "X_combined.isnull().sum() * 100 / len(X_combined)\n"
   ]
  },
  {
   "cell_type": "code",
   "execution_count": 53,
   "metadata": {},
   "outputs": [],
   "source": [
    "#Let's read the test set \n",
    "test=pd.read_csv(\"/Users/chidam/Desktop/burritos_test_set.csv\")"
   ]
  },
  {
   "cell_type": "code",
   "execution_count": 56,
   "metadata": {},
   "outputs": [
    {
     "data": {
      "text/plain": [
       "True     21\n",
       "False    16\n",
       "Name: Great, dtype: int64"
      ]
     },
     "execution_count": 56,
     "metadata": {},
     "output_type": "execute_result"
    }
   ],
   "source": [
    "#Let's check the number of classes in the test set\n",
    "\n",
    "test[\"Great\"].value_counts()"
   ]
  },
  {
   "cell_type": "code",
   "execution_count": 54,
   "metadata": {},
   "outputs": [],
   "source": [
    "#Selecting the same chosen columns we used in the train set\n",
    "test_df=impute_missing_values(test[[\"Cost\", \"Hunger\", \"Tortilla\", \"Temp\", \"Meat\", \"Fillings\", \"Meat:filling\", \"Uniformity\", \"Salsa\", \"Synergy\", \"Wrap\"]])\n"
   ]
  },
  {
   "cell_type": "code",
   "execution_count": 55,
   "metadata": {},
   "outputs": [],
   "source": [
    "#Let's get the X from the test set\n",
    "X_test=test_df.values"
   ]
  },
  {
   "cell_type": "code",
   "execution_count": 57,
   "metadata": {},
   "outputs": [],
   "source": [
    "#As before let's convert and get the y from the test set\n",
    "test[\"Great\"] = test[\"Great\"].astype(int)\n",
    "y_test=test[\"Great\"].values"
   ]
  },
  {
   "cell_type": "code",
   "execution_count": 58,
   "metadata": {},
   "outputs": [],
   "source": [
    "#Let's fit the model on the entire training set including the validaiton set\n",
    "clf=model.fit(X_combined.values, y_combined.values)\n"
   ]
  },
  {
   "cell_type": "code",
   "execution_count": 59,
   "metadata": {},
   "outputs": [],
   "source": [
    "y_test_pred=clf.predict(X_test)"
   ]
  },
  {
   "cell_type": "code",
   "execution_count": 60,
   "metadata": {},
   "outputs": [],
   "source": [
    "#No more Cross_Validation at this point. Let's check model's performance \n",
    "CM_test=confusion_matrix(y_test, y_test_pred)"
   ]
  },
  {
   "cell_type": "code",
   "execution_count": 61,
   "metadata": {},
   "outputs": [],
   "source": [
    "TN_test= CM_test[0][0]\n",
    "FN_test = CM_test[1][0]\n",
    "TP_test = CM_test[1][1]\n",
    "FP_test = CM_test[0][1]"
   ]
  },
  {
   "cell_type": "code",
   "execution_count": 62,
   "metadata": {},
   "outputs": [
    {
     "data": {
      "text/plain": [
       "(11, 4, 17, 5)"
      ]
     },
     "execution_count": 62,
     "metadata": {},
     "output_type": "execute_result"
    }
   ],
   "source": [
    "TN_test, FN_test, TP_test, FP_test"
   ]
  },
  {
   "cell_type": "code",
   "execution_count": null,
   "metadata": {},
   "outputs": [],
   "source": [
    "Observation:\n",
    "\n",
    "The model has got 11 out of the 16 negatives (0s) correct and 17 out of 21 positives (1s) correct. \n",
    "This is a good outcome, but before, say, deploying the model a few suggestions to improve the score further:\n",
    "    \n",
    "1. Can further add other features like ingredients and even transformed reviews to improve the score.\n",
    "2. Grid Search for optimum parameters and customize the model.\n",
    "3. Can also narrow down on significant features thereby avoiding highly correlated and redundant features. \n"
   ]
  },
  {
   "cell_type": "code",
   "execution_count": null,
   "metadata": {},
   "outputs": [],
   "source": [
    "------------------------------------------------------------------------------------------------------------------------------       \n"
   ]
  },
  {
   "cell_type": "code",
   "execution_count": null,
   "metadata": {},
   "outputs": [],
   "source": [
    "Part II: The classifier with chosen features and that involves scaling procedure "
   ]
  },
  {
   "cell_type": "code",
   "execution_count": null,
   "metadata": {},
   "outputs": [],
   "source": [
    "\n",
    "Now you have a hang of the precedure and the various steps involved in the model building process. So we are not going to \n",
    "dive deeper in this section again. Lets cut to the chase! "
   ]
  },
  {
   "cell_type": "code",
   "execution_count": null,
   "metadata": {},
   "outputs": [],
   "source": [
    "Can use the Pipeline command of skLearn to combine scaling the data and fitting the model on it like as follows:\n",
    "\n",
    "pipe = Pipeline([('scale', StandardScaler()), ('clf', LogisticRegression(random_state=0))]"
   ]
  },
  {
   "cell_type": "code",
   "execution_count": null,
   "metadata": {},
   "outputs": [],
   "source": [
    "\n",
    "After imputing the data and scaling X_train it looks like as follows\n",
    "\n"
   ]
  },
  {
   "cell_type": "code",
   "execution_count": 70,
   "metadata": {},
   "outputs": [
    {
     "data": {
      "text/plain": [
       "array([[-3.43038668e-01, -5.27005189e-01, -5.96820381e-01, ...,\n",
       "         7.23553702e-01,  4.94381628e-01,  3.56687841e-02],\n",
       "       [-1.21202813e+00,  6.22914201e-02, -1.85129696e+00, ...,\n",
       "         1.88794807e-01, -1.13587015e+00,  8.96939424e-01],\n",
       "       [-1.71336821e+00, -2.29489502e+00, -5.96820381e-01, ...,\n",
       "        -3.45964088e-01, -5.92452891e-01,  8.96939424e-01],\n",
       "       ...,\n",
       "       [ 7.09775492e-01,  6.51588029e-01,  3.04179104e-02, ...,\n",
       "        -1.20157832e+00, -2.66402535e-01,  4.66304104e-01],\n",
       "       [ 7.09775492e-01,  6.51588029e-01,  6.57656202e-01, ...,\n",
       "        -1.41548188e+00, -1.67928741e+00,  3.56687841e-02],\n",
       "       [ 7.47447292e-02,  2.98010064e-01,  1.55865569e-01, ...,\n",
       "        -4.74961311e-16,  2.77014724e-01, -1.68687250e+00]])"
      ]
     },
     "execution_count": 70,
     "metadata": {},
     "output_type": "execute_result"
    }
   ],
   "source": [
    "Sacled X_train\n",
    "\n",
    "X_scaled"
   ]
  },
  {
   "cell_type": "code",
   "execution_count": 71,
   "metadata": {},
   "outputs": [
    {
     "data": {
      "text/plain": [
       "0.8694915254237288"
      ]
     },
     "execution_count": 71,
     "metadata": {},
     "output_type": "execute_result"
    }
   ],
   "source": [
    "The accuracy on the training set after scaling (goes down a little bit from approx 87% to 86.9%)\n",
    "\n",
    "cross_validation(model, X_scaled, y)"
   ]
  },
  {
   "cell_type": "code",
   "execution_count": 74,
   "metadata": {},
   "outputs": [
    {
     "data": {
      "text/plain": [
       "0.8705882352941178"
      ]
     },
     "execution_count": 74,
     "metadata": {},
     "output_type": "execute_result"
    }
   ],
   "source": [
    "But the accuracy on the validation set after scaling jumps up from approx. 84% to 87% Now it might be very good preformance\n",
    "but get skeptical!\n",
    "\n",
    "cross_validation(model, X_valid_scaled, y_valid)"
   ]
  },
  {
   "cell_type": "code",
   "execution_count": null,
   "metadata": {},
   "outputs": [],
   "source": [
    "Just listing the outcome of the confusion matrix after testing using scaled data\n",
    "\n",
    "TN, FN, TP, FP\n",
    "\n",
    "(16, 21, 0, 0)"
   ]
  },
  {
   "cell_type": "code",
   "execution_count": null,
   "metadata": {},
   "outputs": [],
   "source": [
    "Observation:\n",
    "\n",
    "The model gets the negatives, i.e., 0s perfectly correct, but completely gets the 21 true positives wrong and \n",
    "labels them as negative.\n",
    "\n"
   ]
  },
  {
   "cell_type": "code",
   "execution_count": null,
   "metadata": {},
   "outputs": [],
   "source": [
    "What have we learnt?\n",
    "Although the model fitted and tested using the scaled data was not overfitting or underfitting, the model does not perform\n",
    "well. In general, be cautious when your model does extremely well on the validation or evaluation data.\n",
    "\n",
    "Suggestion:\n",
    "    \n",
    "Accuracy=TP+TN/(TP+TN+FP+FN)\n",
    "where:\n",
    "TP-> True Positives\n",
    "TN-> True Negatives\n",
    "FP-> False Positives\n",
    "FN-> False Negatives\n",
    "    \n",
    "Accuracy is not a great metric for a classification task primarily because it considers how many values it got right \n",
    "in its numerator. It could have gotten either of the classes completely wrong but still might score high values. So \n",
    "maybe, depending on the context, picking an appropriate metric like 'log loss' or 'F1 score' might prove useful.\n",
    "\n"
   ]
  },
  {
   "cell_type": "code",
   "execution_count": null,
   "metadata": {},
   "outputs": [],
   "source": [
    "Hope you enjoyed the journey of building a model through this assignment. And that you will keep building more starting \n",
    "with this!"
   ]
  }
 ],
 "metadata": {
  "kernelspec": {
   "display_name": "Python 3",
   "language": "python",
   "name": "python3"
  },
  "language_info": {
   "codemirror_mode": {
    "name": "ipython",
    "version": 3
   },
   "file_extension": ".py",
   "mimetype": "text/x-python",
   "name": "python",
   "nbconvert_exporter": "python",
   "pygments_lexer": "ipython3",
   "version": "3.7.4"
  }
 },
 "nbformat": 4,
 "nbformat_minor": 2
}
