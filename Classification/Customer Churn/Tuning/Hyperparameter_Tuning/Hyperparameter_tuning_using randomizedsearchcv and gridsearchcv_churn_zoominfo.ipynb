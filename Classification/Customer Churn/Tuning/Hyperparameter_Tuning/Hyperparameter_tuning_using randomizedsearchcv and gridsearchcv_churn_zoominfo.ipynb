{
 "cells": [
  {
   "cell_type": "code",
   "execution_count": 7,
   "id": "391566a9-576a-4f14-aa4f-2a3c80ac2783",
   "metadata": {},
   "outputs": [],
   "source": [
    "\n",
    "#import libraries and modules\n",
    "import pandas as pd\n",
    "import matplotlib.pyplot as plt\n",
    "import seaborn as sns\n",
    "from sklearn.model_selection import train_test_split\n",
    "from sklearn.impute import KNNImputer\n",
    "from sklearn.model_selection import StratifiedKFold\n",
    "from sklearn.metrics import log_loss\n",
    "from sklearn.metrics import f1_score\n",
    "from collections import defaultdict\n",
    "from sklearn.preprocessing import StandardScaler\n",
    "from sklearn.preprocessing import OneHotEncoder\n",
    "from sklearn.metrics import precision_recall_curve\n",
    "from sklearn.ensemble import RandomForestClassifier\n",
    "from sklearn.model_selection import RandomizedSearchCV\n",
    "from imblearn.combine import SMOTETomek\n",
    "from imblearn.combine import SMOTEENN\n",
    "from sklearn.metrics import f1_score, make_scorer\n",
    "from sklearn.metrics import confusion_matrix\n",
    "from statsmodels.stats.outliers_influence import variance_inflation_factor\n",
    "import statsmodels.api as sm\n",
    "from boruta import BorutaPy\n",
    "import joblib\n",
    "import numpy as np\n",
    "import time\n",
    "import gc\n"
   ]
  },
  {
   "cell_type": "markdown",
   "id": "a14dee75-4ac9-4fbf-a9ef-6784ecd013a2",
   "metadata": {},
   "source": [
    "\n",
    "# I have split the Churn dataset into train and test. Have set the test data aside. Will be used later to predict on the undeen data to ensure the quality of the final model\n"
   ]
  },
  {
   "cell_type": "code",
   "execution_count": null,
   "id": "14392ead-0085-4473-9171-d3813589624b",
   "metadata": {},
   "outputs": [],
   "source": [
    "\n",
    "# Let's take 350 records of the input dataset and set them aside as test set \n",
    "\n",
    "random_state = 42\n",
    "test_size = 350\n",
    "train_data, test_data = train_test_split(df_churn, test_size=test_size, random_state=random_state)\n",
    "\n"
   ]
  },
  {
   "cell_type": "code",
   "execution_count": null,
   "id": "2308317b-3ee3-47e9-b76a-0eee5809b518",
   "metadata": {},
   "outputs": [],
   "source": [
    "\n",
    "#Let's save a copy of train and test datasets\n",
    "\n",
    "train_data.to_csv('/Users/chidam_sp/Desktop/churn_traindata.csv', index=False)\n",
    "test_data.to_csv('/Users/chidam_sp/Desktop/churn_testdata.csv', index=False)\n"
   ]
  },
  {
   "cell_type": "code",
   "execution_count": 25,
   "id": "7241cb05-0113-44f0-ab40-d9f80e53dd18",
   "metadata": {},
   "outputs": [],
   "source": [
    "#Read in the training data\n",
    "train_data = pd.read_csv('/Users/chidam_sp/Desktop/churn_traindata.csv')\n"
   ]
  },
  {
   "cell_type": "code",
   "execution_count": 4,
   "id": "c3850376-f8af-4a75-b5e2-1fde8ad80ed2",
   "metadata": {},
   "outputs": [
    {
     "data": {
      "text/plain": [
       "CustomerID                     0.000000\n",
       "Churn                          0.000000\n",
       "Tenure                         4.659091\n",
       "PreferredLoginDevice           0.000000\n",
       "CityTier                       0.000000\n",
       "WarehouseToHome                4.356061\n",
       "PreferredPaymentMode           0.000000\n",
       "Gender                         0.000000\n",
       "HourSpendOnApp                 4.545455\n",
       "NumberOfDeviceRegistered       0.000000\n",
       "PreferedOrderCat               0.000000\n",
       "SatisfactionScore              0.000000\n",
       "MaritalStatus                  0.000000\n",
       "NumberOfAddress                0.000000\n",
       "Complain                       0.000000\n",
       "OrderAmountHikeFromlastYear    4.696970\n",
       "CouponUsed                     4.602273\n",
       "OrderCount                     4.545455\n",
       "DaySinceLastOrder              5.359848\n",
       "CashbackAmount                 0.000000\n",
       "dtype: float64"
      ]
     },
     "execution_count": 4,
     "metadata": {},
     "output_type": "execute_result"
    }
   ],
   "source": [
    "#Let's check the percentage of null values in the input data\n",
    "\n",
    "train_data.isnull().sum()*100/len(train_data)\n"
   ]
  },
  {
   "cell_type": "code",
   "execution_count": 5,
   "id": "67a0d3ca-604a-4cfe-bb85-9889ccfe13c8",
   "metadata": {},
   "outputs": [
    {
     "data": {
      "text/plain": [
       "20"
      ]
     },
     "execution_count": 5,
     "metadata": {},
     "output_type": "execute_result"
    }
   ],
   "source": [
    "#Total number of columns\n",
    "len(train_data.columns)"
   ]
  },
  {
   "cell_type": "markdown",
   "id": "23b30146-a006-439b-9171-33df6de016e2",
   "metadata": {},
   "source": [
    "\n",
    "## Dynamically designed the process of imputing the missing values - KNN\n",
    "Goal is to use KNN (K-Nearest Neighbor algorithm) to impute the missing values in the train_data. The algorithm primarily depends on finding neighbors.\n"
   ]
  },
  {
   "cell_type": "code",
   "execution_count": 119,
   "id": "97fe79a7-b082-41c6-a7af-b784e3739025",
   "metadata": {},
   "outputs": [],
   "source": [
    "\n",
    "#This CV loop here is for KNN - to find the nearest neighbor further to impute the missing values in the training data\n",
    "def cv_knn(df, nsplit, date, version):\n",
    "    X = df.copy()\n",
    "    X.drop([\"PreferredPaymentMode\", \"PreferedOrderCat\", \"MaritalStatus\"], axis=1, inplace=True)\n",
    "    cv_result = defaultdict(list)\n",
    "    kf = StratifiedKFold(n_splits=nsplit, shuffle=True)\n",
    "    f_open = open(f'CV log file to find the best neighbor for KNN - {date} - {version}.txt','a')\n",
    "    start = time.time()\n",
    "    y = X[\"Churn\"]\n",
    "    X.drop(\"Churn\", axis=1, inplace=True)\n",
    "    avg_f1 = []\n",
    "    scaler = StandardScaler()\n",
    "    for n in range(3, 13):\n",
    "        element_average = []\n",
    "        for i, (train_index, val_index) in enumerate(kf.split(X, y)):\n",
    "            x_train = X.loc[train_index]\n",
    "            x_val = X.loc[val_index]\n",
    "            y_train = y[train_index]\n",
    "            y_val = y[val_index]\n",
    "            x_train = scaler.fit_transform(x_train)\n",
    "            x_val = scaler.fit_transform(x_val)\n",
    "            train_imputer = KNNImputer(n_neighbors=n, weights='uniform', metric='nan_euclidean')\n",
    "            xtrain_imputed = train_imputer.fit_transform(x_train)\n",
    "            val_imputer = KNNImputer(n_neighbors=3, weights='uniform', metric='nan_euclidean')\n",
    "            xval_imputed = val_imputer.fit_transform(x_val)\n",
    "            model = RandomForestClassifier(max_depth=12, random_state=2076)            \n",
    "            model.fit(xtrain_imputed, y_train)    \n",
    "            y_pred = model.predict(xval_imputed)            \n",
    "            f1_value = round(f1_score(y_val, y_pred), 2)\n",
    "            element_average.append(f1_value)\n",
    "            cv_result[n].append(f1_value)\n",
    "        avg_f1.append(round(sum(element_average)/len(element_average), 2))\n",
    "    max_value = max(cv_result.values())\n",
    "    max_keys = [k for k, v in cv_result.items() if v == max_value] # getting all keys containing the `maximum`\n",
    "    f_open.write('                                                  \\n')\n",
    "    f_open.write('##################################################\\n')\n",
    "    f_open.write(\"The cv_result is {}\\n\".format(cv_result))\n",
    "    f_open.write('                                                  \\n')\n",
    "    f_open.write('##################################################\\n')\n",
    "    f_open.write(\"The best neighbor is {}\\n\".format(max_keys))\n",
    "    f_open.write('                                                  \\n')\n",
    "    f_open.write('##################################################\\n')\n",
    "    f_open.write(\"The average f1_score is {}\\n\".format(round(sum(avg_f1)/len(avg_f1), 2)))\n",
    "    f_open.write('                                                  \\n')\n",
    "    f_open.write('##################################################\\n')\n",
    "    f_open.write(\"Total time taken {}\\n\".format(str(time.time() - start)))\n",
    "    f_open.close()\n",
    "    return max_keys\n"
   ]
  },
  {
   "cell_type": "code",
   "execution_count": 121,
   "id": "f7ee7c98-1174-4679-8762-138643fd1be6",
   "metadata": {},
   "outputs": [],
   "source": [
    "\n",
    "#Few helper functions to help with the feature engineering process.\n",
    "def frequency_encoding(df, c):\n",
    "    freq_encoding = (df.groupby(c).size()) / len(df)\n",
    "    df[c] = df[c].apply(lambda x : freq_encoding[x])\n",
    "    return df   \n",
    "\n",
    "def feature_encoding(X, c):\n",
    "    encoder = OneHotEncoder(sparse_output=False)\n",
    "    onehotlabels = encoder.fit_transform(X[[c]])\n",
    "    df_onehot = pd.DataFrame(onehotlabels)\n",
    "    for col in df_onehot.columns:\n",
    "        df_onehot.rename(columns = {col:str(col)+'_'+c}, inplace=True)\n",
    "    X = pd.concat([X, df_onehot], axis=1)\n",
    "    X.drop(c, axis=1, inplace=True)\n",
    "    return X\n",
    "\n",
    "\n",
    "#This function imputes the missing values in the training data using the neighbors selected from the function cv_knn. \n",
    "def feature_engineering_cv(df, date, version, model_name):\n",
    "    x = df.copy()\n",
    "    x.columns = x.columns.str.strip()\n",
    "    x.drop(\"CustomerID\", axis=1, inplace=True)\n",
    "    avg_f1_score = []\n",
    "    decimals = 2\n",
    "    # Imputing only the 0s in Tenure\n",
    "    x['Tenure'] = x.apply(lambda row: 0.5 if row['Tenure']==0.0 else row['Tenure'], axis=1)\n",
    "    x[\"PreferredLoginDevice\"] = x[\"PreferredLoginDevice\"].replace(to_replace=['Mobile Phone'], value='Phone')\n",
    "    x[\"PreferredPaymentMode\"] = x[\"PreferredPaymentMode\"].map({\"Debit Card\": \"debit\", \"Credit Card\": \"credit\", \"E wallet\": \"wallet\", \"UPI\": \"upi\", \"COD\": \"cash_delivery\", \"CC\": \"credit\", \"Cash on Delivery\": \"cash_delivery\"})\n",
    "    x[\"PreferedOrderCat\"] = x[\"PreferedOrderCat\"].replace(to_replace=['Mobile Phone', \"Laptop & Accessory\"], value=['Mobile', \"Laptop_accessory\"])\n",
    "    x['WarehouseToHome'] = x.apply(lambda row: np.nan if row['WarehouseToHome']>120 else row['WarehouseToHome'], axis=1)\n",
    "    x = feature_encoding(x, \"PreferredLoginDevice\")\n",
    "    x = feature_encoding(x, \"Gender\")\n",
    "    x[\"Complain\"].replace(to_replace=1, value=-1, inplace=True)\n",
    "    x[\"CityTier\"] = x[\"CityTier\"].map({1: 3, 2: 2, 3:1})   \n",
    "    x[\"CityTier\"] = x[\"CityTier\"].astype('int32')\n",
    "    x[\"Complain\"] = x[\"Complain\"].astype('int32')\n",
    "    x[\"NumberOfDeviceRegistered\"] = x[\"NumberOfDeviceRegistered\"].astype('int32')\n",
    "    x[\"SatisfactionScore\"] = x[\"SatisfactionScore\"].astype('int32')\n",
    "    x[\"NumberOfAddress\"] = x[\"NumberOfAddress\"].astype('int32')\n",
    "    x[\"OrderAmountHikeFromlastYear\"] = x[\"OrderAmountHikeFromlastYear\"].astype('float32')\n",
    "    x[\"CashbackAmount\"] = x[\"CashbackAmount\"].astype('float32')\n",
    "    x.drop('1_Gender', axis=1, inplace=True)\n",
    "    # Imputing missing values in WarehouseToHome, HourSpendOnApp, OrderAmountHikeFromlastYear, CouponUsed, OrderCount, DaySinceLastOrder, \n",
    "    #Tenure\n",
    "    nneighbors = cv_knn(x, 5, date, model_name)\n",
    "    y = x[\"Churn\"]\n",
    "    x.drop(\"Churn\", axis=1, inplace=True)\n",
    "    X_train, X_val, y_train, y_val = train_test_split(x, y, test_size=0.05, stratify=y, shuffle=True, random_state=2098)\n",
    "    X_train = frequency_encoding(X_train, \"PreferredPaymentMode\")\n",
    "    X_val = frequency_encoding(X_val, \"PreferredPaymentMode\")\n",
    "    X_train = frequency_encoding(X_train, \"PreferedOrderCat\")\n",
    "    X_val = frequency_encoding(X_val, \"PreferedOrderCat\")\n",
    "    X_train = frequency_encoding(X_train, \"MaritalStatus\")\n",
    "    X_val = frequency_encoding(X_val, \"MaritalStatus\")\n",
    "    X_train[\"PreferredPaymentMode\"] = X_train[\"PreferredPaymentMode\"].apply(lambda x: round(x, decimals))\n",
    "    X_train[\"MaritalStatus\"] = X_train[\"MaritalStatus\"].apply(lambda x: round(x, decimals))\n",
    "    X_train[\"PreferedOrderCat\"] = X_train[\"PreferedOrderCat\"].apply(lambda x: round(x, decimals))\n",
    "    X_train.drop('PreferedOrderCat', axis=1, inplace=True)\n",
    "    X_val.drop('PreferedOrderCat', axis=1, inplace=True)\n",
    "    train_imputer = KNNImputer(n_neighbors=nneighbors[0], weights='uniform', metric='nan_euclidean')\n",
    "    xtrain_imputed = train_imputer.fit_transform(X_train)\n",
    "    val_imputer = KNNImputer(n_neighbors=3, weights='uniform', metric='nan_euclidean')\n",
    "    xval_imputed = val_imputer.fit_transform(X_val)\n",
    "    # smt = SMOTETomek(sampling_strategy='minority', random_state=3050)\n",
    "    # xtrain_resampled, ytrain_resampled = smt.fit_resample(xtrain_imputed, y_train)\n",
    "    return xtrain_imputed, xval_imputed, y_train, y_val, X_train.columns.to_list()\n"
   ]
  },
  {
   "cell_type": "code",
   "execution_count": 122,
   "id": "890a1ef3-bcac-4d49-9acc-bc149bfb3ec1",
   "metadata": {},
   "outputs": [],
   "source": [
    "\n",
    "x_train, xval, y_train, yval, column_list = feature_engineering_cv(train_data, \"Jan 8\", \"v11\", \"Dropping 1_Gender and PreferedOrderCat_rounding float values\")\n",
    "\n",
    "\n"
   ]
  },
  {
   "cell_type": "code",
   "execution_count": 72,
   "id": "3100c7c2-8bd1-4bf4-bc4e-7f9aafdd9b68",
   "metadata": {},
   "outputs": [
    {
     "data": {
      "text/plain": [
       "5016"
      ]
     },
     "execution_count": 72,
     "metadata": {},
     "output_type": "execute_result"
    }
   ],
   "source": [
    "#len of training data - x_train\n",
    "len(x_train)\n"
   ]
  },
  {
   "cell_type": "code",
   "execution_count": 59,
   "id": "74cd98d0-4756-469a-8577-2272d1f01d95",
   "metadata": {},
   "outputs": [
    {
     "data": {
      "text/plain": [
       "5016"
      ]
     },
     "execution_count": 59,
     "metadata": {},
     "output_type": "execute_result"
    }
   ],
   "source": [
    "#len of y_train\n",
    "len(y_train)\n"
   ]
  },
  {
   "cell_type": "code",
   "execution_count": 60,
   "id": "5f43d556-8507-41bc-8b0f-db6da2ec04e0",
   "metadata": {},
   "outputs": [
    {
     "data": {
      "text/plain": [
       "Churn\n",
       "0    4176\n",
       "1     840\n",
       "Name: count, dtype: int64"
      ]
     },
     "execution_count": 60,
     "metadata": {},
     "output_type": "execute_result"
    }
   ],
   "source": [
    "#Spread of Churn in y_train\n",
    "\n",
    "y_train.value_counts(dropna=False)\n"
   ]
  },
  {
   "cell_type": "code",
   "execution_count": 61,
   "id": "e709cf3c-420a-4bf8-907c-f8c86b6d30ce",
   "metadata": {},
   "outputs": [
    {
     "data": {
      "text/plain": [
       "Churn\n",
       "0    220\n",
       "1     44\n",
       "Name: count, dtype: int64"
      ]
     },
     "execution_count": 61,
     "metadata": {},
     "output_type": "execute_result"
    }
   ],
   "source": [
    "#Spread of the target variable Churn in validation data\n",
    "\n",
    "yval.value_counts(dropna=False)\n"
   ]
  },
  {
   "cell_type": "code",
   "execution_count": 62,
   "id": "a7427876-0c95-410a-9223-4f76e34a8f01",
   "metadata": {},
   "outputs": [
    {
     "data": {
      "text/plain": [
       "264"
      ]
     },
     "execution_count": 62,
     "metadata": {},
     "output_type": "execute_result"
    }
   ],
   "source": [
    "#len of the chosen validation data\n",
    "\n",
    "len(xval)\n"
   ]
  },
  {
   "cell_type": "code",
   "execution_count": 63,
   "id": "91ac7a8a-7e4e-4c4b-baec-972608294422",
   "metadata": {},
   "outputs": [
    {
     "data": {
      "text/plain": [
       "17"
      ]
     },
     "execution_count": 63,
     "metadata": {},
     "output_type": "execute_result"
    }
   ],
   "source": [
    "#Check the len of the selected columns after each transformation\n",
    "len(column_list)"
   ]
  },
  {
   "cell_type": "code",
   "execution_count": 123,
   "id": "6c4f194e-fdc3-40e1-8556-f5418f3a94c4",
   "metadata": {},
   "outputs": [
    {
     "data": {
      "text/plain": [
       "['Tenure',\n",
       " 'CityTier',\n",
       " 'WarehouseToHome',\n",
       " 'PreferredPaymentMode',\n",
       " 'HourSpendOnApp',\n",
       " 'NumberOfDeviceRegistered',\n",
       " 'SatisfactionScore',\n",
       " 'MaritalStatus',\n",
       " 'NumberOfAddress',\n",
       " 'Complain',\n",
       " 'OrderAmountHikeFromlastYear',\n",
       " 'CouponUsed',\n",
       " 'OrderCount',\n",
       " 'DaySinceLastOrder',\n",
       " 'CashbackAmount',\n",
       " '0_PreferredLoginDevice',\n",
       " '1_PreferredLoginDevice',\n",
       " '0_Gender']"
      ]
     },
     "execution_count": 123,
     "metadata": {},
     "output_type": "execute_result"
    }
   ],
   "source": [
    "#List of finalized features \n",
    "column_list"
   ]
  },
  {
   "cell_type": "code",
   "execution_count": 124,
   "id": "378e2b97-0481-4ced-9180-d962f23d5bb0",
   "metadata": {},
   "outputs": [],
   "source": [
    "\n",
    "#This function involves tuning the hyperparameters part of the ML model-building process.\n",
    "def hyperparameter_tuning(x_train, xval, y_train, yval, model, param_grid, num_iterations, nsplit, title, version, col_list):\n",
    "    start = time.time()\n",
    "    random_cv_result = RandomizedSearchCV(estimator=model, param_distributions=param_grid, n_iter=num_iterations,\n",
    "                            scoring=make_scorer(f1_score, average='binary'), cv=nsplit, refit=True, random_state=1098, verbose=0, return_train_score=True)\n",
    "    rfc_fitted = random_cv_result.fit(x_train, y_train)\n",
    "    d = rfc_fitted.cv_results_\n",
    "    rf_best_estimator = rfc_fitted.best_estimator_\n",
    "    importances = rf_best_estimator.feature_importances_\n",
    "    featureimp_df = pd.DataFrame({'features':col_list, 'importance':importances})\n",
    "    featureimp_df[\"importance\"] = featureimp_df[\"importance\"]/100\n",
    "    featureimp_df.sort_values(by=\"importance\", ascending=False, inplace=True)\n",
    "    # Random Forest's Feature Importance\n",
    "    plt.title(\"Random Forest's Feature Importance\")\n",
    "    plt.xlabel('Feature importance in percentage')\n",
    "    plt.ylabel('Features')\n",
    "    sns.barplot(x='importance', y='features', data=featureimp_df, hue=featureimp_df['features'], legend=False, palette='viridis')\n",
    "    figuresave_name1 = 'Feature_Importance'+'_'+title+'_'+version+'.png'\n",
    "    plt.savefig(figuresave_name1, bbox_inches='tight')\n",
    "    # define Boruta feature selection method\n",
    "    feat_selector = BorutaPy(model, n_estimators='auto', verbose=0, random_state=42)\n",
    "    boruta_forest = feat_selector.fit(x_train, y_train)\n",
    "    feature_ranks = boruta_forest.ranking_\n",
    "    # Map rankings to column names\n",
    "    feature_ranking = {col_list[i]: rank for i, rank in enumerate(feature_ranks)}\n",
    "    # Convert to DataFrame\n",
    "    Boruta_ranking_df = pd.DataFrame(list(feature_ranking.items()), columns=['Feature', 'Rank'])\n",
    "    # Sort the DataFrame by rank\n",
    "    Boruta_ranking_df.sort_values(by='Rank', ascending=False, inplace=True)\n",
    "    f_open = open(f'Randomized_Search_CV_feature_importance - {title} - {version}.txt','a')\n",
    "    f_open.write('                                                  \\n')\n",
    "    f_open.write(\"Parameters tried: {}\\n\".format(param_grid))\n",
    "    f_open.write('                                                  \\n')\n",
    "    f_open.write(\"Best score reached: {}\\n\".format(round(rfc_fitted.best_score_, 2)))\n",
    "    f_open.write('                                                  \\n')\n",
    "    f_open.write(\"Best parameters: {}\\n\".format(rfc_fitted.best_params_))\n",
    "    f_open.write('                                                  \\n')\n",
    "    f_open.write(\"Average of mean validation score is {}\\n\".format(np.mean(d['mean_test_score'])))\n",
    "    f_open.write('                                                  \\n')\n",
    "    f_open.write(\"Average of mean train score is {}\\n\".format(np.mean(d['mean_train_score'])))\n",
    "    f_open.write('                                                  \\n')\n",
    "    f_open.write(\"Average standard deviation validation score is {}\\n\".format(np.mean(d['std_test_score'])))\n",
    "    f_open.write('                                                  \\n')\n",
    "    f_open.write(\"Average standard deviation train score is {}\\n\".format(np.mean(d['std_train_score'])))\n",
    "    f_open.write('                                                  \\n')\n",
    "    f_open.write('##################################################\\n')\n",
    "    f_open.write('                                                  \\n')\n",
    "    f_open.write(\"Feature importance using Random Forest's feature_importances_ {}\\n\".format(importances))\n",
    "    f_open.write('                                                  \\n')\n",
    "    f_open.write('##################################################\\n')\n",
    "    f_open.write('                                                  \\n')\n",
    "    f_open.write(\"Feature importance using Boruta {}\\n\".format(boruta_forest.n_features_))\n",
    "    f_open.write('                                                  \\n')\n",
    "    f_open.write(\"Weak features using Boruta {}\\n\".format(boruta_forest.support_weak_))\n",
    "    f_open.write('                                                  \\n')\n",
    "    f_open.write(\"Selected features using Boruta {}\\n\".format(boruta_forest.support_))\n",
    "    f_open.write('                                                  \\n')\n",
    "    f_open.write(\"Feature ranking using Boruta {}\\n\".format(boruta_forest.ranking_))\n",
    "    f_open.write('                                                  \\n')\n",
    "    f_open.write('##################################################\\n')\n",
    "    f_open.write('                                                  \\n')\n",
    "    f_open.write(\"confusion_matrix is\\n {}\".format(confusion_matrix(yval.values, rf_best_estimator.predict(xval))))\n",
    "    f_open.write('                                                  \\n')\n",
    "    f_open.write('##################################################\\n')\n",
    "    f_open.write('                                                  \\n')\n",
    "    f_open.write(\"Total time taken {}\\n\".format(str(time.time() - start)))\n",
    "    f_open.write('                                                  \\n')\n",
    "    # Feature Importance using Boruta\n",
    "    plt.title(\"Feature Importance using Boruta\")\n",
    "    plt.xlabel('Rank of the Features')\n",
    "    plt.ylabel('Feature')\n",
    "    sns.barplot(x='Rank', y='Feature', data=Boruta_ranking_df, hue=Boruta_ranking_df['Feature'], legend=False, palette='viridis')\n",
    "    figuresave_name2 = 'Feature_Importance using Boruta'+'_'+title+'_'+version+'.png'\n",
    "    plt.savefig(figuresave_name2, bbox_inches='tight')\n",
    "    f_open.close()\n",
    "    return d\n",
    "    "
   ]
  },
  {
   "cell_type": "code",
   "execution_count": 126,
   "id": "16e71a30-5d2e-45ea-aac9-bd91b33e0928",
   "metadata": {},
   "outputs": [],
   "source": [
    "\n",
    "param_grid = {'n_estimators': [13, 14, 15, 16, 17, 18, 19, 20], 'max_depth': [11, 12, 13, 14, 15, 16, 17], 'min_samples_split': [5, 6, 7, 8, 9, 10],\n",
    "             'min_samples_leaf': [3, 4, 5]\n",
    "             }\n",
    "clf_rfc = RandomForestClassifier(random_state=2098)\n",
    "num_iterations = 20\n",
    "nsplit = 5\n",
    "\n"
   ]
  },
  {
   "cell_type": "code",
   "execution_count": 127,
   "id": "5498d334-7538-4f84-8e38-db662f10f950",
   "metadata": {},
   "outputs": [
    {
     "data": {
      "image/png": "[encoded data removed]",
      "text/plain": [
       "<Figure size 640x480 with 1 Axes>"
      ]
     },
     "metadata": {},
     "output_type": "display_data"
    }
   ],
   "source": [
    "\n",
    "# The outcome of Feature Importance using Boruta is shown here - plots are saved separately, and log files are also created to record the progress\n",
    "randomizedCv_results = hyperparameter_tuning(x_train, xval, y_train, yval, clf_rfc, param_grid, num_iterations, nsplit, \"Dropping 1_Gender and PreferedOrderCat_rounding float values\", 'version17',\n",
    "                                            column_list)\n",
    "\n"
   ]
  },
  {
   "cell_type": "markdown",
   "id": "b0d2bacc-043e-4eae-9dd2-9b9ce44bff7e",
   "metadata": {},
   "source": [
    "\n",
    "# This function here cv_knn2 is the same as the function above cv_knn but without the statement:\n",
    "X.drop([\"PreferredPaymentMode\", \"PreferedOrderCat\", \"MaritalStatus\"], axis=1, inplace=True)\n",
    "\n",
    "I am re-using the function here by assigning a different variable name after removing that statement so it would not break things anywhere else.\n"
   ]
  },
  {
   "cell_type": "code",
   "execution_count": 168,
   "id": "b67567a2-6d35-4766-8645-0c816734b826",
   "metadata": {},
   "outputs": [],
   "source": [
    "\n",
    "\n",
    "def cv_knn2(df, nsplit, date, version):\n",
    "    X = df.copy()\n",
    "    # X.drop([\"PreferredPaymentMode\", \"PreferedOrderCat\", \"MaritalStatus\"], axis=1, inplace=True)\n",
    "    cv_result = defaultdict(list)\n",
    "    kf = StratifiedKFold(n_splits=nsplit, shuffle=True) \n",
    "    f_open = open(f'CV log file to find the best neighbor for KNN - {date} - {version}.txt','a')\n",
    "    start = time.time()\n",
    "    y = X[\"Churn\"]\n",
    "    X.drop(\"Churn\", axis=1, inplace=True)\n",
    "    avg_f1 = []\n",
    "    scaler = StandardScaler()\n",
    "    for n in range(3, 13):\n",
    "        element_average = []\n",
    "        for i, (train_index, val_index) in enumerate(kf.split(X, y)):\n",
    "            x_train = X.loc[train_index]\n",
    "            x_val = X.loc[val_index]\n",
    "            y_train = y[train_index]\n",
    "            y_val = y[val_index]\n",
    "            x_train = scaler.fit_transform(x_train)\n",
    "            x_val = scaler.fit_transform(x_val)\n",
    "            train_imputer = KNNImputer(n_neighbors=n, weights='uniform', metric='nan_euclidean')\n",
    "            xtrain_imputed = train_imputer.fit_transform(x_train)\n",
    "            val_imputer = KNNImputer(n_neighbors=3, weights='uniform', metric='nan_euclidean')\n",
    "            xval_imputed = val_imputer.fit_transform(x_val)\n",
    "            model = RandomForestClassifier(max_depth=12, random_state=2076)            \n",
    "            model.fit(xtrain_imputed, y_train)    \n",
    "            y_pred = model.predict(xval_imputed)            \n",
    "            f1_value = round(f1_score(y_val, y_pred), 2)\n",
    "            element_average.append(f1_value)\n",
    "            cv_result[n].append(f1_value)\n",
    "        avg_f1.append(round(sum(element_average)/len(element_average), 2))\n",
    "    max_value = max(cv_result.values())\n",
    "    max_keys = [k for k, v in cv_result.items() if v == max_value] # getting all keys containing the `maximum`\n",
    "    f_open.write('                                                  \\n')\n",
    "    f_open.write('##################################################\\n')\n",
    "    f_open.write(\"The cv_result is {}\\n\".format(cv_result))\n",
    "    f_open.write('                                                  \\n')\n",
    "    f_open.write('##################################################\\n')\n",
    "    f_open.write(\"The best neighbor is {}\\n\".format(max_keys))\n",
    "    f_open.write('                                                  \\n')\n",
    "    f_open.write('##################################################\\n')\n",
    "    f_open.write(\"The average f1_score is {}\\n\".format(round(sum(avg_f1)/len(avg_f1), 2)))\n",
    "    f_open.write('                                                  \\n')\n",
    "    f_open.write('##################################################\\n')\n",
    "    f_open.write(\"Total time taken {}\\n\".format(str(time.time() - start)))\n",
    "    f_open.close()\n",
    "    return max_keys\n"
   ]
  },
  {
   "cell_type": "markdown",
   "id": "7e2f61bf-25f0-4b01-a69d-633fd578f19e",
   "metadata": {},
   "source": [
    "\n",
    "# Goal: To create the final dataset for Grid Search process to discover the best estimator and parameters\n",
    "This function here feature_engineering_cv2 is the same as the above one feature_engineering_cv but without splitting the imputed, transformed data into train and validation sets.  \n"
   ]
  },
  {
   "cell_type": "code",
   "execution_count": 169,
   "id": "a97f0150-043e-4291-a8b9-a140670d5fa8",
   "metadata": {},
   "outputs": [],
   "source": [
    "\n",
    "\n",
    "def feature_engineering_cv2(df, date, version, model_name):\n",
    "    x = df.copy()\n",
    "    x.columns = x.columns.str.strip()\n",
    "    x.drop(\"CustomerID\", axis=1, inplace=True)\n",
    "    avg_f1_score = []\n",
    "    # Imputing only the 0s in Tenure\n",
    "    x['Tenure'] = x.apply(lambda row: 0.5 if row['Tenure']==0.0 else row['Tenure'], axis=1)\n",
    "    x[\"PreferredLoginDevice\"] = x[\"PreferredLoginDevice\"].replace(to_replace=['Mobile Phone'], value='Phone')\n",
    "    x[\"PreferredPaymentMode\"] = x[\"PreferredPaymentMode\"].map({\"Debit Card\": \"debit\", \"Credit Card\": \"credit\", \"E wallet\": \"wallet\", \"UPI\": \"upi\", \"COD\": \"cash_delivery\", \"CC\": \"credit\", \"Cash on Delivery\": \"cash_delivery\"})\n",
    "    x[\"PreferedOrderCat\"] = x[\"PreferedOrderCat\"].replace(to_replace=['Mobile Phone', \"Laptop & Accessory\"], value=['Mobile', \"Laptop_accessory\"])\n",
    "    x['WarehouseToHome'] = x.apply(lambda row: np.nan if row['WarehouseToHome']>120 else row['WarehouseToHome'], axis=1)\n",
    "    x = feature_encoding(x, \"PreferredLoginDevice\")\n",
    "    x = feature_encoding(x, \"Gender\")\n",
    "    x = frequency_encoding(x, \"PreferredPaymentMode\")\n",
    "    x = frequency_encoding(x, \"PreferedOrderCat\")\n",
    "    x = frequency_encoding(x, \"MaritalStatus\")\n",
    "    x[\"Complain\"].replace(to_replace=1, value=-1, inplace=True)\n",
    "    x[\"CityTier\"] = x[\"CityTier\"].map({1: 3, 2: 2, 3:1})   \n",
    "    x[\"CityTier\"] = x[\"CityTier\"].astype('int32')\n",
    "    x[\"Complain\"] = x[\"Complain\"].astype('int32')\n",
    "    x[\"NumberOfDeviceRegistered\"] = x[\"NumberOfDeviceRegistered\"].astype('int32')\n",
    "    x[\"SatisfactionScore\"] = x[\"SatisfactionScore\"].astype('int32')\n",
    "    x[\"NumberOfAddress\"] = x[\"NumberOfAddress\"].astype('int32')\n",
    "    x[\"OrderAmountHikeFromlastYear\"] = x[\"OrderAmountHikeFromlastYear\"].astype('float32')\n",
    "    x[\"CashbackAmount\"] = x[\"CashbackAmount\"].astype('float32')\n",
    "    x[\"PreferredPaymentMode\"] = x[\"PreferredPaymentMode\"].astype('float64')\n",
    "    x[\"PreferedOrderCat\"] = x[\"PreferedOrderCat\"].astype('float64')\n",
    "    x[\"MaritalStatus\"] = x[\"MaritalStatus\"].astype('float64')\n",
    "    x.drop(\"PreferedOrderCat\", axis=1, inplace=True)\n",
    "    x.drop(\"1_Gender\", axis=1, inplace=True)\n",
    "    # Imputing missing values in WarehouseToHome, HourSpendOnApp, OrderAmountHikeFromlastYear, CouponUsed, OrderCount, DaySinceLastOrder, \n",
    "    #Tenure\n",
    "    nneighbors = cv_knn2(x, 5, date, model_name)\n",
    "    y = x[\"Churn\"]\n",
    "    x.drop(\"Churn\", axis=1, inplace=True)\n",
    "    train_imputer = KNNImputer(n_neighbors=nneighbors[0], weights='uniform', metric='nan_euclidean')\n",
    "    xtrain_imputed = train_imputer.fit_transform(x)\n",
    "    df_xtrain_imputed = pd.DataFrame.from_records(xtrain_imputed, columns=x.columns.to_list())\n",
    "    df_xtrain_imputed['Churn'] = y\n",
    "    return df_xtrain_imputed\n",
    "    \n"
   ]
  },
  {
   "cell_type": "code",
   "execution_count": 144,
   "id": "44c64603-a76c-4b5e-8740-c92a8c950b85",
   "metadata": {},
   "outputs": [],
   "source": [
    "#Getting the final transformed data\n",
    "df_xtrain_final = feature_engineering_cv2(train_data, 'Jan_8', 'v3', \"Getting the final transformed train dataset for grid search\")\n"
   ]
  },
  {
   "cell_type": "code",
   "execution_count": 145,
   "id": "e7ec70da-da43-4a2f-982d-a373ae424691",
   "metadata": {},
   "outputs": [
    {
     "data": {
      "text/html": [
       "<div>\n",
       "<style scoped>\n",
       "    .dataframe tbody tr th:only-of-type {\n",
       "        vertical-align: middle;\n",
       "    }\n",
       "\n",
       "    .dataframe tbody tr th {\n",
       "        vertical-align: top;\n",
       "    }\n",
       "\n",
       "    .dataframe thead th {\n",
       "        text-align: right;\n",
       "    }\n",
       "</style>\n",
       "<table border=\"1\" class=\"dataframe\">\n",
       "  <thead>\n",
       "    <tr style=\"text-align: right;\">\n",
       "      <th></th>\n",
       "      <th>Tenure</th>\n",
       "      <th>CityTier</th>\n",
       "      <th>WarehouseToHome</th>\n",
       "      <th>PreferredPaymentMode</th>\n",
       "      <th>HourSpendOnApp</th>\n",
       "      <th>NumberOfDeviceRegistered</th>\n",
       "      <th>SatisfactionScore</th>\n",
       "      <th>MaritalStatus</th>\n",
       "      <th>NumberOfAddress</th>\n",
       "      <th>Complain</th>\n",
       "      <th>OrderAmountHikeFromlastYear</th>\n",
       "      <th>CouponUsed</th>\n",
       "      <th>OrderCount</th>\n",
       "      <th>DaySinceLastOrder</th>\n",
       "      <th>CashbackAmount</th>\n",
       "      <th>0_PreferredLoginDevice</th>\n",
       "      <th>1_PreferredLoginDevice</th>\n",
       "      <th>0_Gender</th>\n",
       "      <th>Churn</th>\n",
       "    </tr>\n",
       "  </thead>\n",
       "  <tbody>\n",
       "    <tr>\n",
       "      <th>0</th>\n",
       "      <td>0.5</td>\n",
       "      <td>2.0</td>\n",
       "      <td>14.0</td>\n",
       "      <td>0.072348</td>\n",
       "      <td>2.0</td>\n",
       "      <td>4.0</td>\n",
       "      <td>5.0</td>\n",
       "      <td>0.532008</td>\n",
       "      <td>5.0</td>\n",
       "      <td>-1.0</td>\n",
       "      <td>15.0</td>\n",
       "      <td>1.000000</td>\n",
       "      <td>2.0</td>\n",
       "      <td>0.0</td>\n",
       "      <td>123.0</td>\n",
       "      <td>0.0</td>\n",
       "      <td>1.0</td>\n",
       "      <td>0.0</td>\n",
       "      <td>1</td>\n",
       "    </tr>\n",
       "    <tr>\n",
       "      <th>1</th>\n",
       "      <td>25.0</td>\n",
       "      <td>1.0</td>\n",
       "      <td>33.0</td>\n",
       "      <td>0.107576</td>\n",
       "      <td>4.0</td>\n",
       "      <td>4.0</td>\n",
       "      <td>3.0</td>\n",
       "      <td>0.149053</td>\n",
       "      <td>4.0</td>\n",
       "      <td>0.0</td>\n",
       "      <td>15.0</td>\n",
       "      <td>1.333333</td>\n",
       "      <td>5.0</td>\n",
       "      <td>18.0</td>\n",
       "      <td>288.0</td>\n",
       "      <td>0.0</td>\n",
       "      <td>1.0</td>\n",
       "      <td>1.0</td>\n",
       "      <td>0</td>\n",
       "    </tr>\n",
       "    <tr>\n",
       "      <th>2</th>\n",
       "      <td>1.0</td>\n",
       "      <td>3.0</td>\n",
       "      <td>23.0</td>\n",
       "      <td>0.412500</td>\n",
       "      <td>3.0</td>\n",
       "      <td>2.0</td>\n",
       "      <td>3.0</td>\n",
       "      <td>0.532008</td>\n",
       "      <td>5.0</td>\n",
       "      <td>0.0</td>\n",
       "      <td>17.0</td>\n",
       "      <td>2.000000</td>\n",
       "      <td>2.0</td>\n",
       "      <td>8.0</td>\n",
       "      <td>178.0</td>\n",
       "      <td>0.0</td>\n",
       "      <td>1.0</td>\n",
       "      <td>0.0</td>\n",
       "      <td>0</td>\n",
       "    </tr>\n",
       "    <tr>\n",
       "      <th>3</th>\n",
       "      <td>12.0</td>\n",
       "      <td>3.0</td>\n",
       "      <td>17.0</td>\n",
       "      <td>0.315530</td>\n",
       "      <td>4.0</td>\n",
       "      <td>4.0</td>\n",
       "      <td>3.0</td>\n",
       "      <td>0.532008</td>\n",
       "      <td>2.0</td>\n",
       "      <td>0.0</td>\n",
       "      <td>18.0</td>\n",
       "      <td>1.000000</td>\n",
       "      <td>2.0</td>\n",
       "      <td>3.0</td>\n",
       "      <td>152.0</td>\n",
       "      <td>1.0</td>\n",
       "      <td>0.0</td>\n",
       "      <td>0.0</td>\n",
       "      <td>0</td>\n",
       "    </tr>\n",
       "    <tr>\n",
       "      <th>4</th>\n",
       "      <td>24.0</td>\n",
       "      <td>1.0</td>\n",
       "      <td>27.0</td>\n",
       "      <td>0.107576</td>\n",
       "      <td>3.0</td>\n",
       "      <td>3.0</td>\n",
       "      <td>1.0</td>\n",
       "      <td>0.318939</td>\n",
       "      <td>1.0</td>\n",
       "      <td>-1.0</td>\n",
       "      <td>22.0</td>\n",
       "      <td>0.000000</td>\n",
       "      <td>1.0</td>\n",
       "      <td>0.0</td>\n",
       "      <td>154.0</td>\n",
       "      <td>0.0</td>\n",
       "      <td>1.0</td>\n",
       "      <td>0.0</td>\n",
       "      <td>0</td>\n",
       "    </tr>\n",
       "  </tbody>\n",
       "</table>\n",
       "</div>"
      ],
      "text/plain": [
       "   Tenure  CityTier  WarehouseToHome  PreferredPaymentMode  HourSpendOnApp  \\\n",
       "0     0.5       2.0             14.0              0.072348             2.0   \n",
       "1    25.0       1.0             33.0              0.107576             4.0   \n",
       "2     1.0       3.0             23.0              0.412500             3.0   \n",
       "3    12.0       3.0             17.0              0.315530             4.0   \n",
       "4    24.0       1.0             27.0              0.107576             3.0   \n",
       "\n",
       "   NumberOfDeviceRegistered  SatisfactionScore  MaritalStatus  \\\n",
       "0                       4.0                5.0       0.532008   \n",
       "1                       4.0                3.0       0.149053   \n",
       "2                       2.0                3.0       0.532008   \n",
       "3                       4.0                3.0       0.532008   \n",
       "4                       3.0                1.0       0.318939   \n",
       "\n",
       "   NumberOfAddress  Complain  OrderAmountHikeFromlastYear  CouponUsed  \\\n",
       "0              5.0      -1.0                         15.0    1.000000   \n",
       "1              4.0       0.0                         15.0    1.333333   \n",
       "2              5.0       0.0                         17.0    2.000000   \n",
       "3              2.0       0.0                         18.0    1.000000   \n",
       "4              1.0      -1.0                         22.0    0.000000   \n",
       "\n",
       "   OrderCount  DaySinceLastOrder  CashbackAmount  0_PreferredLoginDevice  \\\n",
       "0         2.0                0.0           123.0                     0.0   \n",
       "1         5.0               18.0           288.0                     0.0   \n",
       "2         2.0                8.0           178.0                     0.0   \n",
       "3         2.0                3.0           152.0                     1.0   \n",
       "4         1.0                0.0           154.0                     0.0   \n",
       "\n",
       "   1_PreferredLoginDevice  0_Gender  Churn  \n",
       "0                     1.0       0.0      1  \n",
       "1                     1.0       1.0      0  \n",
       "2                     1.0       0.0      0  \n",
       "3                     0.0       0.0      0  \n",
       "4                     1.0       0.0      0  "
      ]
     },
     "execution_count": 145,
     "metadata": {},
     "output_type": "execute_result"
    }
   ],
   "source": [
    "#Few records to review\n",
    "df_xtrain_final.head()\n"
   ]
  },
  {
   "cell_type": "code",
   "execution_count": 147,
   "id": "fcfed786-6eb4-49ba-bd5c-a0da80f25e4e",
   "metadata": {},
   "outputs": [
    {
     "data": {
      "text/plain": [
       "Index(['Tenure', 'CityTier', 'WarehouseToHome', 'PreferredPaymentMode',\n",
       "       'HourSpendOnApp', 'NumberOfDeviceRegistered', 'SatisfactionScore',\n",
       "       'MaritalStatus', 'NumberOfAddress', 'Complain',\n",
       "       'OrderAmountHikeFromlastYear', 'CouponUsed', 'OrderCount',\n",
       "       'DaySinceLastOrder', 'CashbackAmount', '0_PreferredLoginDevice',\n",
       "       '1_PreferredLoginDevice', '0_Gender', 'Churn'],\n",
       "      dtype='object')"
      ]
     },
     "execution_count": 147,
     "metadata": {},
     "output_type": "execute_result"
    }
   ],
   "source": [
    "\n",
    "df_xtrain_final.columns\n"
   ]
  },
  {
   "cell_type": "markdown",
   "id": "0b5156d7-a4f6-4525-9cb0-032a5993373f",
   "metadata": {},
   "source": [
    "\n",
    "# From EDA, we have gathered that correlation is an issue to watch out for.\n",
    "Here, the function find_95_correlated identifies the features that are more than 95% correlated in the dataset.\n"
   ]
  },
  {
   "cell_type": "code",
   "execution_count": 242,
   "id": "22586047-5cfc-4fc6-996d-f05785d8e512",
   "metadata": {},
   "outputs": [],
   "source": [
    "\n",
    "#Let's see which features are more than 95% correlated\n",
    "\n",
    "def find_95_correlated(df):\n",
    "    # Create correlation matrix\n",
    "    corr_matrix = df.corr()\n",
    "    # Select upper triangle of correlation matrix\n",
    "    upper = corr_matrix.where(np.triu(np.ones(corr_matrix.shape), k=1).astype(np.bool_))\n",
    "    # Find index of feature columns with correlation greater than 0.95\n",
    "    col_95_correlation = [column for column in upper.columns if any(abs(upper[column]) > 0.95)]\n",
    "    return col_95_correlation\n",
    "\n",
    "\n"
   ]
  },
  {
   "cell_type": "code",
   "execution_count": 243,
   "id": "3086c302-96fb-4a2e-a3ba-bb8bd8980b2f",
   "metadata": {},
   "outputs": [
    {
     "data": {
      "text/plain": [
       "['1_PreferredLoginDevice', '1_Gender']"
      ]
     },
     "execution_count": 243,
     "metadata": {},
     "output_type": "execute_result"
    }
   ],
   "source": [
    "#features are more than 95% correlated\n",
    "find_95_correlated(df_xtrain_imputed)\n"
   ]
  },
  {
   "cell_type": "markdown",
   "id": "19c6d4a9-cee7-45c6-9b96-0d4ac05bb861",
   "metadata": {},
   "source": [
    "\n",
    "## Deal with Multicollinearity using the Variance Inflation Factor concept from statsmodels\n"
   ]
  },
  {
   "cell_type": "code",
   "execution_count": 100,
   "id": "3546af74-38e6-4d0a-93ea-bbd2bf793673",
   "metadata": {},
   "outputs": [],
   "source": [
    "\n",
    "#Copy the data to not break things around\n",
    "df_vif = df_xtrain_imputed.copy()\n"
   ]
  },
  {
   "cell_type": "code",
   "execution_count": 101,
   "id": "c9afd9e3-7490-4289-a37d-cd72391268fb",
   "metadata": {},
   "outputs": [],
   "source": [
    "\n",
    "#Drop the target variable before using Variance Inflation Factor\n",
    "df_vif.drop(\"Churn\", axis=1, inplace=True)\n"
   ]
  },
  {
   "cell_type": "code",
   "execution_count": 102,
   "id": "1ebc0ec9-d299-46bd-9203-8cd953789efb",
   "metadata": {},
   "outputs": [],
   "source": [
    "\n",
    "def VIF(df):\n",
    "    df_const = sm.add_constant(df, prepend = False)\n",
    "    vif = pd.DataFrame()\n",
    "    vif[\"VIF Factor\"] = [variance_inflation_factor(df_const.values, i) for i in range(df_const.shape[1])]\n",
    "    vif[\"features\"] = df_const.columns\n",
    "    return vif\n"
   ]
  },
  {
   "cell_type": "code",
   "execution_count": 103,
   "id": "8ee95fa4-b8fd-4ac0-bd26-214675295846",
   "metadata": {},
   "outputs": [
    {
     "name": "stderr",
     "output_type": "stream",
     "text": [
      "/Users/chidam_sp/Library/Python/3.9/lib/python/site-packages/statsmodels/stats/outliers_influence.py:198: RuntimeWarning: divide by zero encountered in double_scalars\n",
      "  vif = 1. / (1. - r_squared_i)\n",
      "/Users/chidam_sp/Library/Python/3.9/lib/python/site-packages/statsmodels/regression/linear_model.py:1781: RuntimeWarning: divide by zero encountered in double_scalars\n",
      "  return 1 - self.ssr/self.centered_tss\n"
     ]
    },
    {
     "data": {
      "text/html": [
       "<div>\n",
       "<style scoped>\n",
       "    .dataframe tbody tr th:only-of-type {\n",
       "        vertical-align: middle;\n",
       "    }\n",
       "\n",
       "    .dataframe tbody tr th {\n",
       "        vertical-align: top;\n",
       "    }\n",
       "\n",
       "    .dataframe thead th {\n",
       "        text-align: right;\n",
       "    }\n",
       "</style>\n",
       "<table border=\"1\" class=\"dataframe\">\n",
       "  <thead>\n",
       "    <tr style=\"text-align: right;\">\n",
       "      <th></th>\n",
       "      <th>VIF Factor</th>\n",
       "      <th>features</th>\n",
       "    </tr>\n",
       "  </thead>\n",
       "  <tbody>\n",
       "    <tr>\n",
       "      <th>0</th>\n",
       "      <td>1.411176</td>\n",
       "      <td>Tenure</td>\n",
       "    </tr>\n",
       "    <tr>\n",
       "      <th>1</th>\n",
       "      <td>1.091138</td>\n",
       "      <td>CityTier</td>\n",
       "    </tr>\n",
       "    <tr>\n",
       "      <th>2</th>\n",
       "      <td>1.011906</td>\n",
       "      <td>WarehouseToHome</td>\n",
       "    </tr>\n",
       "    <tr>\n",
       "      <th>3</th>\n",
       "      <td>1.082073</td>\n",
       "      <td>PreferredPaymentMode</td>\n",
       "    </tr>\n",
       "    <tr>\n",
       "      <th>4</th>\n",
       "      <td>1.269646</td>\n",
       "      <td>HourSpendOnApp</td>\n",
       "    </tr>\n",
       "    <tr>\n",
       "      <th>5</th>\n",
       "      <td>1.169657</td>\n",
       "      <td>NumberOfDeviceRegistered</td>\n",
       "    </tr>\n",
       "    <tr>\n",
       "      <th>6</th>\n",
       "      <td>4.297530</td>\n",
       "      <td>PreferedOrderCat</td>\n",
       "    </tr>\n",
       "    <tr>\n",
       "      <th>7</th>\n",
       "      <td>1.016924</td>\n",
       "      <td>SatisfactionScore</td>\n",
       "    </tr>\n",
       "    <tr>\n",
       "      <th>8</th>\n",
       "      <td>1.010235</td>\n",
       "      <td>MaritalStatus</td>\n",
       "    </tr>\n",
       "    <tr>\n",
       "      <th>9</th>\n",
       "      <td>1.141521</td>\n",
       "      <td>NumberOfAddress</td>\n",
       "    </tr>\n",
       "    <tr>\n",
       "      <th>10</th>\n",
       "      <td>1.009452</td>\n",
       "      <td>Complain</td>\n",
       "    </tr>\n",
       "    <tr>\n",
       "      <th>11</th>\n",
       "      <td>1.019298</td>\n",
       "      <td>OrderAmountHikeFromlastYear</td>\n",
       "    </tr>\n",
       "    <tr>\n",
       "      <th>12</th>\n",
       "      <td>2.032752</td>\n",
       "      <td>CouponUsed</td>\n",
       "    </tr>\n",
       "    <tr>\n",
       "      <th>13</th>\n",
       "      <td>2.356939</td>\n",
       "      <td>OrderCount</td>\n",
       "    </tr>\n",
       "    <tr>\n",
       "      <th>14</th>\n",
       "      <td>1.398922</td>\n",
       "      <td>DaySinceLastOrder</td>\n",
       "    </tr>\n",
       "    <tr>\n",
       "      <th>15</th>\n",
       "      <td>4.729683</td>\n",
       "      <td>CashbackAmount</td>\n",
       "    </tr>\n",
       "    <tr>\n",
       "      <th>16</th>\n",
       "      <td>inf</td>\n",
       "      <td>0_PreferredLoginDevice</td>\n",
       "    </tr>\n",
       "    <tr>\n",
       "      <th>17</th>\n",
       "      <td>inf</td>\n",
       "      <td>1_PreferredLoginDevice</td>\n",
       "    </tr>\n",
       "    <tr>\n",
       "      <th>18</th>\n",
       "      <td>inf</td>\n",
       "      <td>0_Gender</td>\n",
       "    </tr>\n",
       "    <tr>\n",
       "      <th>19</th>\n",
       "      <td>inf</td>\n",
       "      <td>1_Gender</td>\n",
       "    </tr>\n",
       "    <tr>\n",
       "      <th>20</th>\n",
       "      <td>0.000000</td>\n",
       "      <td>const</td>\n",
       "    </tr>\n",
       "  </tbody>\n",
       "</table>\n",
       "</div>"
      ],
      "text/plain": [
       "    VIF Factor                     features\n",
       "0     1.411176                       Tenure\n",
       "1     1.091138                     CityTier\n",
       "2     1.011906              WarehouseToHome\n",
       "3     1.082073         PreferredPaymentMode\n",
       "4     1.269646               HourSpendOnApp\n",
       "5     1.169657     NumberOfDeviceRegistered\n",
       "6     4.297530             PreferedOrderCat\n",
       "7     1.016924            SatisfactionScore\n",
       "8     1.010235                MaritalStatus\n",
       "9     1.141521              NumberOfAddress\n",
       "10    1.009452                     Complain\n",
       "11    1.019298  OrderAmountHikeFromlastYear\n",
       "12    2.032752                   CouponUsed\n",
       "13    2.356939                   OrderCount\n",
       "14    1.398922            DaySinceLastOrder\n",
       "15    4.729683               CashbackAmount\n",
       "16         inf       0_PreferredLoginDevice\n",
       "17         inf       1_PreferredLoginDevice\n",
       "18         inf                     0_Gender\n",
       "19         inf                     1_Gender\n",
       "20    0.000000                        const"
      ]
     },
     "execution_count": 103,
     "metadata": {},
     "output_type": "execute_result"
    }
   ],
   "source": [
    "\n",
    "VIF(df_vif)\n"
   ]
  },
  {
   "cell_type": "markdown",
   "id": "3a0c0731-e200-48c4-ac6e-3c58856d552a",
   "metadata": {},
   "source": [
    "\n",
    "# Observation\n",
    "Features such as CashbackAmount and PreferedOrderCat showcase a VIF factor above value 4. We could drop one of these and repeat the tuning process in the function hyperparameter_tuning to check for any improvement in the model's performance.\n",
    "\n"
   ]
  },
  {
   "cell_type": "markdown",
   "id": "b8b993f4-ec6d-44fb-a79b-1c41ab793f7c",
   "metadata": {},
   "source": [
    "\n",
    "# GridSearchCV to select the best model with the best set of hyperparameters\n",
    "This is the final phase of tuning. After this the final model is ready to predict on the unseen data, i.e., test data.\n"
   ]
  },
  {
   "cell_type": "code",
   "execution_count": 157,
   "id": "f312bec7-8118-413d-aa5a-0f65ab1cde08",
   "metadata": {},
   "outputs": [],
   "source": [
    "\n",
    "\n",
    "def grid_search(x, column, model, param_grid, n_split):\n",
    "    x_grid = x.copy()\n",
    "    y_grid = x_grid[column]\n",
    "    x_grid.drop(column, axis=1, inplace=True)\n",
    "    start = time.time()\n",
    "    f_open = open(f'Log file for grid search.txt','a')\n",
    "    grid_search_result = GridSearchCV(estimator=model, param_grid=param_grid, cv=n_split, scoring=make_scorer(f1_score, average='binary'))\n",
    "    grid_search_result.fit(x_grid, y_grid)\n",
    "    joblib.dump(grid_search_result.best_estimator_, 'churn_model_for_zooominfo_project.pkl')\n",
    "    print(\"Final Churn Model is successfully saved!\")\n",
    "    f_open.write('                                                  \\n')\n",
    "    f_open.write('##################################################\\n')\n",
    "    f_open.write(\"The best parameters are {}\\n\".format(grid_search_result.best_params_))\n",
    "    f_open.write('                                                  \\n')\n",
    "    f_open.write('##################################################\\n')\n",
    "    f_open.write(\"Mean cross-validated score of the best_estimator is {}\\n\".format(grid_search_result.best_score_))\n",
    "    f_open.write('                                                  \\n')\n",
    "    f_open.write('##################################################\\n')\n",
    "    f_open.write(\"Names of features seen during fit are {}\\n\".format(grid_search_result.feature_names_in_))\n",
    "    f_open.write('                                                  \\n')\n",
    "    f_open.write('##################################################\\n')\n",
    "    f_open.write(\"Total time taken {}\\n\".format(str(time.time() - start)))\n",
    "    f_open.close()\n",
    "    return grid_search_result\n",
    "    "
   ]
  },
  {
   "cell_type": "code",
   "execution_count": 158,
   "id": "7b7d6000-6d47-40d9-bbce-2a7659026d92",
   "metadata": {},
   "outputs": [
    {
     "name": "stdout",
     "output_type": "stream",
     "text": [
      "Final Churn Model is successfully saved!\n"
     ]
    }
   ],
   "source": [
    "\n",
    "gridsearch_param_grid = {\n",
    "    'max_depth': [12, 13, 14, 15],\n",
    "    'min_samples_split': [8, 9, 10, 11, 12],\n",
    "    'n_estimators': [12, 13, 14, 15, 16, 17],\n",
    "    'min_samples_leaf': [3, 4, 5],\n",
    "    'max_features': [9, 10, 11, 12]\n",
    "}\n",
    "clf_rfc_grid = RandomForestClassifier(random_state=2098)\n",
    "n_split_grid = 5\n",
    "grid_search_result = grid_search(df2, \"Churn\", clf_rfc_grid, gridsearch_param_grid, n_split_grid)\n"
   ]
  },
  {
   "cell_type": "markdown",
   "id": "8c19a4af-6e88-46c1-98a6-97442197172a",
   "metadata": {},
   "source": [
    "\n",
    "# Best parameetrs selected through the function: grid_search\n"
   ]
  },
  {
   "cell_type": "code",
   "execution_count": 159,
   "id": "ffe2fd61-fac0-4d73-97cf-b525b014a0ed",
   "metadata": {},
   "outputs": [
    {
     "data": {
      "text/plain": [
       "{'max_depth': 13,\n",
       " 'max_features': 9,\n",
       " 'min_samples_leaf': 3,\n",
       " 'min_samples_split': 8,\n",
       " 'n_estimators': 17}"
      ]
     },
     "execution_count": 159,
     "metadata": {},
     "output_type": "execute_result"
    }
   ],
   "source": [
    "\n",
    "\n",
    "grid_search_result.best_params_\n"
   ]
  },
  {
   "cell_type": "markdown",
   "id": "9c445342-e17d-49ac-b7a5-68da3fd90925",
   "metadata": {},
   "source": [
    "\n",
    "# The best estimator selected through grid search\n"
   ]
  },
  {
   "cell_type": "code",
   "execution_count": 162,
   "id": "d86cfdf1-e8e1-4e21-8906-fb5e990ac2c1",
   "metadata": {},
   "outputs": [
    {
     "data": {
      "text/html": [
       "<style>#sk-container-id-1 {color: black;}#sk-container-id-1 pre{padding: 0;}#sk-container-id-1 div.sk-toggleable {background-color: white;}#sk-container-id-1 label.sk-toggleable__label {cursor: pointer;display: block;width: 100%;margin-bottom: 0;padding: 0.3em;box-sizing: border-box;text-align: center;}#sk-container-id-1 label.sk-toggleable__label-arrow:before {content: \"▸\";float: left;margin-right: 0.25em;color: #696969;}#sk-container-id-1 label.sk-toggleable__label-arrow:hover:before {color: black;}#sk-container-id-1 div.sk-estimator:hover label.sk-toggleable__label-arrow:before {color: black;}#sk-container-id-1 div.sk-toggleable__content {max-height: 0;max-width: 0;overflow: hidden;text-align: left;background-color: #f0f8ff;}#sk-container-id-1 div.sk-toggleable__content pre {margin: 0.2em;color: black;border-radius: 0.25em;background-color: #f0f8ff;}#sk-container-id-1 input.sk-toggleable__control:checked~div.sk-toggleable__content {max-height: 200px;max-width: 100%;overflow: auto;}#sk-container-id-1 input.sk-toggleable__control:checked~label.sk-toggleable__label-arrow:before {content: \"▾\";}#sk-container-id-1 div.sk-estimator input.sk-toggleable__control:checked~label.sk-toggleable__label {background-color: #d4ebff;}#sk-container-id-1 div.sk-label input.sk-toggleable__control:checked~label.sk-toggleable__label {background-color: #d4ebff;}#sk-container-id-1 input.sk-hidden--visually {border: 0;clip: rect(1px 1px 1px 1px);clip: rect(1px, 1px, 1px, 1px);height: 1px;margin: -1px;overflow: hidden;padding: 0;position: absolute;width: 1px;}#sk-container-id-1 div.sk-estimator {font-family: monospace;background-color: #f0f8ff;border: 1px dotted black;border-radius: 0.25em;box-sizing: border-box;margin-bottom: 0.5em;}#sk-container-id-1 div.sk-estimator:hover {background-color: #d4ebff;}#sk-container-id-1 div.sk-parallel-item::after {content: \"\";width: 100%;border-bottom: 1px solid gray;flex-grow: 1;}#sk-container-id-1 div.sk-label:hover label.sk-toggleable__label {background-color: #d4ebff;}#sk-container-id-1 div.sk-serial::before {content: \"\";position: absolute;border-left: 1px solid gray;box-sizing: border-box;top: 0;bottom: 0;left: 50%;z-index: 0;}#sk-container-id-1 div.sk-serial {display: flex;flex-direction: column;align-items: center;background-color: white;padding-right: 0.2em;padding-left: 0.2em;position: relative;}#sk-container-id-1 div.sk-item {position: relative;z-index: 1;}#sk-container-id-1 div.sk-parallel {display: flex;align-items: stretch;justify-content: center;background-color: white;position: relative;}#sk-container-id-1 div.sk-item::before, #sk-container-id-1 div.sk-parallel-item::before {content: \"\";position: absolute;border-left: 1px solid gray;box-sizing: border-box;top: 0;bottom: 0;left: 50%;z-index: -1;}#sk-container-id-1 div.sk-parallel-item {display: flex;flex-direction: column;z-index: 1;position: relative;background-color: white;}#sk-container-id-1 div.sk-parallel-item:first-child::after {align-self: flex-end;width: 50%;}#sk-container-id-1 div.sk-parallel-item:last-child::after {align-self: flex-start;width: 50%;}#sk-container-id-1 div.sk-parallel-item:only-child::after {width: 0;}#sk-container-id-1 div.sk-dashed-wrapped {border: 1px dashed gray;margin: 0 0.4em 0.5em 0.4em;box-sizing: border-box;padding-bottom: 0.4em;background-color: white;}#sk-container-id-1 div.sk-label label {font-family: monospace;font-weight: bold;display: inline-block;line-height: 1.2em;}#sk-container-id-1 div.sk-label-container {text-align: center;}#sk-container-id-1 div.sk-container {/* jupyter's `normalize.less` sets `[hidden] { display: none; }` but bootstrap.min.css set `[hidden] { display: none !important; }` so we also need the `!important` here to be able to override the default hidden behavior on the sphinx rendered scikit-learn.org. See: https://github.com/scikit-learn/scikit-learn/issues/21755 */display: inline-block !important;position: relative;}#sk-container-id-1 div.sk-text-repr-fallback {display: none;}</style><div id=\"sk-container-id-1\" class=\"sk-top-container\"><div class=\"sk-text-repr-fallback\"><pre>RandomForestClassifier(max_depth=13, max_features=9, min_samples_leaf=3,\n",
       "                       min_samples_split=8, n_estimators=17, random_state=2098)</pre><b>In a Jupyter environment, please rerun this cell to show the HTML representation or trust the notebook. <br />On GitHub, the HTML representation is unable to render, please try loading this page with nbviewer.org.</b></div><div class=\"sk-container\" hidden><div class=\"sk-item\"><div class=\"sk-estimator sk-toggleable\"><input class=\"sk-toggleable__control sk-hidden--visually\" id=\"sk-estimator-id-1\" type=\"checkbox\" checked><label for=\"sk-estimator-id-1\" class=\"sk-toggleable__label sk-toggleable__label-arrow\">RandomForestClassifier</label><div class=\"sk-toggleable__content\"><pre>RandomForestClassifier(max_depth=13, max_features=9, min_samples_leaf=3,\n",
       "                       min_samples_split=8, n_estimators=17, random_state=2098)</pre></div></div></div></div></div>"
      ],
      "text/plain": [
       "RandomForestClassifier(max_depth=13, max_features=9, min_samples_leaf=3,\n",
       "                       min_samples_split=8, n_estimators=17, random_state=2098)"
      ]
     },
     "execution_count": 162,
     "metadata": {},
     "output_type": "execute_result"
    }
   ],
   "source": [
    "\n",
    "grid_search_result.best_estimator_\n"
   ]
  },
  {
   "cell_type": "markdown",
   "id": "03e743af-6360-41fc-b533-696381ffde17",
   "metadata": {},
   "source": [
    "\n",
    "# Mean cross-validated score of the best_estimator\n"
   ]
  },
  {
   "cell_type": "code",
   "execution_count": 165,
   "id": "e12c0187-f6ed-4615-b633-a8dcb6db9d11",
   "metadata": {},
   "outputs": [
    {
     "data": {
      "text/plain": [
       "0.7776813234474537"
      ]
     },
     "execution_count": 165,
     "metadata": {},
     "output_type": "execute_result"
    }
   ],
   "source": [
    "\n",
    "grid_search_result.best_score_\n"
   ]
  },
  {
   "cell_type": "markdown",
   "id": "6079eae5-57de-40ed-a9d8-168462f88071",
   "metadata": {},
   "source": [
    "\n",
    "## Transform the test data before finding the predictions\n"
   ]
  },
  {
   "cell_type": "code",
   "execution_count": 161,
   "id": "c58f2b4e-4ea3-4130-a6ef-dfc2113accf6",
   "metadata": {},
   "outputs": [],
   "source": [
    "#Read in the test data\n",
    "\n",
    "test_data = pd.read_csv('/Users/chidam_sp/Desktop/churn_testdata.csv')\n"
   ]
  },
  {
   "cell_type": "code",
   "execution_count": 176,
   "id": "aa78b91d-2668-4d39-8471-fe7c2ae06c80",
   "metadata": {},
   "outputs": [],
   "source": [
    "\n",
    "df_test1 = test_data.copy()\n",
    "\n"
   ]
  },
  {
   "cell_type": "code",
   "execution_count": 178,
   "id": "18ce1b0b-fcd4-4d52-9c75-bfed3b7fb880",
   "metadata": {},
   "outputs": [],
   "source": [
    "\n",
    "test_df = feature_engineering_cv2(df_test1, 'Jan 8', 'v1', 'Final RFC_Churn')\n",
    "\n"
   ]
  },
  {
   "cell_type": "code",
   "execution_count": 179,
   "id": "b7c84384-0cc8-422c-9721-e5a394248a7f",
   "metadata": {},
   "outputs": [
    {
     "data": {
      "text/html": [
       "<div>\n",
       "<style scoped>\n",
       "    .dataframe tbody tr th:only-of-type {\n",
       "        vertical-align: middle;\n",
       "    }\n",
       "\n",
       "    .dataframe tbody tr th {\n",
       "        vertical-align: top;\n",
       "    }\n",
       "\n",
       "    .dataframe thead th {\n",
       "        text-align: right;\n",
       "    }\n",
       "</style>\n",
       "<table border=\"1\" class=\"dataframe\">\n",
       "  <thead>\n",
       "    <tr style=\"text-align: right;\">\n",
       "      <th></th>\n",
       "      <th>Tenure</th>\n",
       "      <th>CityTier</th>\n",
       "      <th>WarehouseToHome</th>\n",
       "      <th>PreferredPaymentMode</th>\n",
       "      <th>HourSpendOnApp</th>\n",
       "      <th>NumberOfDeviceRegistered</th>\n",
       "      <th>SatisfactionScore</th>\n",
       "      <th>MaritalStatus</th>\n",
       "      <th>NumberOfAddress</th>\n",
       "      <th>Complain</th>\n",
       "      <th>OrderAmountHikeFromlastYear</th>\n",
       "      <th>CouponUsed</th>\n",
       "      <th>OrderCount</th>\n",
       "      <th>DaySinceLastOrder</th>\n",
       "      <th>CashbackAmount</th>\n",
       "      <th>0_PreferredLoginDevice</th>\n",
       "      <th>1_PreferredLoginDevice</th>\n",
       "      <th>0_Gender</th>\n",
       "      <th>Churn</th>\n",
       "    </tr>\n",
       "  </thead>\n",
       "  <tbody>\n",
       "    <tr>\n",
       "      <th>0</th>\n",
       "      <td>1.0</td>\n",
       "      <td>1.0</td>\n",
       "      <td>7.0</td>\n",
       "      <td>0.080000</td>\n",
       "      <td>4.0</td>\n",
       "      <td>6.0</td>\n",
       "      <td>5.0</td>\n",
       "      <td>0.320000</td>\n",
       "      <td>2.0</td>\n",
       "      <td>0.0</td>\n",
       "      <td>22.0</td>\n",
       "      <td>2.0</td>\n",
       "      <td>2.00</td>\n",
       "      <td>1.0</td>\n",
       "      <td>148.0</td>\n",
       "      <td>1.0</td>\n",
       "      <td>0.0</td>\n",
       "      <td>1.0</td>\n",
       "      <td>1</td>\n",
       "    </tr>\n",
       "    <tr>\n",
       "      <th>1</th>\n",
       "      <td>15.0</td>\n",
       "      <td>3.0</td>\n",
       "      <td>9.0</td>\n",
       "      <td>0.388571</td>\n",
       "      <td>3.0</td>\n",
       "      <td>1.0</td>\n",
       "      <td>1.0</td>\n",
       "      <td>0.505714</td>\n",
       "      <td>3.0</td>\n",
       "      <td>-1.0</td>\n",
       "      <td>13.0</td>\n",
       "      <td>1.0</td>\n",
       "      <td>1.00</td>\n",
       "      <td>3.0</td>\n",
       "      <td>152.0</td>\n",
       "      <td>0.0</td>\n",
       "      <td>1.0</td>\n",
       "      <td>1.0</td>\n",
       "      <td>0</td>\n",
       "    </tr>\n",
       "    <tr>\n",
       "      <th>2</th>\n",
       "      <td>13.0</td>\n",
       "      <td>3.0</td>\n",
       "      <td>29.0</td>\n",
       "      <td>0.308571</td>\n",
       "      <td>3.0</td>\n",
       "      <td>4.0</td>\n",
       "      <td>5.0</td>\n",
       "      <td>0.320000</td>\n",
       "      <td>3.0</td>\n",
       "      <td>-1.0</td>\n",
       "      <td>14.0</td>\n",
       "      <td>2.0</td>\n",
       "      <td>4.50</td>\n",
       "      <td>9.0</td>\n",
       "      <td>234.0</td>\n",
       "      <td>1.0</td>\n",
       "      <td>0.0</td>\n",
       "      <td>1.0</td>\n",
       "      <td>0</td>\n",
       "    </tr>\n",
       "    <tr>\n",
       "      <th>3</th>\n",
       "      <td>5.0</td>\n",
       "      <td>3.0</td>\n",
       "      <td>7.0</td>\n",
       "      <td>0.388571</td>\n",
       "      <td>4.0</td>\n",
       "      <td>5.0</td>\n",
       "      <td>5.0</td>\n",
       "      <td>0.505714</td>\n",
       "      <td>3.0</td>\n",
       "      <td>0.0</td>\n",
       "      <td>13.0</td>\n",
       "      <td>4.0</td>\n",
       "      <td>4.00</td>\n",
       "      <td>3.0</td>\n",
       "      <td>147.0</td>\n",
       "      <td>0.0</td>\n",
       "      <td>1.0</td>\n",
       "      <td>0.0</td>\n",
       "      <td>0</td>\n",
       "    </tr>\n",
       "    <tr>\n",
       "      <th>4</th>\n",
       "      <td>13.0</td>\n",
       "      <td>3.0</td>\n",
       "      <td>7.0</td>\n",
       "      <td>0.388571</td>\n",
       "      <td>4.0</td>\n",
       "      <td>5.0</td>\n",
       "      <td>1.0</td>\n",
       "      <td>0.505714</td>\n",
       "      <td>3.0</td>\n",
       "      <td>0.0</td>\n",
       "      <td>17.0</td>\n",
       "      <td>10.0</td>\n",
       "      <td>7.25</td>\n",
       "      <td>9.0</td>\n",
       "      <td>252.0</td>\n",
       "      <td>0.0</td>\n",
       "      <td>1.0</td>\n",
       "      <td>1.0</td>\n",
       "      <td>0</td>\n",
       "    </tr>\n",
       "    <tr>\n",
       "      <th>...</th>\n",
       "      <td>...</td>\n",
       "      <td>...</td>\n",
       "      <td>...</td>\n",
       "      <td>...</td>\n",
       "      <td>...</td>\n",
       "      <td>...</td>\n",
       "      <td>...</td>\n",
       "      <td>...</td>\n",
       "      <td>...</td>\n",
       "      <td>...</td>\n",
       "      <td>...</td>\n",
       "      <td>...</td>\n",
       "      <td>...</td>\n",
       "      <td>...</td>\n",
       "      <td>...</td>\n",
       "      <td>...</td>\n",
       "      <td>...</td>\n",
       "      <td>...</td>\n",
       "      <td>...</td>\n",
       "    </tr>\n",
       "    <tr>\n",
       "      <th>345</th>\n",
       "      <td>3.0</td>\n",
       "      <td>3.0</td>\n",
       "      <td>34.0</td>\n",
       "      <td>0.308571</td>\n",
       "      <td>4.0</td>\n",
       "      <td>4.0</td>\n",
       "      <td>3.0</td>\n",
       "      <td>0.174286</td>\n",
       "      <td>6.0</td>\n",
       "      <td>0.0</td>\n",
       "      <td>13.0</td>\n",
       "      <td>2.0</td>\n",
       "      <td>2.00</td>\n",
       "      <td>2.0</td>\n",
       "      <td>168.0</td>\n",
       "      <td>0.0</td>\n",
       "      <td>1.0</td>\n",
       "      <td>1.0</td>\n",
       "      <td>0</td>\n",
       "    </tr>\n",
       "    <tr>\n",
       "      <th>346</th>\n",
       "      <td>15.0</td>\n",
       "      <td>3.0</td>\n",
       "      <td>14.0</td>\n",
       "      <td>0.388571</td>\n",
       "      <td>2.0</td>\n",
       "      <td>3.0</td>\n",
       "      <td>3.0</td>\n",
       "      <td>0.320000</td>\n",
       "      <td>5.0</td>\n",
       "      <td>0.0</td>\n",
       "      <td>13.0</td>\n",
       "      <td>1.0</td>\n",
       "      <td>1.00</td>\n",
       "      <td>0.0</td>\n",
       "      <td>140.0</td>\n",
       "      <td>0.0</td>\n",
       "      <td>1.0</td>\n",
       "      <td>0.0</td>\n",
       "      <td>0</td>\n",
       "    </tr>\n",
       "    <tr>\n",
       "      <th>347</th>\n",
       "      <td>4.0</td>\n",
       "      <td>1.0</td>\n",
       "      <td>12.0</td>\n",
       "      <td>0.388571</td>\n",
       "      <td>3.0</td>\n",
       "      <td>4.0</td>\n",
       "      <td>2.0</td>\n",
       "      <td>0.174286</td>\n",
       "      <td>4.0</td>\n",
       "      <td>0.0</td>\n",
       "      <td>13.0</td>\n",
       "      <td>3.0</td>\n",
       "      <td>8.00</td>\n",
       "      <td>7.5</td>\n",
       "      <td>219.0</td>\n",
       "      <td>0.0</td>\n",
       "      <td>1.0</td>\n",
       "      <td>1.0</td>\n",
       "      <td>0</td>\n",
       "    </tr>\n",
       "    <tr>\n",
       "      <th>348</th>\n",
       "      <td>17.0</td>\n",
       "      <td>1.0</td>\n",
       "      <td>6.0</td>\n",
       "      <td>0.131429</td>\n",
       "      <td>3.0</td>\n",
       "      <td>3.0</td>\n",
       "      <td>3.0</td>\n",
       "      <td>0.174286</td>\n",
       "      <td>8.0</td>\n",
       "      <td>0.0</td>\n",
       "      <td>12.0</td>\n",
       "      <td>1.0</td>\n",
       "      <td>1.00</td>\n",
       "      <td>0.0</td>\n",
       "      <td>148.0</td>\n",
       "      <td>1.0</td>\n",
       "      <td>0.0</td>\n",
       "      <td>1.0</td>\n",
       "      <td>0</td>\n",
       "    </tr>\n",
       "    <tr>\n",
       "      <th>349</th>\n",
       "      <td>3.0</td>\n",
       "      <td>1.0</td>\n",
       "      <td>27.0</td>\n",
       "      <td>0.131429</td>\n",
       "      <td>3.0</td>\n",
       "      <td>4.0</td>\n",
       "      <td>1.0</td>\n",
       "      <td>0.505714</td>\n",
       "      <td>4.0</td>\n",
       "      <td>0.0</td>\n",
       "      <td>15.0</td>\n",
       "      <td>2.0</td>\n",
       "      <td>2.00</td>\n",
       "      <td>3.0</td>\n",
       "      <td>194.0</td>\n",
       "      <td>0.0</td>\n",
       "      <td>1.0</td>\n",
       "      <td>0.0</td>\n",
       "      <td>0</td>\n",
       "    </tr>\n",
       "  </tbody>\n",
       "</table>\n",
       "<p>350 rows × 19 columns</p>\n",
       "</div>"
      ],
      "text/plain": [
       "     Tenure  CityTier  WarehouseToHome  PreferredPaymentMode  HourSpendOnApp  \\\n",
       "0       1.0       1.0              7.0              0.080000             4.0   \n",
       "1      15.0       3.0              9.0              0.388571             3.0   \n",
       "2      13.0       3.0             29.0              0.308571             3.0   \n",
       "3       5.0       3.0              7.0              0.388571             4.0   \n",
       "4      13.0       3.0              7.0              0.388571             4.0   \n",
       "..      ...       ...              ...                   ...             ...   \n",
       "345     3.0       3.0             34.0              0.308571             4.0   \n",
       "346    15.0       3.0             14.0              0.388571             2.0   \n",
       "347     4.0       1.0             12.0              0.388571             3.0   \n",
       "348    17.0       1.0              6.0              0.131429             3.0   \n",
       "349     3.0       1.0             27.0              0.131429             3.0   \n",
       "\n",
       "     NumberOfDeviceRegistered  SatisfactionScore  MaritalStatus  \\\n",
       "0                         6.0                5.0       0.320000   \n",
       "1                         1.0                1.0       0.505714   \n",
       "2                         4.0                5.0       0.320000   \n",
       "3                         5.0                5.0       0.505714   \n",
       "4                         5.0                1.0       0.505714   \n",
       "..                        ...                ...            ...   \n",
       "345                       4.0                3.0       0.174286   \n",
       "346                       3.0                3.0       0.320000   \n",
       "347                       4.0                2.0       0.174286   \n",
       "348                       3.0                3.0       0.174286   \n",
       "349                       4.0                1.0       0.505714   \n",
       "\n",
       "     NumberOfAddress  Complain  OrderAmountHikeFromlastYear  CouponUsed  \\\n",
       "0                2.0       0.0                         22.0         2.0   \n",
       "1                3.0      -1.0                         13.0         1.0   \n",
       "2                3.0      -1.0                         14.0         2.0   \n",
       "3                3.0       0.0                         13.0         4.0   \n",
       "4                3.0       0.0                         17.0        10.0   \n",
       "..               ...       ...                          ...         ...   \n",
       "345              6.0       0.0                         13.0         2.0   \n",
       "346              5.0       0.0                         13.0         1.0   \n",
       "347              4.0       0.0                         13.0         3.0   \n",
       "348              8.0       0.0                         12.0         1.0   \n",
       "349              4.0       0.0                         15.0         2.0   \n",
       "\n",
       "     OrderCount  DaySinceLastOrder  CashbackAmount  0_PreferredLoginDevice  \\\n",
       "0          2.00                1.0           148.0                     1.0   \n",
       "1          1.00                3.0           152.0                     0.0   \n",
       "2          4.50                9.0           234.0                     1.0   \n",
       "3          4.00                3.0           147.0                     0.0   \n",
       "4          7.25                9.0           252.0                     0.0   \n",
       "..          ...                ...             ...                     ...   \n",
       "345        2.00                2.0           168.0                     0.0   \n",
       "346        1.00                0.0           140.0                     0.0   \n",
       "347        8.00                7.5           219.0                     0.0   \n",
       "348        1.00                0.0           148.0                     1.0   \n",
       "349        2.00                3.0           194.0                     0.0   \n",
       "\n",
       "     1_PreferredLoginDevice  0_Gender  Churn  \n",
       "0                       0.0       1.0      1  \n",
       "1                       1.0       1.0      0  \n",
       "2                       0.0       1.0      0  \n",
       "3                       1.0       0.0      0  \n",
       "4                       1.0       1.0      0  \n",
       "..                      ...       ...    ...  \n",
       "345                     1.0       1.0      0  \n",
       "346                     1.0       0.0      0  \n",
       "347                     1.0       1.0      0  \n",
       "348                     0.0       1.0      0  \n",
       "349                     1.0       0.0      0  \n",
       "\n",
       "[350 rows x 19 columns]"
      ]
     },
     "execution_count": 179,
     "metadata": {},
     "output_type": "execute_result"
    }
   ],
   "source": [
    "\n",
    "#Test data after the feature transformations\n",
    "test_df\n"
   ]
  },
  {
   "cell_type": "code",
   "execution_count": 181,
   "id": "a625c1c4-8ba1-4ef0-aa7f-a07908b39bca",
   "metadata": {},
   "outputs": [
    {
     "data": {
      "text/plain": [
       "Churn\n",
       "0    286\n",
       "1     64\n",
       "Name: count, dtype: int64"
      ]
     },
     "execution_count": 181,
     "metadata": {},
     "output_type": "execute_result"
    }
   ],
   "source": [
    "\n",
    "#Spread of the target variable in the test data\n",
    "test_df[\"Churn\"].value_counts(dropna=False)\n"
   ]
  },
  {
   "cell_type": "markdown",
   "id": "b35c2ac3-9983-43c7-aca3-43cc485942c4",
   "metadata": {},
   "source": [
    "\n",
    "## Prediction function to predict on unseen data using the best random forest classifier(RFC) estimator selected through the function grid_search\n"
   ]
  },
  {
   "cell_type": "code",
   "execution_count": 195,
   "id": "247211b7-6bb9-42c8-972d-15513c1ee39c",
   "metadata": {},
   "outputs": [],
   "source": [
    "\n",
    "def final_predictions(df, model, date, version, model_name):\n",
    "    df_test = df.copy()\n",
    "    start = time.time()\n",
    "    f_open = open(f'Final Predictions - {model_name} - {version}.txt','a')\n",
    "    test_y = df_test[\"Churn\"]\n",
    "    df_test.drop(\"Churn\", axis=1, inplace=True)\n",
    "    y_pred_test = model.predict(df_test.values)            \n",
    "    f1_score_test = round(f1_score(test_y, y_pred_test), 2)\n",
    "    precision_test, recall_test, thresholds_test = precision_recall_curve(test_y, y_pred_test)\n",
    "    f_open.write('                                                  \\n')\n",
    "    f_open.write('##################################################\\n')\n",
    "    f_open.write(\"Final f1_score on test data is {}\\n\".format(f1_score_test))\n",
    "    f_open.write('                                                  \\n')\n",
    "    f_open.write('##################################################\\n')\n",
    "    f_open.write(\"confusion_matrix for test data is\\n {}\".format(confusion_matrix(test_y, y_pred_test)))\n",
    "    f_open.write('                                                  \\n')\n",
    "    f_open.write('##################################################\\n')\n",
    "    f_open.write(\"The Precision for test data is {}\\n\".format(precision_test))\n",
    "    f_open.write('                                                  \\n')\n",
    "    f_open.write(\"The Recall for test data is {}\\n\".format(recall_test))\n",
    "    f_open.write('                                                  \\n')\n",
    "    f_open.write(\"The thresholds for test data is {}\\n\".format(thresholds_test))\n",
    "    f_open.write('##################################################\\n')\n",
    "    f_open.write('                                                  \\n')\n",
    "    f_open.write(\"Total time taken {}\\n\".format(str(time.time() - start)))\n",
    "    plt.xlabel('Recall')\n",
    "    plt.ylabel('Precision')\n",
    "    plt.title('Precision-Recall Curve for test data')\n",
    "    plt.plot(recall_test, precision_test, label='Precision-Recall curve')     \n",
    "    figuresave_name_test = 'Precision-Recall Curve'+'_'+model_name+date+'_'+version+'.png'\n",
    "    plt.savefig(figuresave_name_test)\n",
    "    f_open.close()\n",
    "    return f1_score_test\n",
    "    \n",
    "    \n"
   ]
  },
  {
   "cell_type": "markdown",
   "id": "b026a4fc-70e2-4210-ae21-5a17b04f9e7d",
   "metadata": {},
   "source": [
    "\n",
    "## Precision-Recall Curve for the test data showcasing the best-trained model's performance\n"
   ]
  },
  {
   "cell_type": "code",
   "execution_count": 196,
   "id": "525667fe-1f25-4d71-b3e8-457f024e0031",
   "metadata": {},
   "outputs": [
    {
     "name": "stderr",
     "output_type": "stream",
     "text": [
      "/Users/chidam_sp/Library/Python/3.9/lib/python/site-packages/sklearn/base.py:465: UserWarning: X does not have valid feature names, but RandomForestClassifier was fitted with feature names\n",
      "  warnings.warn(\n"
     ]
    },
    {
     "data": {
      "image/png": "[encoded data removed]",
      "text/plain": [
       "<Figure size 640x480 with 1 Axes>"
      ]
     },
     "metadata": {},
     "output_type": "display_data"
    }
   ],
   "source": [
    "\n",
    "f1_score_test = final_predictions(test_df, grid_search_result.best_estimator_, 'Jan 8', 'prediction_version', \"RFC_for_churn\")\n"
   ]
  }
 ],
 "metadata": {
  "kernelspec": {
   "display_name": "Python 3 (ipykernel)",
   "language": "python",
   "name": "python3"
  },
  "language_info": {
   "codemirror_mode": {
    "name": "ipython",
    "version": 3
   },
   "file_extension": ".py",
   "mimetype": "text/x-python",
   "name": "python",
   "nbconvert_exporter": "python",
   "pygments_lexer": "ipython3",
   "version": "3.9.6"
  }
 },
 "nbformat": 4,
 "nbformat_minor": 5
}
